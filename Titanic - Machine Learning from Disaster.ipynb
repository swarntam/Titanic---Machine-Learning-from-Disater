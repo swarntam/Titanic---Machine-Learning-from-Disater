{
 "cells": [
  {
   "cell_type": "code",
   "execution_count": null,
   "id": "4de09fee",
   "metadata": {},
   "outputs": [],
   "source": [
    "# Importing the required libraries.\n",
    "import numpy as np\n",
    "import pandas as pd\n",
    "import matplotlib.pyplot as plt\n",
    "import seaborn as sns\n",
    "from nameparser import HumanName\n",
    "sns.set()\n",
    "\n",
    "from sklearn.model_selection import train_test_split, GridSearchCV\n",
    "from sklearn.ensemble import RandomForestRegressor, RandomForestClassifier\n",
    "from sklearn.naive_bayes import ComplementNB\n",
    "from sklearn.svm import SVC\n",
    "from sklearn.tree import DecisionTreeClassifier\n",
    "from sklearn.metrics import classification_report,ConfusionMatrixDisplay,f1_score\n",
    "from sklearn.metrics import roc_auc_score,roc_curve\n",
    "from sklearn.preprocessing import OrdinalEncoder\n",
    "from xgboost import XGBClassifier\n",
    "\n",
    "import warnings\n",
    "warnings.filterwarnings('ignore')"
   ]
  },
  {
   "cell_type": "code",
   "execution_count": 2,
   "id": "8a529cd0",
   "metadata": {},
   "outputs": [],
   "source": [
    "# Importng the data in python environment.\n",
    "train = pd.read_csv('train.csv')\n",
    "train_df = train.copy()\n",
    "test = pd.read_csv('test.csv')\n",
    "test_df = test.copy()"
   ]
  },
  {
   "cell_type": "code",
   "execution_count": 3,
   "id": "f3f8919f",
   "metadata": {},
   "outputs": [
    {
     "data": {
      "text/html": [
       "<div>\n",
       "<style scoped>\n",
       "    .dataframe tbody tr th:only-of-type {\n",
       "        vertical-align: middle;\n",
       "    }\n",
       "\n",
       "    .dataframe tbody tr th {\n",
       "        vertical-align: top;\n",
       "    }\n",
       "\n",
       "    .dataframe thead th {\n",
       "        text-align: right;\n",
       "    }\n",
       "</style>\n",
       "<table border=\"1\" class=\"dataframe\">\n",
       "  <thead>\n",
       "    <tr style=\"text-align: right;\">\n",
       "      <th></th>\n",
       "      <th>PassengerId</th>\n",
       "      <th>Survived</th>\n",
       "      <th>Pclass</th>\n",
       "      <th>Name</th>\n",
       "      <th>Sex</th>\n",
       "      <th>Age</th>\n",
       "      <th>SibSp</th>\n",
       "      <th>Parch</th>\n",
       "      <th>Ticket</th>\n",
       "      <th>Fare</th>\n",
       "      <th>Cabin</th>\n",
       "      <th>Embarked</th>\n",
       "    </tr>\n",
       "  </thead>\n",
       "  <tbody>\n",
       "    <tr>\n",
       "      <th>0</th>\n",
       "      <td>1</td>\n",
       "      <td>0</td>\n",
       "      <td>3</td>\n",
       "      <td>Braund, Mr. Owen Harris</td>\n",
       "      <td>male</td>\n",
       "      <td>22.0</td>\n",
       "      <td>1</td>\n",
       "      <td>0</td>\n",
       "      <td>A/5 21171</td>\n",
       "      <td>7.2500</td>\n",
       "      <td>NaN</td>\n",
       "      <td>S</td>\n",
       "    </tr>\n",
       "    <tr>\n",
       "      <th>1</th>\n",
       "      <td>2</td>\n",
       "      <td>1</td>\n",
       "      <td>1</td>\n",
       "      <td>Cumings, Mrs. John Bradley (Florence Briggs Th...</td>\n",
       "      <td>female</td>\n",
       "      <td>38.0</td>\n",
       "      <td>1</td>\n",
       "      <td>0</td>\n",
       "      <td>PC 17599</td>\n",
       "      <td>71.2833</td>\n",
       "      <td>C85</td>\n",
       "      <td>C</td>\n",
       "    </tr>\n",
       "    <tr>\n",
       "      <th>2</th>\n",
       "      <td>3</td>\n",
       "      <td>1</td>\n",
       "      <td>3</td>\n",
       "      <td>Heikkinen, Miss. Laina</td>\n",
       "      <td>female</td>\n",
       "      <td>26.0</td>\n",
       "      <td>0</td>\n",
       "      <td>0</td>\n",
       "      <td>STON/O2. 3101282</td>\n",
       "      <td>7.9250</td>\n",
       "      <td>NaN</td>\n",
       "      <td>S</td>\n",
       "    </tr>\n",
       "  </tbody>\n",
       "</table>\n",
       "</div>"
      ],
      "text/plain": [
       "   PassengerId  Survived  Pclass  \\\n",
       "0            1         0       3   \n",
       "1            2         1       1   \n",
       "2            3         1       3   \n",
       "\n",
       "                                                Name     Sex   Age  SibSp  \\\n",
       "0                            Braund, Mr. Owen Harris    male  22.0      1   \n",
       "1  Cumings, Mrs. John Bradley (Florence Briggs Th...  female  38.0      1   \n",
       "2                             Heikkinen, Miss. Laina  female  26.0      0   \n",
       "\n",
       "   Parch            Ticket     Fare Cabin Embarked  \n",
       "0      0         A/5 21171   7.2500   NaN        S  \n",
       "1      0          PC 17599  71.2833   C85        C  \n",
       "2      0  STON/O2. 3101282   7.9250   NaN        S  "
      ]
     },
     "execution_count": 3,
     "metadata": {},
     "output_type": "execute_result"
    }
   ],
   "source": [
    "train_df.head(3)"
   ]
  },
  {
   "cell_type": "code",
   "execution_count": 4,
   "id": "865bee9b",
   "metadata": {},
   "outputs": [
    {
     "data": {
      "text/html": [
       "<div>\n",
       "<style scoped>\n",
       "    .dataframe tbody tr th:only-of-type {\n",
       "        vertical-align: middle;\n",
       "    }\n",
       "\n",
       "    .dataframe tbody tr th {\n",
       "        vertical-align: top;\n",
       "    }\n",
       "\n",
       "    .dataframe thead th {\n",
       "        text-align: right;\n",
       "    }\n",
       "</style>\n",
       "<table border=\"1\" class=\"dataframe\">\n",
       "  <thead>\n",
       "    <tr style=\"text-align: right;\">\n",
       "      <th></th>\n",
       "      <th>PassengerId</th>\n",
       "      <th>Pclass</th>\n",
       "      <th>Name</th>\n",
       "      <th>Sex</th>\n",
       "      <th>Age</th>\n",
       "      <th>SibSp</th>\n",
       "      <th>Parch</th>\n",
       "      <th>Ticket</th>\n",
       "      <th>Fare</th>\n",
       "      <th>Cabin</th>\n",
       "      <th>Embarked</th>\n",
       "    </tr>\n",
       "  </thead>\n",
       "  <tbody>\n",
       "    <tr>\n",
       "      <th>0</th>\n",
       "      <td>892</td>\n",
       "      <td>3</td>\n",
       "      <td>Kelly, Mr. James</td>\n",
       "      <td>male</td>\n",
       "      <td>34.5</td>\n",
       "      <td>0</td>\n",
       "      <td>0</td>\n",
       "      <td>330911</td>\n",
       "      <td>7.8292</td>\n",
       "      <td>NaN</td>\n",
       "      <td>Q</td>\n",
       "    </tr>\n",
       "    <tr>\n",
       "      <th>1</th>\n",
       "      <td>893</td>\n",
       "      <td>3</td>\n",
       "      <td>Wilkes, Mrs. James (Ellen Needs)</td>\n",
       "      <td>female</td>\n",
       "      <td>47.0</td>\n",
       "      <td>1</td>\n",
       "      <td>0</td>\n",
       "      <td>363272</td>\n",
       "      <td>7.0000</td>\n",
       "      <td>NaN</td>\n",
       "      <td>S</td>\n",
       "    </tr>\n",
       "    <tr>\n",
       "      <th>2</th>\n",
       "      <td>894</td>\n",
       "      <td>2</td>\n",
       "      <td>Myles, Mr. Thomas Francis</td>\n",
       "      <td>male</td>\n",
       "      <td>62.0</td>\n",
       "      <td>0</td>\n",
       "      <td>0</td>\n",
       "      <td>240276</td>\n",
       "      <td>9.6875</td>\n",
       "      <td>NaN</td>\n",
       "      <td>Q</td>\n",
       "    </tr>\n",
       "  </tbody>\n",
       "</table>\n",
       "</div>"
      ],
      "text/plain": [
       "   PassengerId  Pclass                              Name     Sex   Age  SibSp  \\\n",
       "0          892       3                  Kelly, Mr. James    male  34.5      0   \n",
       "1          893       3  Wilkes, Mrs. James (Ellen Needs)  female  47.0      1   \n",
       "2          894       2         Myles, Mr. Thomas Francis    male  62.0      0   \n",
       "\n",
       "   Parch  Ticket    Fare Cabin Embarked  \n",
       "0      0  330911  7.8292   NaN        Q  \n",
       "1      0  363272  7.0000   NaN        S  \n",
       "2      0  240276  9.6875   NaN        Q  "
      ]
     },
     "execution_count": 4,
     "metadata": {},
     "output_type": "execute_result"
    }
   ],
   "source": [
    "test_df.head(3)"
   ]
  },
  {
   "cell_type": "code",
   "execution_count": 5,
   "id": "58a63554",
   "metadata": {},
   "outputs": [
    {
     "name": "stdout",
     "output_type": "stream",
     "text": [
      "Shape of train dataset =  (891, 12)\n",
      "shape of test dataset =  (418, 11)\n"
     ]
    }
   ],
   "source": [
    "print('Shape of train dataset = ',train_df.shape)\n",
    "print('shape of test dataset = ',test_df.shape)"
   ]
  },
  {
   "cell_type": "markdown",
   "id": "77b8d4a0",
   "metadata": {},
   "source": [
    "The test dataset is only for prediction , we will have our analysis on train dataset only. Any changes made to train datasets would follow same changes in test data too."
   ]
  },
  {
   "cell_type": "markdown",
   "id": "ea871e9e",
   "metadata": {},
   "source": [
    "### Data Preprocessing"
   ]
  },
  {
   "cell_type": "code",
   "execution_count": 6,
   "id": "d2c5f922",
   "metadata": {},
   "outputs": [
    {
     "data": {
      "text/plain": [
       "True"
      ]
     },
     "execution_count": 6,
     "metadata": {},
     "output_type": "execute_result"
    }
   ],
   "source": [
    "train_df['PassengerId'].nunique() == len(train_df)"
   ]
  },
  {
   "cell_type": "markdown",
   "id": "0648225f",
   "metadata": {},
   "source": [
    "From above, we can conclude PassengerId is just unique integer values for every record. As such, we can drop them for analysis."
   ]
  },
  {
   "cell_type": "code",
   "execution_count": 7,
   "id": "81e9e169",
   "metadata": {},
   "outputs": [],
   "source": [
    "train_df.drop('PassengerId',axis=1,inplace=True)\n",
    "test_df.drop('PassengerId',axis=1,inplace=True)"
   ]
  },
  {
   "cell_type": "code",
   "execution_count": 8,
   "id": "974c8e8d",
   "metadata": {},
   "outputs": [
    {
     "name": "stdout",
     "output_type": "stream",
     "text": [
      "<class 'pandas.core.frame.DataFrame'>\n",
      "RangeIndex: 891 entries, 0 to 890\n",
      "Data columns (total 11 columns):\n",
      " #   Column    Non-Null Count  Dtype  \n",
      "---  ------    --------------  -----  \n",
      " 0   Survived  891 non-null    int64  \n",
      " 1   Pclass    891 non-null    int64  \n",
      " 2   Name      891 non-null    object \n",
      " 3   Sex       891 non-null    object \n",
      " 4   Age       714 non-null    float64\n",
      " 5   SibSp     891 non-null    int64  \n",
      " 6   Parch     891 non-null    int64  \n",
      " 7   Ticket    891 non-null    object \n",
      " 8   Fare      891 non-null    float64\n",
      " 9   Cabin     204 non-null    object \n",
      " 10  Embarked  889 non-null    object \n",
      "dtypes: float64(2), int64(4), object(5)\n",
      "memory usage: 76.7+ KB\n"
     ]
    }
   ],
   "source": [
    "train_df.info()"
   ]
  },
  {
   "cell_type": "code",
   "execution_count": 9,
   "id": "dac48adc",
   "metadata": {},
   "outputs": [
    {
     "name": "stdout",
     "output_type": "stream",
     "text": [
      "<class 'pandas.core.frame.DataFrame'>\n",
      "RangeIndex: 418 entries, 0 to 417\n",
      "Data columns (total 10 columns):\n",
      " #   Column    Non-Null Count  Dtype  \n",
      "---  ------    --------------  -----  \n",
      " 0   Pclass    418 non-null    int64  \n",
      " 1   Name      418 non-null    object \n",
      " 2   Sex       418 non-null    object \n",
      " 3   Age       332 non-null    float64\n",
      " 4   SibSp     418 non-null    int64  \n",
      " 5   Parch     418 non-null    int64  \n",
      " 6   Ticket    418 non-null    object \n",
      " 7   Fare      417 non-null    float64\n",
      " 8   Cabin     91 non-null     object \n",
      " 9   Embarked  418 non-null    object \n",
      "dtypes: float64(2), int64(3), object(5)\n",
      "memory usage: 32.8+ KB\n"
     ]
    }
   ],
   "source": [
    "test_df.info()"
   ]
  },
  {
   "cell_type": "markdown",
   "id": "cd504d3b",
   "metadata": {},
   "source": [
    "- There are missing values in 3 features in train data.\n",
    "-  There are missing values in 2 features in test data."
   ]
  },
  {
   "cell_type": "markdown",
   "id": "e4f8dece",
   "metadata": {},
   "source": [
    "Let's see percentage of missing values -"
   ]
  },
  {
   "cell_type": "markdown",
   "id": "d6c705e5",
   "metadata": {},
   "source": [
    "#### For train data -"
   ]
  },
  {
   "cell_type": "code",
   "execution_count": 10,
   "id": "af7e58b3",
   "metadata": {},
   "outputs": [
    {
     "data": {
      "text/html": [
       "<div>\n",
       "<style scoped>\n",
       "    .dataframe tbody tr th:only-of-type {\n",
       "        vertical-align: middle;\n",
       "    }\n",
       "\n",
       "    .dataframe tbody tr th {\n",
       "        vertical-align: top;\n",
       "    }\n",
       "\n",
       "    .dataframe thead th {\n",
       "        text-align: right;\n",
       "    }\n",
       "</style>\n",
       "<table border=\"1\" class=\"dataframe\">\n",
       "  <thead>\n",
       "    <tr style=\"text-align: right;\">\n",
       "      <th></th>\n",
       "      <th># Missing values</th>\n",
       "      <th>% Missing</th>\n",
       "    </tr>\n",
       "  </thead>\n",
       "  <tbody>\n",
       "    <tr>\n",
       "      <th>Age</th>\n",
       "      <td>177</td>\n",
       "      <td>19.87</td>\n",
       "    </tr>\n",
       "    <tr>\n",
       "      <th>Cabin</th>\n",
       "      <td>687</td>\n",
       "      <td>77.10</td>\n",
       "    </tr>\n",
       "    <tr>\n",
       "      <th>Embarked</th>\n",
       "      <td>2</td>\n",
       "      <td>0.22</td>\n",
       "    </tr>\n",
       "  </tbody>\n",
       "</table>\n",
       "</div>"
      ],
      "text/plain": [
       "          # Missing values  % Missing\n",
       "Age                    177      19.87\n",
       "Cabin                  687      77.10\n",
       "Embarked                 2       0.22"
      ]
     },
     "execution_count": 10,
     "metadata": {},
     "output_type": "execute_result"
    }
   ],
   "source": [
    "missing_cols_train = [x for x in train_df if train_df[x].isnull().any()]\n",
    "missing_values_sum = train_df[missing_cols_train].isnull().sum()\n",
    "missing_per_train =  missing_values_sum / len(train_df) * 100\n",
    "pd.DataFrame({'# Missing values':missing_values_sum,'% Missing':np.round(missing_per_train,2)})"
   ]
  },
  {
   "cell_type": "markdown",
   "id": "d9a1341b",
   "metadata": {},
   "source": [
    "- Age has nearly 20% of missing values. We can impute the missing values with appropriate method.\n",
    "- Cabin has more than **77%** of missing values. Imputing these much values will make the data biased. The right approach would be to **drop** Cabin column.\n",
    "- Embarked has just 2 missing values which can be imputed with mode of similar records."
   ]
  },
  {
   "cell_type": "markdown",
   "id": "387dd566",
   "metadata": {},
   "source": [
    "#### For test data -"
   ]
  },
  {
   "cell_type": "code",
   "execution_count": 11,
   "id": "1e35026e",
   "metadata": {},
   "outputs": [
    {
     "data": {
      "text/html": [
       "<div>\n",
       "<style scoped>\n",
       "    .dataframe tbody tr th:only-of-type {\n",
       "        vertical-align: middle;\n",
       "    }\n",
       "\n",
       "    .dataframe tbody tr th {\n",
       "        vertical-align: top;\n",
       "    }\n",
       "\n",
       "    .dataframe thead th {\n",
       "        text-align: right;\n",
       "    }\n",
       "</style>\n",
       "<table border=\"1\" class=\"dataframe\">\n",
       "  <thead>\n",
       "    <tr style=\"text-align: right;\">\n",
       "      <th></th>\n",
       "      <th># Missing values</th>\n",
       "      <th>% Missing</th>\n",
       "    </tr>\n",
       "  </thead>\n",
       "  <tbody>\n",
       "    <tr>\n",
       "      <th>Age</th>\n",
       "      <td>86</td>\n",
       "      <td>20.57</td>\n",
       "    </tr>\n",
       "    <tr>\n",
       "      <th>Fare</th>\n",
       "      <td>1</td>\n",
       "      <td>0.24</td>\n",
       "    </tr>\n",
       "    <tr>\n",
       "      <th>Cabin</th>\n",
       "      <td>327</td>\n",
       "      <td>78.23</td>\n",
       "    </tr>\n",
       "  </tbody>\n",
       "</table>\n",
       "</div>"
      ],
      "text/plain": [
       "       # Missing values  % Missing\n",
       "Age                  86      20.57\n",
       "Fare                  1       0.24\n",
       "Cabin               327      78.23"
      ]
     },
     "execution_count": 11,
     "metadata": {},
     "output_type": "execute_result"
    }
   ],
   "source": [
    "missing_cols_test = [x for x in test_df if test_df[x].isnull().any()]\n",
    "missing_values_sum = test_df[missing_cols_test].isnull().sum()\n",
    "missing_per_test =  missing_values_sum / len(test_df) * 100\n",
    "pd.DataFrame({'# Missing values':missing_values_sum,'% Missing':np.round(missing_per_test,2)})"
   ]
  },
  {
   "cell_type": "markdown",
   "id": "4414e98a",
   "metadata": {},
   "source": [
    "- It would make sense to impute the missing values of test data using logic from train data."
   ]
  },
  {
   "cell_type": "markdown",
   "id": "4bbf3356",
   "metadata": {},
   "source": [
    "#### Missing Value Treatment"
   ]
  },
  {
   "cell_type": "markdown",
   "id": "1f527132",
   "metadata": {},
   "source": [
    "1. Embarked in train data"
   ]
  },
  {
   "cell_type": "code",
   "execution_count": 12,
   "id": "64616c52",
   "metadata": {},
   "outputs": [
    {
     "data": {
      "text/plain": [
       "(array([ 61, 829], dtype=int64),)"
      ]
     },
     "execution_count": 12,
     "metadata": {},
     "output_type": "execute_result"
    }
   ],
   "source": [
    "np.where(train_df['Embarked'].isnull())"
   ]
  },
  {
   "cell_type": "code",
   "execution_count": 13,
   "id": "6ed8037b",
   "metadata": {},
   "outputs": [
    {
     "data": {
      "text/html": [
       "<div>\n",
       "<style scoped>\n",
       "    .dataframe tbody tr th:only-of-type {\n",
       "        vertical-align: middle;\n",
       "    }\n",
       "\n",
       "    .dataframe tbody tr th {\n",
       "        vertical-align: top;\n",
       "    }\n",
       "\n",
       "    .dataframe thead th {\n",
       "        text-align: right;\n",
       "    }\n",
       "</style>\n",
       "<table border=\"1\" class=\"dataframe\">\n",
       "  <thead>\n",
       "    <tr style=\"text-align: right;\">\n",
       "      <th></th>\n",
       "      <th>Survived</th>\n",
       "      <th>Pclass</th>\n",
       "      <th>Name</th>\n",
       "      <th>Sex</th>\n",
       "      <th>Age</th>\n",
       "      <th>SibSp</th>\n",
       "      <th>Parch</th>\n",
       "      <th>Ticket</th>\n",
       "      <th>Fare</th>\n",
       "      <th>Cabin</th>\n",
       "      <th>Embarked</th>\n",
       "    </tr>\n",
       "  </thead>\n",
       "  <tbody>\n",
       "    <tr>\n",
       "      <th>61</th>\n",
       "      <td>1</td>\n",
       "      <td>1</td>\n",
       "      <td>Icard, Miss. Amelie</td>\n",
       "      <td>female</td>\n",
       "      <td>38.0</td>\n",
       "      <td>0</td>\n",
       "      <td>0</td>\n",
       "      <td>113572</td>\n",
       "      <td>80.0</td>\n",
       "      <td>B28</td>\n",
       "      <td>NaN</td>\n",
       "    </tr>\n",
       "    <tr>\n",
       "      <th>829</th>\n",
       "      <td>1</td>\n",
       "      <td>1</td>\n",
       "      <td>Stone, Mrs. George Nelson (Martha Evelyn)</td>\n",
       "      <td>female</td>\n",
       "      <td>62.0</td>\n",
       "      <td>0</td>\n",
       "      <td>0</td>\n",
       "      <td>113572</td>\n",
       "      <td>80.0</td>\n",
       "      <td>B28</td>\n",
       "      <td>NaN</td>\n",
       "    </tr>\n",
       "  </tbody>\n",
       "</table>\n",
       "</div>"
      ],
      "text/plain": [
       "     Survived  Pclass                                       Name     Sex  \\\n",
       "61          1       1                        Icard, Miss. Amelie  female   \n",
       "829         1       1  Stone, Mrs. George Nelson (Martha Evelyn)  female   \n",
       "\n",
       "      Age  SibSp  Parch  Ticket  Fare Cabin Embarked  \n",
       "61   38.0      0      0  113572  80.0   B28      NaN  \n",
       "829  62.0      0      0  113572  80.0   B28      NaN  "
      ]
     },
     "execution_count": 13,
     "metadata": {},
     "output_type": "execute_result"
    }
   ],
   "source": [
    "train_df.iloc[[61,829],:]"
   ]
  },
  {
   "cell_type": "markdown",
   "id": "49f68604",
   "metadata": {},
   "source": [
    "Since we have only 2 missing values and both are for survived ones having first class tickets, we can impute missing values with most frequent place for matching enteris."
   ]
  },
  {
   "cell_type": "code",
   "execution_count": 14,
   "id": "fd0b91d3",
   "metadata": {},
   "outputs": [
    {
     "data": {
      "text/plain": [
       "C    17\n",
       "S    14\n",
       "Name: Embarked, dtype: int64"
      ]
     },
     "execution_count": 14,
     "metadata": {},
     "output_type": "execute_result"
    }
   ],
   "source": [
    "train_df.query('Survived==1 & Pclass==1 & Sex==\"female\" & SibSp==0 & Parch==0')['Embarked'].value_counts()"
   ]
  },
  {
   "cell_type": "code",
   "execution_count": 15,
   "id": "a1b44fe8",
   "metadata": {},
   "outputs": [],
   "source": [
    "# Manually imputing the missing values.\n",
    "train_df.iloc[61,-1] = 'C'\n",
    "train_df.iloc[829,-1] = 'C'"
   ]
  },
  {
   "cell_type": "markdown",
   "id": "c649ff6d",
   "metadata": {},
   "source": [
    "2. **Age** in train and test data."
   ]
  },
  {
   "cell_type": "markdown",
   "id": "4124301e",
   "metadata": {},
   "source": [
    "Let's have a look at distribution of Ages -"
   ]
  },
  {
   "cell_type": "code",
   "execution_count": 16,
   "id": "e6a2c46c",
   "metadata": {},
   "outputs": [
    {
     "data": {
      "image/png": "[encoded data removed]",
      "text/plain": [
       "<Figure size 720x432 with 1 Axes>"
      ]
     },
     "metadata": {},
     "output_type": "display_data"
    }
   ],
   "source": [
    "plt.figure(figsize=(10,6))\n",
    "sns.histplot(x='Age',data=train,kde=True)\n",
    "plt.title('Age distribution plot', fontsize=15)\n",
    "plt.show()"
   ]
  },
  {
   "cell_type": "code",
   "execution_count": 17,
   "id": "73464d28",
   "metadata": {},
   "outputs": [
    {
     "data": {
      "text/plain": [
       "count    714.000000\n",
       "mean      29.699118\n",
       "std       14.526497\n",
       "min        0.420000\n",
       "25%       20.125000\n",
       "50%       28.000000\n",
       "75%       38.000000\n",
       "max       80.000000\n",
       "Name: Age, dtype: float64"
      ]
     },
     "execution_count": 17,
     "metadata": {},
     "output_type": "execute_result"
    }
   ],
   "source": [
    "train['Age'].describe()"
   ]
  },
  {
   "cell_type": "markdown",
   "id": "86df9ea0",
   "metadata": {},
   "source": [
    "From the above analysis,\n",
    "- the distribution is slightly skewd.\n",
    "- there is significant variation \n",
    "- imputing with mean or mode won't be an appropriate idea.\n",
    "- it would make more sense if we impute with a model from non-missing train data."
   ]
  },
  {
   "cell_type": "code",
   "execution_count": 18,
   "id": "7e4b621c",
   "metadata": {},
   "outputs": [
    {
     "data": {
      "text/plain": [
       "(714, 10)"
      ]
     },
     "execution_count": 18,
     "metadata": {},
     "output_type": "execute_result"
    }
   ],
   "source": [
    "# Taking a subset of data free of missing values.\n",
    "non_missing_train_df = train_df.drop('Cabin',axis=1).dropna()\n",
    "non_missing_train_df.shape"
   ]
  },
  {
   "cell_type": "code",
   "execution_count": 19,
   "id": "2ad52abc",
   "metadata": {},
   "outputs": [
    {
     "data": {
      "text/plain": [
       "Survived   -0.077221\n",
       "Pclass     -0.369226\n",
       "Age         1.000000\n",
       "SibSp      -0.308247\n",
       "Parch      -0.189119\n",
       "Fare        0.096067\n",
       "Name: Age, dtype: float64"
      ]
     },
     "execution_count": 19,
     "metadata": {},
     "output_type": "execute_result"
    }
   ],
   "source": [
    "non_missing_train_df.corr()['Age']"
   ]
  },
  {
   "cell_type": "markdown",
   "id": "ab9fd723",
   "metadata": {},
   "source": [
    "There isn't any strong correlation with any other variable. Linear model would fail. Let's use a tree-based model.`\n",
    "We can drop 'Survived' column as it is target variable so that there wouldn't be any bias. We'll also drop Name and Ticket."
   ]
  },
  {
   "cell_type": "code",
   "execution_count": 20,
   "id": "a3a4f73b",
   "metadata": {},
   "outputs": [
    {
     "data": {
      "text/plain": [
       "(714, 7)"
      ]
     },
     "execution_count": 20,
     "metadata": {},
     "output_type": "execute_result"
    }
   ],
   "source": [
    "non_missing_train_df.drop(['Survived','Name','Ticket'],axis=1,inplace=True)\n",
    "non_missing_train_df.shape"
   ]
  },
  {
   "cell_type": "code",
   "execution_count": 21,
   "id": "5628b974",
   "metadata": {},
   "outputs": [
    {
     "data": {
      "text/plain": [
       "(714, 8)"
      ]
     },
     "execution_count": 21,
     "metadata": {},
     "output_type": "execute_result"
    }
   ],
   "source": [
    "# Pre-processing the data for model training.\n",
    "non_missing_train_df = pd.get_dummies(non_missing_train_df,drop_first=True)\n",
    "non_missing_train_df.shape"
   ]
  },
  {
   "cell_type": "code",
   "execution_count": 22,
   "id": "df4a11e8",
   "metadata": {},
   "outputs": [
    {
     "data": {
      "text/html": [
       "<div>\n",
       "<style scoped>\n",
       "    .dataframe tbody tr th:only-of-type {\n",
       "        vertical-align: middle;\n",
       "    }\n",
       "\n",
       "    .dataframe tbody tr th {\n",
       "        vertical-align: top;\n",
       "    }\n",
       "\n",
       "    .dataframe thead th {\n",
       "        text-align: right;\n",
       "    }\n",
       "</style>\n",
       "<table border=\"1\" class=\"dataframe\">\n",
       "  <thead>\n",
       "    <tr style=\"text-align: right;\">\n",
       "      <th></th>\n",
       "      <th>Pclass</th>\n",
       "      <th>Age</th>\n",
       "      <th>SibSp</th>\n",
       "      <th>Parch</th>\n",
       "      <th>Fare</th>\n",
       "      <th>Sex_male</th>\n",
       "      <th>Embarked_Q</th>\n",
       "      <th>Embarked_S</th>\n",
       "    </tr>\n",
       "  </thead>\n",
       "  <tbody>\n",
       "    <tr>\n",
       "      <th>0</th>\n",
       "      <td>3</td>\n",
       "      <td>22.0</td>\n",
       "      <td>1</td>\n",
       "      <td>0</td>\n",
       "      <td>7.2500</td>\n",
       "      <td>1</td>\n",
       "      <td>0</td>\n",
       "      <td>1</td>\n",
       "    </tr>\n",
       "    <tr>\n",
       "      <th>1</th>\n",
       "      <td>1</td>\n",
       "      <td>38.0</td>\n",
       "      <td>1</td>\n",
       "      <td>0</td>\n",
       "      <td>71.2833</td>\n",
       "      <td>0</td>\n",
       "      <td>0</td>\n",
       "      <td>0</td>\n",
       "    </tr>\n",
       "    <tr>\n",
       "      <th>2</th>\n",
       "      <td>3</td>\n",
       "      <td>26.0</td>\n",
       "      <td>0</td>\n",
       "      <td>0</td>\n",
       "      <td>7.9250</td>\n",
       "      <td>0</td>\n",
       "      <td>0</td>\n",
       "      <td>1</td>\n",
       "    </tr>\n",
       "  </tbody>\n",
       "</table>\n",
       "</div>"
      ],
      "text/plain": [
       "   Pclass   Age  SibSp  Parch     Fare  Sex_male  Embarked_Q  Embarked_S\n",
       "0       3  22.0      1      0   7.2500         1           0           1\n",
       "1       1  38.0      1      0  71.2833         0           0           0\n",
       "2       3  26.0      0      0   7.9250         0           0           1"
      ]
     },
     "execution_count": 22,
     "metadata": {},
     "output_type": "execute_result"
    }
   ],
   "source": [
    "non_missing_train_df.head(3)"
   ]
  },
  {
   "cell_type": "code",
   "execution_count": 23,
   "id": "0e44d83e",
   "metadata": {},
   "outputs": [
    {
     "data": {
      "text/plain": [
       "RandomForestRegressor()"
      ]
     },
     "execution_count": 23,
     "metadata": {},
     "output_type": "execute_result"
    }
   ],
   "source": [
    "x = non_missing_train_df.drop('Age',axis=1)\n",
    "y = non_missing_train_df['Age']\n",
    "age_predictor = RandomForestRegressor()\n",
    "age_predictor.fit(x,y)"
   ]
  },
  {
   "cell_type": "code",
   "execution_count": 24,
   "id": "a30e9fda",
   "metadata": {},
   "outputs": [
    {
     "data": {
      "text/plain": [
       "0.6928506554131276"
      ]
     },
     "execution_count": 24,
     "metadata": {},
     "output_type": "execute_result"
    }
   ],
   "source": [
    "age_predictor.score(x,y)"
   ]
  },
  {
   "cell_type": "markdown",
   "id": "58a3f1f2",
   "metadata": {},
   "source": [
    "We have about 70% information for prediction. We can use this model to predict missing age values in train and test data."
   ]
  },
  {
   "cell_type": "code",
   "execution_count": 25,
   "id": "5533bfe6",
   "metadata": {},
   "outputs": [
    {
     "data": {
      "text/plain": [
       "(177, 11)"
      ]
     },
     "execution_count": 25,
     "metadata": {},
     "output_type": "execute_result"
    }
   ],
   "source": [
    "missing_age_train_df = train_df[train_df['Age'].isnull()] \n",
    "missing_age_train_df.shape"
   ]
  },
  {
   "cell_type": "code",
   "execution_count": 26,
   "id": "bcf41ac2",
   "metadata": {},
   "outputs": [
    {
     "data": {
      "text/html": [
       "<div>\n",
       "<style scoped>\n",
       "    .dataframe tbody tr th:only-of-type {\n",
       "        vertical-align: middle;\n",
       "    }\n",
       "\n",
       "    .dataframe tbody tr th {\n",
       "        vertical-align: top;\n",
       "    }\n",
       "\n",
       "    .dataframe thead th {\n",
       "        text-align: right;\n",
       "    }\n",
       "</style>\n",
       "<table border=\"1\" class=\"dataframe\">\n",
       "  <thead>\n",
       "    <tr style=\"text-align: right;\">\n",
       "      <th></th>\n",
       "      <th>Pclass</th>\n",
       "      <th>SibSp</th>\n",
       "      <th>Parch</th>\n",
       "      <th>Fare</th>\n",
       "      <th>Sex_male</th>\n",
       "      <th>Embarked_Q</th>\n",
       "      <th>Embarked_S</th>\n",
       "    </tr>\n",
       "  </thead>\n",
       "  <tbody>\n",
       "    <tr>\n",
       "      <th>5</th>\n",
       "      <td>3</td>\n",
       "      <td>0</td>\n",
       "      <td>0</td>\n",
       "      <td>8.4583</td>\n",
       "      <td>1</td>\n",
       "      <td>1</td>\n",
       "      <td>0</td>\n",
       "    </tr>\n",
       "    <tr>\n",
       "      <th>17</th>\n",
       "      <td>2</td>\n",
       "      <td>0</td>\n",
       "      <td>0</td>\n",
       "      <td>13.0000</td>\n",
       "      <td>1</td>\n",
       "      <td>0</td>\n",
       "      <td>1</td>\n",
       "    </tr>\n",
       "    <tr>\n",
       "      <th>19</th>\n",
       "      <td>3</td>\n",
       "      <td>0</td>\n",
       "      <td>0</td>\n",
       "      <td>7.2250</td>\n",
       "      <td>0</td>\n",
       "      <td>0</td>\n",
       "      <td>0</td>\n",
       "    </tr>\n",
       "  </tbody>\n",
       "</table>\n",
       "</div>"
      ],
      "text/plain": [
       "    Pclass  SibSp  Parch     Fare  Sex_male  Embarked_Q  Embarked_S\n",
       "5        3      0      0   8.4583         1           1           0\n",
       "17       2      0      0  13.0000         1           0           1\n",
       "19       3      0      0   7.2250         0           0           0"
      ]
     },
     "execution_count": 26,
     "metadata": {},
     "output_type": "execute_result"
    }
   ],
   "source": [
    "# Reshaping the missing_age_train df so that model can predict on these records.\n",
    "missing_age_train_df.drop(['Survived','Age','Cabin','Name','Ticket'],axis=1,inplace=True)\n",
    "missing_age_train_df = pd.get_dummies(missing_age_train_df, drop_first=True)\n",
    "missing_age_train_df.head(3)"
   ]
  },
  {
   "cell_type": "code",
   "execution_count": 27,
   "id": "8bace15c",
   "metadata": {},
   "outputs": [
    {
     "data": {
      "text/plain": [
       "Int64Index([  5,  17,  19,  26,  28,  29,  31,  32,  36,  42,\n",
       "            ...\n",
       "            832, 837, 839, 846, 849, 859, 863, 868, 878, 888],\n",
       "           dtype='int64', length=177)"
      ]
     },
     "execution_count": 27,
     "metadata": {},
     "output_type": "execute_result"
    }
   ],
   "source": [
    "missing_age_index_train_df = missing_age_train_df.index\n",
    "missing_age_index_train_df"
   ]
  },
  {
   "cell_type": "code",
   "execution_count": 28,
   "id": "3c11f9cb",
   "metadata": {},
   "outputs": [
    {
     "name": "stdout",
     "output_type": "stream",
     "text": [
      "Successfuly Imputed !\n"
     ]
    }
   ],
   "source": [
    "# Looping through each index to populate the missing values of Age in train_df (master) data.\n",
    "for index in missing_age_index_train_df:\n",
    "    model_input = np.array(missing_age_train_df.loc[index].values).reshape(1,7)\n",
    "    train_df.loc[index,'Age'] = np.round(age_predictor.predict(model_input),1)\n",
    "print('Successfuly Imputed !')  "
   ]
  },
  {
   "cell_type": "code",
   "execution_count": 29,
   "id": "78eee01f",
   "metadata": {},
   "outputs": [
    {
     "data": {
      "text/html": [
       "<div>\n",
       "<style scoped>\n",
       "    .dataframe tbody tr th:only-of-type {\n",
       "        vertical-align: middle;\n",
       "    }\n",
       "\n",
       "    .dataframe tbody tr th {\n",
       "        vertical-align: top;\n",
       "    }\n",
       "\n",
       "    .dataframe thead th {\n",
       "        text-align: right;\n",
       "    }\n",
       "</style>\n",
       "<table border=\"1\" class=\"dataframe\">\n",
       "  <thead>\n",
       "    <tr style=\"text-align: right;\">\n",
       "      <th></th>\n",
       "      <th>Pclass</th>\n",
       "      <th>SibSp</th>\n",
       "      <th>Parch</th>\n",
       "      <th>Fare</th>\n",
       "      <th>Sex_male</th>\n",
       "      <th>Embarked_Q</th>\n",
       "      <th>Embarked_S</th>\n",
       "    </tr>\n",
       "  </thead>\n",
       "  <tbody>\n",
       "    <tr>\n",
       "      <th>10</th>\n",
       "      <td>3</td>\n",
       "      <td>0</td>\n",
       "      <td>0</td>\n",
       "      <td>7.8958</td>\n",
       "      <td>1</td>\n",
       "      <td>0</td>\n",
       "      <td>1</td>\n",
       "    </tr>\n",
       "    <tr>\n",
       "      <th>22</th>\n",
       "      <td>1</td>\n",
       "      <td>0</td>\n",
       "      <td>0</td>\n",
       "      <td>31.6833</td>\n",
       "      <td>0</td>\n",
       "      <td>0</td>\n",
       "      <td>1</td>\n",
       "    </tr>\n",
       "    <tr>\n",
       "      <th>29</th>\n",
       "      <td>3</td>\n",
       "      <td>2</td>\n",
       "      <td>0</td>\n",
       "      <td>21.6792</td>\n",
       "      <td>1</td>\n",
       "      <td>0</td>\n",
       "      <td>0</td>\n",
       "    </tr>\n",
       "  </tbody>\n",
       "</table>\n",
       "</div>"
      ],
      "text/plain": [
       "    Pclass  SibSp  Parch     Fare  Sex_male  Embarked_Q  Embarked_S\n",
       "10       3      0      0   7.8958         1           0           1\n",
       "22       1      0      0  31.6833         0           0           1\n",
       "29       3      2      0  21.6792         1           0           0"
      ]
     },
     "execution_count": 29,
     "metadata": {},
     "output_type": "execute_result"
    }
   ],
   "source": [
    "# Reshaping the test data to impute missing values using the same model.\n",
    "missing_age_test_df = test_df[test['Age'].isnull()]\n",
    "missing_age_test_df.drop(['Name','Age','Cabin','Ticket'],axis=1,inplace=True)\n",
    "missing_age_test_df = pd.get_dummies(missing_age_test_df,drop_first=True)\n",
    "missing_age_test_df.head(3)"
   ]
  },
  {
   "cell_type": "code",
   "execution_count": 30,
   "id": "8b248d40",
   "metadata": {},
   "outputs": [
    {
     "data": {
      "text/plain": [
       "Int64Index([ 10,  22,  29,  33,  36,  39,  41,  47,  54,  58,  65,  76,  83,\n",
       "             84,  85,  88,  91,  93, 102, 107, 108, 111, 116, 121, 124, 127,\n",
       "            132, 133, 146, 148, 151, 160, 163, 168, 170, 173, 183, 188, 191,\n",
       "            199, 200, 205, 211, 216, 219, 225, 227, 233, 243, 244, 249, 255,\n",
       "            256, 265, 266, 267, 268, 271, 273, 274, 282, 286, 288, 289, 290,\n",
       "            292, 297, 301, 304, 312, 332, 339, 342, 344, 357, 358, 365, 366,\n",
       "            380, 382, 384, 408, 410, 413, 416, 417],\n",
       "           dtype='int64')"
      ]
     },
     "execution_count": 30,
     "metadata": {},
     "output_type": "execute_result"
    }
   ],
   "source": [
    "missing_age_index_test_df = missing_age_test_df.index\n",
    "missing_age_index_test_df"
   ]
  },
  {
   "cell_type": "code",
   "execution_count": 31,
   "id": "92366199",
   "metadata": {},
   "outputs": [
    {
     "name": "stdout",
     "output_type": "stream",
     "text": [
      "Successfuly Imputed !\n"
     ]
    }
   ],
   "source": [
    "# Looping through each index to populate the missing values of Age in test_df (master) data.\n",
    "for index in missing_age_index_test_df:\n",
    "    model_input = np.array(missing_age_test_df.loc[index].values).reshape(1,7)\n",
    "    test_df.loc[index,'Age'] = np.round(age_predictor.predict(model_input),1)\n",
    "print('Successfuly Imputed !')  "
   ]
  },
  {
   "cell_type": "code",
   "execution_count": 32,
   "id": "1174d169",
   "metadata": {},
   "outputs": [
    {
     "data": {
      "text/plain": [
       "(0, 0)"
      ]
     },
     "execution_count": 32,
     "metadata": {},
     "output_type": "execute_result"
    }
   ],
   "source": [
    "# Verifying the same.\n",
    "train_df['Age'].isnull().sum(), test_df['Age'].isnull().sum()"
   ]
  },
  {
   "cell_type": "markdown",
   "id": "9f774ed4",
   "metadata": {},
   "source": [
    "3. **Fare** in test data ."
   ]
  },
  {
   "cell_type": "code",
   "execution_count": 33,
   "id": "1965a8f5",
   "metadata": {},
   "outputs": [
    {
     "data": {
      "text/plain": [
       "(array([152], dtype=int64),)"
      ]
     },
     "execution_count": 33,
     "metadata": {},
     "output_type": "execute_result"
    }
   ],
   "source": [
    "np.where(test['Fare'].isnull())"
   ]
  },
  {
   "cell_type": "code",
   "execution_count": 34,
   "id": "c9a809a1",
   "metadata": {},
   "outputs": [
    {
     "data": {
      "text/plain": [
       "Pclass                       3\n",
       "Name        Storey, Mr. Thomas\n",
       "Sex                       male\n",
       "Age                       60.5\n",
       "SibSp                        0\n",
       "Parch                        0\n",
       "Ticket                    3701\n",
       "Fare                       NaN\n",
       "Cabin                      NaN\n",
       "Embarked                     S\n",
       "Name: 152, dtype: object"
      ]
     },
     "execution_count": 34,
     "metadata": {},
     "output_type": "execute_result"
    }
   ],
   "source": [
    "test_df.loc[152]"
   ]
  },
  {
   "cell_type": "markdown",
   "id": "7842c574",
   "metadata": {},
   "source": [
    "For Fare, we have just one missing value, we can impute it with Fare of ones matching features from **train_df**."
   ]
  },
  {
   "cell_type": "code",
   "execution_count": 35,
   "id": "b482181c",
   "metadata": {},
   "outputs": [
    {
     "data": {
      "text/html": [
       "<div>\n",
       "<style scoped>\n",
       "    .dataframe tbody tr th:only-of-type {\n",
       "        vertical-align: middle;\n",
       "    }\n",
       "\n",
       "    .dataframe tbody tr th {\n",
       "        vertical-align: top;\n",
       "    }\n",
       "\n",
       "    .dataframe thead th {\n",
       "        text-align: right;\n",
       "    }\n",
       "</style>\n",
       "<table border=\"1\" class=\"dataframe\">\n",
       "  <thead>\n",
       "    <tr style=\"text-align: right;\">\n",
       "      <th></th>\n",
       "      <th>Survived</th>\n",
       "      <th>Pclass</th>\n",
       "      <th>Name</th>\n",
       "      <th>Sex</th>\n",
       "      <th>Age</th>\n",
       "      <th>SibSp</th>\n",
       "      <th>Parch</th>\n",
       "      <th>Ticket</th>\n",
       "      <th>Fare</th>\n",
       "      <th>Cabin</th>\n",
       "      <th>Embarked</th>\n",
       "    </tr>\n",
       "  </thead>\n",
       "  <tbody>\n",
       "    <tr>\n",
       "      <th>326</th>\n",
       "      <td>0</td>\n",
       "      <td>3</td>\n",
       "      <td>Nysveen, Mr. Johan Hansen</td>\n",
       "      <td>male</td>\n",
       "      <td>61.0</td>\n",
       "      <td>0</td>\n",
       "      <td>0</td>\n",
       "      <td>345364</td>\n",
       "      <td>6.2375</td>\n",
       "      <td>NaN</td>\n",
       "      <td>S</td>\n",
       "    </tr>\n",
       "    <tr>\n",
       "      <th>851</th>\n",
       "      <td>0</td>\n",
       "      <td>3</td>\n",
       "      <td>Svensson, Mr. Johan</td>\n",
       "      <td>male</td>\n",
       "      <td>74.0</td>\n",
       "      <td>0</td>\n",
       "      <td>0</td>\n",
       "      <td>347060</td>\n",
       "      <td>7.7750</td>\n",
       "      <td>NaN</td>\n",
       "      <td>S</td>\n",
       "    </tr>\n",
       "  </tbody>\n",
       "</table>\n",
       "</div>"
      ],
      "text/plain": [
       "     Survived  Pclass                       Name   Sex   Age  SibSp  Parch  \\\n",
       "326         0       3  Nysveen, Mr. Johan Hansen  male  61.0      0      0   \n",
       "851         0       3        Svensson, Mr. Johan  male  74.0      0      0   \n",
       "\n",
       "     Ticket    Fare Cabin Embarked  \n",
       "326  345364  6.2375   NaN        S  \n",
       "851  347060  7.7750   NaN        S  "
      ]
     },
     "execution_count": 35,
     "metadata": {},
     "output_type": "execute_result"
    }
   ],
   "source": [
    "train_df.query('Pclass == 3 & Age > 60 & SibSp == 0 & Parch == 0 & Embarked == \"S\" & Sex==\"male\" ')"
   ]
  },
  {
   "cell_type": "markdown",
   "id": "acfe0e8f",
   "metadata": {},
   "source": [
    "We have found 2 matching records, let's just impute it with mean of both fares."
   ]
  },
  {
   "cell_type": "code",
   "execution_count": 36,
   "id": "38cb4816",
   "metadata": {},
   "outputs": [
    {
     "data": {
      "text/plain": [
       "7.00625"
      ]
     },
     "execution_count": 36,
     "metadata": {},
     "output_type": "execute_result"
    }
   ],
   "source": [
    "np.mean([6.2375,7.7750])"
   ]
  },
  {
   "cell_type": "code",
   "execution_count": 37,
   "id": "182dba4b",
   "metadata": {},
   "outputs": [],
   "source": [
    "test_df.loc[152,'Fare'] = 7.00625"
   ]
  },
  {
   "cell_type": "code",
   "execution_count": 38,
   "id": "b7162496",
   "metadata": {},
   "outputs": [
    {
     "data": {
      "text/plain": [
       "0"
      ]
     },
     "execution_count": 38,
     "metadata": {},
     "output_type": "execute_result"
    }
   ],
   "source": [
    "# Verifying the same.\n",
    "test_df['Fare'].isnull().sum()"
   ]
  },
  {
   "cell_type": "markdown",
   "id": "e9bbdb32",
   "metadata": {},
   "source": [
    "4. **Cabin** in train and test data."
   ]
  },
  {
   "cell_type": "code",
   "execution_count": 39,
   "id": "55dc2454",
   "metadata": {},
   "outputs": [
    {
     "data": {
      "text/plain": [
       "array([nan, 'C85', 'C123', 'E46', 'G6', 'C103', 'D56', 'A6',\n",
       "       'C23 C25 C27', 'B78', 'D33', 'B30', 'C52', 'B28', 'C83', 'F33',\n",
       "       'F G73', 'E31', 'A5', 'D10 D12', 'D26', 'C110', 'B58 B60', 'E101',\n",
       "       'F E69', 'D47', 'B86', 'F2', 'C2', 'E33', 'B19', 'A7', 'C49', 'F4',\n",
       "       'A32', 'B4', 'B80', 'A31', 'D36', 'D15', 'C93', 'C78', 'D35',\n",
       "       'C87', 'B77', 'E67', 'B94', 'C125', 'C99', 'C118', 'D7', 'A19',\n",
       "       'B49', 'D', 'C22 C26', 'C106', 'C65', 'E36', 'C54',\n",
       "       'B57 B59 B63 B66', 'C7', 'E34', 'C32', 'B18', 'C124', 'C91', 'E40',\n",
       "       'T', 'C128', 'D37', 'B35', 'E50', 'C82', 'B96 B98', 'E10', 'E44',\n",
       "       'A34', 'C104', 'C111', 'C92', 'E38', 'D21', 'E12', 'E63', 'A14',\n",
       "       'B37', 'C30', 'D20', 'B79', 'E25', 'D46', 'B73', 'C95', 'B38',\n",
       "       'B39', 'B22', 'C86', 'C70', 'A16', 'C101', 'C68', 'A10', 'E68',\n",
       "       'B41', 'A20', 'D19', 'D50', 'D9', 'A23', 'B50', 'A26', 'D48',\n",
       "       'E58', 'C126', 'B71', 'B51 B53 B55', 'D49', 'B5', 'B20', 'F G63',\n",
       "       'C62 C64', 'E24', 'C90', 'C45', 'E8', 'B101', 'D45', 'C46', 'D30',\n",
       "       'E121', 'D11', 'E77', 'F38', 'B3', 'D6', 'B82 B84', 'D17', 'A36',\n",
       "       'B102', 'B69', 'E49', 'C47', 'D28', 'E17', 'A24', 'C50', 'B42',\n",
       "       'C148'], dtype=object)"
      ]
     },
     "execution_count": 39,
     "metadata": {},
     "output_type": "execute_result"
    }
   ],
   "source": [
    "train_df['Cabin'].unique()"
   ]
  },
  {
   "cell_type": "markdown",
   "id": "7e574392",
   "metadata": {},
   "source": [
    "Looking at values, we can notice a pattern. The alphabet in each value corresponds to specific deck.\n",
    "- We can extract deck for known ones.\n",
    "- For missing ones, we can replace it with \"U\" for unknown."
   ]
  },
  {
   "cell_type": "code",
   "execution_count": 40,
   "id": "c0648a3f",
   "metadata": {},
   "outputs": [],
   "source": [
    "def find_deck(cabin):\n",
    "    try :\n",
    "        return cabin[0]\n",
    "    except :\n",
    "        return 'U'"
   ]
  },
  {
   "cell_type": "code",
   "execution_count": 41,
   "id": "52af7b91",
   "metadata": {},
   "outputs": [],
   "source": [
    "train_df['Deck'] = train_df['Cabin'].apply(find_deck)\n",
    "test_df['Deck'] = test_df['Cabin'].apply(find_deck)"
   ]
  },
  {
   "cell_type": "code",
   "execution_count": 42,
   "id": "c62cf20f",
   "metadata": {},
   "outputs": [
    {
     "data": {
      "text/plain": [
       "array(['U', 'C', 'E', 'G', 'D', 'A', 'B', 'F', 'T'], dtype=object)"
      ]
     },
     "execution_count": 42,
     "metadata": {},
     "output_type": "execute_result"
    }
   ],
   "source": [
    "train_df['Deck'].unique()"
   ]
  },
  {
   "cell_type": "code",
   "execution_count": 43,
   "id": "bdfccb73",
   "metadata": {},
   "outputs": [
    {
     "data": {
      "text/plain": [
       "array(['U', 'B', 'E', 'A', 'C', 'D', 'F', 'G'], dtype=object)"
      ]
     },
     "execution_count": 43,
     "metadata": {},
     "output_type": "execute_result"
    }
   ],
   "source": [
    "test_df['Deck'].unique()"
   ]
  },
  {
   "cell_type": "markdown",
   "id": "cac841a3",
   "metadata": {},
   "source": [
    "Now we can drop **Cabin** from both datasets."
   ]
  },
  {
   "cell_type": "code",
   "execution_count": 44,
   "id": "f3668c53",
   "metadata": {},
   "outputs": [],
   "source": [
    "train_df.drop('Cabin',axis=1,inplace=True)\n",
    "test_df.drop('Cabin',axis=1,inplace=True)"
   ]
  },
  {
   "cell_type": "code",
   "execution_count": 45,
   "id": "9747517a",
   "metadata": {},
   "outputs": [
    {
     "data": {
      "text/plain": [
       "(0, 0)"
      ]
     },
     "execution_count": 45,
     "metadata": {},
     "output_type": "execute_result"
    }
   ],
   "source": [
    "train_df.isnull().sum().sum(),test_df.isnull().sum().sum()"
   ]
  },
  {
   "cell_type": "markdown",
   "id": "6fb73273",
   "metadata": {},
   "source": [
    "Now, we have no missing values. We can proceed to EDA."
   ]
  },
  {
   "cell_type": "markdown",
   "id": "ad925441",
   "metadata": {},
   "source": [
    "We will have all our analysis on train data only."
   ]
  },
  {
   "cell_type": "markdown",
   "id": "a46e9486",
   "metadata": {},
   "source": [
    "### Exploratory Data Analysis"
   ]
  },
  {
   "cell_type": "code",
   "execution_count": 46,
   "id": "9e89bd89",
   "metadata": {},
   "outputs": [
    {
     "data": {
      "text/plain": [
       "(891, 11)"
      ]
     },
     "execution_count": 46,
     "metadata": {},
     "output_type": "execute_result"
    }
   ],
   "source": [
    "train_df.shape"
   ]
  },
  {
   "cell_type": "code",
   "execution_count": 47,
   "id": "8e8aff89",
   "metadata": {},
   "outputs": [
    {
     "data": {
      "text/html": [
       "<div>\n",
       "<style scoped>\n",
       "    .dataframe tbody tr th:only-of-type {\n",
       "        vertical-align: middle;\n",
       "    }\n",
       "\n",
       "    .dataframe tbody tr th {\n",
       "        vertical-align: top;\n",
       "    }\n",
       "\n",
       "    .dataframe thead th {\n",
       "        text-align: right;\n",
       "    }\n",
       "</style>\n",
       "<table border=\"1\" class=\"dataframe\">\n",
       "  <thead>\n",
       "    <tr style=\"text-align: right;\">\n",
       "      <th></th>\n",
       "      <th>Survived</th>\n",
       "      <th>Pclass</th>\n",
       "      <th>Name</th>\n",
       "      <th>Sex</th>\n",
       "      <th>Age</th>\n",
       "      <th>SibSp</th>\n",
       "      <th>Parch</th>\n",
       "      <th>Ticket</th>\n",
       "      <th>Fare</th>\n",
       "      <th>Embarked</th>\n",
       "      <th>Deck</th>\n",
       "    </tr>\n",
       "  </thead>\n",
       "  <tbody>\n",
       "    <tr>\n",
       "      <th>0</th>\n",
       "      <td>0</td>\n",
       "      <td>3</td>\n",
       "      <td>Braund, Mr. Owen Harris</td>\n",
       "      <td>male</td>\n",
       "      <td>22.0</td>\n",
       "      <td>1</td>\n",
       "      <td>0</td>\n",
       "      <td>A/5 21171</td>\n",
       "      <td>7.2500</td>\n",
       "      <td>S</td>\n",
       "      <td>U</td>\n",
       "    </tr>\n",
       "    <tr>\n",
       "      <th>1</th>\n",
       "      <td>1</td>\n",
       "      <td>1</td>\n",
       "      <td>Cumings, Mrs. John Bradley (Florence Briggs Th...</td>\n",
       "      <td>female</td>\n",
       "      <td>38.0</td>\n",
       "      <td>1</td>\n",
       "      <td>0</td>\n",
       "      <td>PC 17599</td>\n",
       "      <td>71.2833</td>\n",
       "      <td>C</td>\n",
       "      <td>C</td>\n",
       "    </tr>\n",
       "  </tbody>\n",
       "</table>\n",
       "</div>"
      ],
      "text/plain": [
       "   Survived  Pclass                                               Name  \\\n",
       "0         0       3                            Braund, Mr. Owen Harris   \n",
       "1         1       1  Cumings, Mrs. John Bradley (Florence Briggs Th...   \n",
       "\n",
       "      Sex   Age  SibSp  Parch     Ticket     Fare Embarked Deck  \n",
       "0    male  22.0      1      0  A/5 21171   7.2500        S    U  \n",
       "1  female  38.0      1      0   PC 17599  71.2833        C    C  "
      ]
     },
     "execution_count": 47,
     "metadata": {},
     "output_type": "execute_result"
    }
   ],
   "source": [
    "train_df.head(2)"
   ]
  },
  {
   "cell_type": "code",
   "execution_count": 48,
   "id": "f748d6cd",
   "metadata": {},
   "outputs": [
    {
     "data": {
      "text/html": [
       "<div>\n",
       "<style scoped>\n",
       "    .dataframe tbody tr th:only-of-type {\n",
       "        vertical-align: middle;\n",
       "    }\n",
       "\n",
       "    .dataframe tbody tr th {\n",
       "        vertical-align: top;\n",
       "    }\n",
       "\n",
       "    .dataframe thead th {\n",
       "        text-align: right;\n",
       "    }\n",
       "</style>\n",
       "<table border=\"1\" class=\"dataframe\">\n",
       "  <thead>\n",
       "    <tr style=\"text-align: right;\">\n",
       "      <th></th>\n",
       "      <th># of variables</th>\n",
       "    </tr>\n",
       "  </thead>\n",
       "  <tbody>\n",
       "    <tr>\n",
       "      <th>object</th>\n",
       "      <td>5</td>\n",
       "    </tr>\n",
       "    <tr>\n",
       "      <th>int64</th>\n",
       "      <td>4</td>\n",
       "    </tr>\n",
       "    <tr>\n",
       "      <th>float64</th>\n",
       "      <td>2</td>\n",
       "    </tr>\n",
       "  </tbody>\n",
       "</table>\n",
       "</div>"
      ],
      "text/plain": [
       "         # of variables\n",
       "object                5\n",
       "int64                 4\n",
       "float64               2"
      ]
     },
     "execution_count": 48,
     "metadata": {},
     "output_type": "execute_result"
    }
   ],
   "source": [
    "pd.DataFrame(train_df.dtypes.value_counts(),columns=['# of variables'])"
   ]
  },
  {
   "cell_type": "markdown",
   "id": "07eb949c",
   "metadata": {},
   "source": [
    "-  There are 5 variables having string values, 4 having integer values and 2 having float values. "
   ]
  },
  {
   "cell_type": "markdown",
   "id": "c1caa628",
   "metadata": {},
   "source": [
    "#### Traget Variable Analysis"
   ]
  },
  {
   "cell_type": "code",
   "execution_count": 49,
   "id": "c8076110",
   "metadata": {},
   "outputs": [
    {
     "data": {
      "text/plain": [
       "array([0, 1], dtype=int64)"
      ]
     },
     "execution_count": 49,
     "metadata": {},
     "output_type": "execute_result"
    }
   ],
   "source": [
    "train_df['Survived'].unique()"
   ]
  },
  {
   "cell_type": "markdown",
   "id": "5ca110cb",
   "metadata": {},
   "source": [
    "- The target variable has 2 discrete outcomes making the problem a binary classification."
   ]
  },
  {
   "cell_type": "code",
   "execution_count": 50,
   "id": "b646ac88",
   "metadata": {},
   "outputs": [
    {
     "data": {
      "image/png": "[encoded data removed]",
      "text/plain": [
       "<Figure size 576x360 with 1 Axes>"
      ]
     },
     "metadata": {},
     "output_type": "display_data"
    }
   ],
   "source": [
    "plt.figure(figsize=(8,5))\n",
    "sns.countplot(x='Survived',data=train_df)\n",
    "plt.title('Countplot of Target Variable', fontsize=15)\n",
    "plt.show()"
   ]
  },
  {
   "cell_type": "code",
   "execution_count": 51,
   "id": "66864722",
   "metadata": {},
   "outputs": [
    {
     "data": {
      "text/plain": [
       "0    0.616162\n",
       "1    0.383838\n",
       "Name: Survived, dtype: float64"
      ]
     },
     "execution_count": 51,
     "metadata": {},
     "output_type": "execute_result"
    }
   ],
   "source": [
    "train_df['Survived'].value_counts(normalize=True)"
   ]
  },
  {
   "cell_type": "markdown",
   "id": "65302e80",
   "metadata": {},
   "source": [
    "- The data is unbalanced, there are nearly 61% of records where passengers didn't survive and 38% of ones who survived.\n",
    "- Probability of being survived is less."
   ]
  },
  {
   "cell_type": "markdown",
   "id": "07654fbd",
   "metadata": {},
   "source": [
    "#### Features Analysis"
   ]
  },
  {
   "cell_type": "code",
   "execution_count": 52,
   "id": "b1987264",
   "metadata": {},
   "outputs": [
    {
     "data": {
      "text/plain": [
       "10"
      ]
     },
     "execution_count": 52,
     "metadata": {},
     "output_type": "execute_result"
    }
   ],
   "source": [
    "train_df.drop('Survived',axis=1).shape[1]"
   ]
  },
  {
   "cell_type": "markdown",
   "id": "0d513200",
   "metadata": {},
   "source": [
    " - We have 10 independent variables meant to predict the target variable. "
   ]
  },
  {
   "cell_type": "markdown",
   "id": "b2cf20da",
   "metadata": {},
   "source": [
    "Let's analyze each feature one by one."
   ]
  },
  {
   "cell_type": "markdown",
   "id": "1d3ae84c",
   "metadata": {},
   "source": [
    "#### 1. Pclass"
   ]
  },
  {
   "cell_type": "code",
   "execution_count": 53,
   "id": "2740d160",
   "metadata": {},
   "outputs": [
    {
     "data": {
      "text/plain": [
       "array([3, 1, 2], dtype=int64)"
      ]
     },
     "execution_count": 53,
     "metadata": {},
     "output_type": "execute_result"
    }
   ],
   "source": [
    "train_df['Pclass'].unique()"
   ]
  },
  {
   "cell_type": "markdown",
   "id": "9836831b",
   "metadata": {},
   "source": [
    "- The Pclass represent the ticket class and there are 3 classes. \n",
    "- The datatype is categorical and level of measurement is ordinal."
   ]
  },
  {
   "cell_type": "code",
   "execution_count": 54,
   "id": "41a9dd23",
   "metadata": {},
   "outputs": [
    {
     "data": {
      "text/plain": [
       "3    0.551066\n",
       "1    0.242424\n",
       "2    0.206510\n",
       "Name: Pclass, dtype: float64"
      ]
     },
     "execution_count": 54,
     "metadata": {},
     "output_type": "execute_result"
    }
   ],
   "source": [
    "train_df['Pclass'].value_counts(normalize=True)"
   ]
  },
  {
   "cell_type": "markdown",
   "id": "e6e30e43",
   "metadata": {},
   "source": [
    "- More than half of passengers opted for third class, however there were few people in 2nd class compared to 1st class."
   ]
  },
  {
   "cell_type": "code",
   "execution_count": 55,
   "id": "d0190b7d",
   "metadata": {},
   "outputs": [
    {
     "data": {
      "image/png": "[encoded data removed]",
      "text/plain": [
       "<Figure size 576x432 with 1 Axes>"
      ]
     },
     "metadata": {},
     "output_type": "display_data"
    }
   ],
   "source": [
    "plt.figure(figsize=(8,6))\n",
    "sns.countplot(x='Survived',hue='Pclass', data=train_df)\n",
    "plt.title('Countplot of Survivived or not given Pclass', fontsize=15)\n",
    "plt.show()"
   ]
  },
  {
   "cell_type": "markdown",
   "id": "975c9fe1",
   "metadata": {},
   "source": [
    "The above plot indicates :\n",
    "- Pclass is indicating the chance of survival.\n",
    "- The people from 3rd class has very low probability of survival.\n",
    "- The people from 1st class has high probability of survival"
   ]
  },
  {
   "cell_type": "markdown",
   "id": "6f9f6431",
   "metadata": {},
   "source": [
    "#### 2. Name"
   ]
  },
  {
   "cell_type": "code",
   "execution_count": 56,
   "id": "e063ee0b",
   "metadata": {},
   "outputs": [
    {
     "data": {
      "text/plain": [
       "0                              Braund, Mr. Owen Harris\n",
       "1    Cumings, Mrs. John Bradley (Florence Briggs Th...\n",
       "2                               Heikkinen, Miss. Laina\n",
       "3         Futrelle, Mrs. Jacques Heath (Lily May Peel)\n",
       "4                             Allen, Mr. William Henry\n",
       "Name: Name, dtype: object"
      ]
     },
     "execution_count": 56,
     "metadata": {},
     "output_type": "execute_result"
    }
   ],
   "source": [
    "train_df['Name'][:5]"
   ]
  },
  {
   "cell_type": "markdown",
   "id": "63fd5be0",
   "metadata": {},
   "source": [
    "- This is just name for every passenger, and all of which are unique .\n",
    "- A very interesting information can be deduced from title of name."
   ]
  },
  {
   "cell_type": "markdown",
   "id": "638ecb91",
   "metadata": {},
   "source": [
    "#### 3. Sex"
   ]
  },
  {
   "cell_type": "code",
   "execution_count": 57,
   "id": "c1215460",
   "metadata": {},
   "outputs": [
    {
     "data": {
      "text/plain": [
       "male      577\n",
       "female    314\n",
       "Name: Sex, dtype: int64"
      ]
     },
     "execution_count": 57,
     "metadata": {},
     "output_type": "execute_result"
    }
   ],
   "source": [
    "train_df['Sex'].value_counts()"
   ]
  },
  {
   "cell_type": "code",
   "execution_count": 58,
   "id": "637029a8",
   "metadata": {},
   "outputs": [
    {
     "data": {
      "image/png": "[encoded data removed]",
      "text/plain": [
       "<Figure size 576x432 with 1 Axes>"
      ]
     },
     "metadata": {},
     "output_type": "display_data"
    }
   ],
   "source": [
    "plt.figure(figsize=(8,6))\n",
    "sns.countplot(x='Sex',data=train_df)\n",
    "plt.title('Frequency distribution of Sex', fontsize=15)\n",
    "plt.show()"
   ]
  },
  {
   "cell_type": "markdown",
   "id": "707affcc",
   "metadata": {},
   "source": [
    "- There are more number of males as compared to females.\n",
    "- The data type is categorical and level of measurement is nominal."
   ]
  },
  {
   "cell_type": "code",
   "execution_count": 59,
   "id": "9953d005",
   "metadata": {},
   "outputs": [
    {
     "data": {
      "image/png": "[encoded data removed]",
      "text/plain": [
       "<Figure size 576x432 with 1 Axes>"
      ]
     },
     "metadata": {},
     "output_type": "display_data"
    }
   ],
   "source": [
    "plt.figure(figsize=(8,6))\n",
    "sns.countplot(x='Survived',hue='Sex', data=train_df)\n",
    "plt.title('Countplot of Survivived or not given Sex', fontsize=15)\n",
    "plt.show()"
   ]
  },
  {
   "cell_type": "markdown",
   "id": "e70a3eef",
   "metadata": {},
   "source": [
    "- The males have high probability of being not survived.\n",
    "- The females have more chance of survival."
   ]
  },
  {
   "cell_type": "markdown",
   "id": "46cc1226",
   "metadata": {},
   "source": [
    "#### 4. Age"
   ]
  },
  {
   "cell_type": "code",
   "execution_count": 60,
   "id": "c7959fe8",
   "metadata": {},
   "outputs": [
    {
     "data": {
      "text/plain": [
       "count    891.000000\n",
       "mean      29.520281\n",
       "std       13.744156\n",
       "min        0.420000\n",
       "25%       21.000000\n",
       "50%       28.000000\n",
       "75%       37.000000\n",
       "max       80.000000\n",
       "Name: Age, dtype: float64"
      ]
     },
     "execution_count": 60,
     "metadata": {},
     "output_type": "execute_result"
    }
   ],
   "source": [
    "train_df['Age'].describe()"
   ]
  },
  {
   "cell_type": "markdown",
   "id": "2981980f",
   "metadata": {},
   "source": [
    "- The age is quantative continous variable.\n",
    "- There were people of all ages , from infant to old ones.\n",
    "- The mean is slightly greater than median indicating skewness."
   ]
  },
  {
   "cell_type": "code",
   "execution_count": 61,
   "id": "a4a5d094",
   "metadata": {},
   "outputs": [
    {
     "data": {
      "image/png": "[encoded data removed]",
      "text/plain": [
       "<Figure size 576x432 with 1 Axes>"
      ]
     },
     "metadata": {},
     "output_type": "display_data"
    }
   ],
   "source": [
    "plt.figure(figsize=(8,6))\n",
    "sns.histplot(x='Age',kde=True,data=train_df)\n",
    "plt.title('Age distribution')\n",
    "plt.show()"
   ]
  },
  {
   "cell_type": "markdown",
   "id": "cfa94569",
   "metadata": {},
   "source": [
    "- The distribution seems same as it was before imputing missing values. \n",
    "- The plot indicates outliers."
   ]
  },
  {
   "cell_type": "code",
   "execution_count": 62,
   "id": "3eba7010",
   "metadata": {},
   "outputs": [
    {
     "data": {
      "image/png": "[encoded data removed]",
      "text/plain": [
       "<Figure size 576x432 with 1 Axes>"
      ]
     },
     "metadata": {},
     "output_type": "display_data"
    }
   ],
   "source": [
    "# Outlier Analysis\n",
    "plt.figure(figsize=(8,6))\n",
    "sns.boxplot(train_df['Age'])\n",
    "plt.title('Boxplot of Age')\n",
    "plt.show()"
   ]
  },
  {
   "cell_type": "code",
   "execution_count": 63,
   "id": "dca28840",
   "metadata": {},
   "outputs": [
    {
     "data": {
      "text/html": [
       "<div>\n",
       "<style scoped>\n",
       "    .dataframe tbody tr th:only-of-type {\n",
       "        vertical-align: middle;\n",
       "    }\n",
       "\n",
       "    .dataframe tbody tr th {\n",
       "        vertical-align: top;\n",
       "    }\n",
       "\n",
       "    .dataframe thead th {\n",
       "        text-align: right;\n",
       "    }\n",
       "</style>\n",
       "<table border=\"1\" class=\"dataframe\">\n",
       "  <thead>\n",
       "    <tr style=\"text-align: right;\">\n",
       "      <th></th>\n",
       "      <th>Survived</th>\n",
       "      <th>Pclass</th>\n",
       "      <th>Name</th>\n",
       "      <th>Sex</th>\n",
       "      <th>Age</th>\n",
       "      <th>SibSp</th>\n",
       "      <th>Parch</th>\n",
       "      <th>Ticket</th>\n",
       "      <th>Fare</th>\n",
       "      <th>Embarked</th>\n",
       "      <th>Deck</th>\n",
       "    </tr>\n",
       "  </thead>\n",
       "  <tbody>\n",
       "    <tr>\n",
       "      <th>33</th>\n",
       "      <td>0</td>\n",
       "      <td>2</td>\n",
       "      <td>Wheadon, Mr. Edward H</td>\n",
       "      <td>male</td>\n",
       "      <td>66.0</td>\n",
       "      <td>0</td>\n",
       "      <td>0</td>\n",
       "      <td>C.A. 24579</td>\n",
       "      <td>10.5000</td>\n",
       "      <td>S</td>\n",
       "      <td>U</td>\n",
       "    </tr>\n",
       "    <tr>\n",
       "      <th>54</th>\n",
       "      <td>0</td>\n",
       "      <td>1</td>\n",
       "      <td>Ostby, Mr. Engelhart Cornelius</td>\n",
       "      <td>male</td>\n",
       "      <td>65.0</td>\n",
       "      <td>0</td>\n",
       "      <td>1</td>\n",
       "      <td>113509</td>\n",
       "      <td>61.9792</td>\n",
       "      <td>C</td>\n",
       "      <td>B</td>\n",
       "    </tr>\n",
       "    <tr>\n",
       "      <th>96</th>\n",
       "      <td>0</td>\n",
       "      <td>1</td>\n",
       "      <td>Goldschmidt, Mr. George B</td>\n",
       "      <td>male</td>\n",
       "      <td>71.0</td>\n",
       "      <td>0</td>\n",
       "      <td>0</td>\n",
       "      <td>PC 17754</td>\n",
       "      <td>34.6542</td>\n",
       "      <td>C</td>\n",
       "      <td>A</td>\n",
       "    </tr>\n",
       "    <tr>\n",
       "      <th>116</th>\n",
       "      <td>0</td>\n",
       "      <td>3</td>\n",
       "      <td>Connors, Mr. Patrick</td>\n",
       "      <td>male</td>\n",
       "      <td>70.5</td>\n",
       "      <td>0</td>\n",
       "      <td>0</td>\n",
       "      <td>370369</td>\n",
       "      <td>7.7500</td>\n",
       "      <td>Q</td>\n",
       "      <td>U</td>\n",
       "    </tr>\n",
       "    <tr>\n",
       "      <th>252</th>\n",
       "      <td>0</td>\n",
       "      <td>1</td>\n",
       "      <td>Stead, Mr. William Thomas</td>\n",
       "      <td>male</td>\n",
       "      <td>62.0</td>\n",
       "      <td>0</td>\n",
       "      <td>0</td>\n",
       "      <td>113514</td>\n",
       "      <td>26.5500</td>\n",
       "      <td>S</td>\n",
       "      <td>C</td>\n",
       "    </tr>\n",
       "    <tr>\n",
       "      <th>275</th>\n",
       "      <td>1</td>\n",
       "      <td>1</td>\n",
       "      <td>Andrews, Miss. Kornelia Theodosia</td>\n",
       "      <td>female</td>\n",
       "      <td>63.0</td>\n",
       "      <td>1</td>\n",
       "      <td>0</td>\n",
       "      <td>13502</td>\n",
       "      <td>77.9583</td>\n",
       "      <td>S</td>\n",
       "      <td>D</td>\n",
       "    </tr>\n",
       "    <tr>\n",
       "      <th>280</th>\n",
       "      <td>0</td>\n",
       "      <td>3</td>\n",
       "      <td>Duane, Mr. Frank</td>\n",
       "      <td>male</td>\n",
       "      <td>65.0</td>\n",
       "      <td>0</td>\n",
       "      <td>0</td>\n",
       "      <td>336439</td>\n",
       "      <td>7.7500</td>\n",
       "      <td>Q</td>\n",
       "      <td>U</td>\n",
       "    </tr>\n",
       "    <tr>\n",
       "      <th>438</th>\n",
       "      <td>0</td>\n",
       "      <td>1</td>\n",
       "      <td>Fortune, Mr. Mark</td>\n",
       "      <td>male</td>\n",
       "      <td>64.0</td>\n",
       "      <td>1</td>\n",
       "      <td>4</td>\n",
       "      <td>19950</td>\n",
       "      <td>263.0000</td>\n",
       "      <td>S</td>\n",
       "      <td>C</td>\n",
       "    </tr>\n",
       "    <tr>\n",
       "      <th>456</th>\n",
       "      <td>0</td>\n",
       "      <td>1</td>\n",
       "      <td>Millet, Mr. Francis Davis</td>\n",
       "      <td>male</td>\n",
       "      <td>65.0</td>\n",
       "      <td>0</td>\n",
       "      <td>0</td>\n",
       "      <td>13509</td>\n",
       "      <td>26.5500</td>\n",
       "      <td>S</td>\n",
       "      <td>E</td>\n",
       "    </tr>\n",
       "    <tr>\n",
       "      <th>483</th>\n",
       "      <td>1</td>\n",
       "      <td>3</td>\n",
       "      <td>Turkula, Mrs. (Hedwig)</td>\n",
       "      <td>female</td>\n",
       "      <td>63.0</td>\n",
       "      <td>0</td>\n",
       "      <td>0</td>\n",
       "      <td>4134</td>\n",
       "      <td>9.5875</td>\n",
       "      <td>S</td>\n",
       "      <td>U</td>\n",
       "    </tr>\n",
       "    <tr>\n",
       "      <th>493</th>\n",
       "      <td>0</td>\n",
       "      <td>1</td>\n",
       "      <td>Artagaveytia, Mr. Ramon</td>\n",
       "      <td>male</td>\n",
       "      <td>71.0</td>\n",
       "      <td>0</td>\n",
       "      <td>0</td>\n",
       "      <td>PC 17609</td>\n",
       "      <td>49.5042</td>\n",
       "      <td>C</td>\n",
       "      <td>U</td>\n",
       "    </tr>\n",
       "    <tr>\n",
       "      <th>545</th>\n",
       "      <td>0</td>\n",
       "      <td>1</td>\n",
       "      <td>Nicholson, Mr. Arthur Ernest</td>\n",
       "      <td>male</td>\n",
       "      <td>64.0</td>\n",
       "      <td>0</td>\n",
       "      <td>0</td>\n",
       "      <td>693</td>\n",
       "      <td>26.0000</td>\n",
       "      <td>S</td>\n",
       "      <td>U</td>\n",
       "    </tr>\n",
       "    <tr>\n",
       "      <th>555</th>\n",
       "      <td>0</td>\n",
       "      <td>1</td>\n",
       "      <td>Wright, Mr. George</td>\n",
       "      <td>male</td>\n",
       "      <td>62.0</td>\n",
       "      <td>0</td>\n",
       "      <td>0</td>\n",
       "      <td>113807</td>\n",
       "      <td>26.5500</td>\n",
       "      <td>S</td>\n",
       "      <td>U</td>\n",
       "    </tr>\n",
       "    <tr>\n",
       "      <th>570</th>\n",
       "      <td>1</td>\n",
       "      <td>2</td>\n",
       "      <td>Harris, Mr. George</td>\n",
       "      <td>male</td>\n",
       "      <td>62.0</td>\n",
       "      <td>0</td>\n",
       "      <td>0</td>\n",
       "      <td>S.W./PP 752</td>\n",
       "      <td>10.5000</td>\n",
       "      <td>S</td>\n",
       "      <td>U</td>\n",
       "    </tr>\n",
       "    <tr>\n",
       "      <th>630</th>\n",
       "      <td>1</td>\n",
       "      <td>1</td>\n",
       "      <td>Barkworth, Mr. Algernon Henry Wilson</td>\n",
       "      <td>male</td>\n",
       "      <td>80.0</td>\n",
       "      <td>0</td>\n",
       "      <td>0</td>\n",
       "      <td>27042</td>\n",
       "      <td>30.0000</td>\n",
       "      <td>S</td>\n",
       "      <td>A</td>\n",
       "    </tr>\n",
       "    <tr>\n",
       "      <th>672</th>\n",
       "      <td>0</td>\n",
       "      <td>2</td>\n",
       "      <td>Mitchell, Mr. Henry Michael</td>\n",
       "      <td>male</td>\n",
       "      <td>70.0</td>\n",
       "      <td>0</td>\n",
       "      <td>0</td>\n",
       "      <td>C.A. 24580</td>\n",
       "      <td>10.5000</td>\n",
       "      <td>S</td>\n",
       "      <td>U</td>\n",
       "    </tr>\n",
       "    <tr>\n",
       "      <th>745</th>\n",
       "      <td>0</td>\n",
       "      <td>1</td>\n",
       "      <td>Crosby, Capt. Edward Gifford</td>\n",
       "      <td>male</td>\n",
       "      <td>70.0</td>\n",
       "      <td>1</td>\n",
       "      <td>1</td>\n",
       "      <td>WE/P 5735</td>\n",
       "      <td>71.0000</td>\n",
       "      <td>S</td>\n",
       "      <td>B</td>\n",
       "    </tr>\n",
       "    <tr>\n",
       "      <th>829</th>\n",
       "      <td>1</td>\n",
       "      <td>1</td>\n",
       "      <td>Stone, Mrs. George Nelson (Martha Evelyn)</td>\n",
       "      <td>female</td>\n",
       "      <td>62.0</td>\n",
       "      <td>0</td>\n",
       "      <td>0</td>\n",
       "      <td>113572</td>\n",
       "      <td>80.0000</td>\n",
       "      <td>C</td>\n",
       "      <td>B</td>\n",
       "    </tr>\n",
       "    <tr>\n",
       "      <th>851</th>\n",
       "      <td>0</td>\n",
       "      <td>3</td>\n",
       "      <td>Svensson, Mr. Johan</td>\n",
       "      <td>male</td>\n",
       "      <td>74.0</td>\n",
       "      <td>0</td>\n",
       "      <td>0</td>\n",
       "      <td>347060</td>\n",
       "      <td>7.7750</td>\n",
       "      <td>S</td>\n",
       "      <td>U</td>\n",
       "    </tr>\n",
       "  </tbody>\n",
       "</table>\n",
       "</div>"
      ],
      "text/plain": [
       "     Survived  Pclass                                       Name     Sex  \\\n",
       "33          0       2                      Wheadon, Mr. Edward H    male   \n",
       "54          0       1             Ostby, Mr. Engelhart Cornelius    male   \n",
       "96          0       1                  Goldschmidt, Mr. George B    male   \n",
       "116         0       3                       Connors, Mr. Patrick    male   \n",
       "252         0       1                  Stead, Mr. William Thomas    male   \n",
       "275         1       1          Andrews, Miss. Kornelia Theodosia  female   \n",
       "280         0       3                           Duane, Mr. Frank    male   \n",
       "438         0       1                          Fortune, Mr. Mark    male   \n",
       "456         0       1                  Millet, Mr. Francis Davis    male   \n",
       "483         1       3                     Turkula, Mrs. (Hedwig)  female   \n",
       "493         0       1                    Artagaveytia, Mr. Ramon    male   \n",
       "545         0       1               Nicholson, Mr. Arthur Ernest    male   \n",
       "555         0       1                         Wright, Mr. George    male   \n",
       "570         1       2                         Harris, Mr. George    male   \n",
       "630         1       1       Barkworth, Mr. Algernon Henry Wilson    male   \n",
       "672         0       2                Mitchell, Mr. Henry Michael    male   \n",
       "745         0       1               Crosby, Capt. Edward Gifford    male   \n",
       "829         1       1  Stone, Mrs. George Nelson (Martha Evelyn)  female   \n",
       "851         0       3                        Svensson, Mr. Johan    male   \n",
       "\n",
       "      Age  SibSp  Parch       Ticket      Fare Embarked Deck  \n",
       "33   66.0      0      0   C.A. 24579   10.5000        S    U  \n",
       "54   65.0      0      1       113509   61.9792        C    B  \n",
       "96   71.0      0      0     PC 17754   34.6542        C    A  \n",
       "116  70.5      0      0       370369    7.7500        Q    U  \n",
       "252  62.0      0      0       113514   26.5500        S    C  \n",
       "275  63.0      1      0        13502   77.9583        S    D  \n",
       "280  65.0      0      0       336439    7.7500        Q    U  \n",
       "438  64.0      1      4        19950  263.0000        S    C  \n",
       "456  65.0      0      0        13509   26.5500        S    E  \n",
       "483  63.0      0      0         4134    9.5875        S    U  \n",
       "493  71.0      0      0     PC 17609   49.5042        C    U  \n",
       "545  64.0      0      0          693   26.0000        S    U  \n",
       "555  62.0      0      0       113807   26.5500        S    U  \n",
       "570  62.0      0      0  S.W./PP 752   10.5000        S    U  \n",
       "630  80.0      0      0        27042   30.0000        S    A  \n",
       "672  70.0      0      0   C.A. 24580   10.5000        S    U  \n",
       "745  70.0      1      1    WE/P 5735   71.0000        S    B  \n",
       "829  62.0      0      0       113572   80.0000        C    B  \n",
       "851  74.0      0      0       347060    7.7750        S    U  "
      ]
     },
     "execution_count": 63,
     "metadata": {},
     "output_type": "execute_result"
    }
   ],
   "source": [
    "train_df.query('Age > 61')"
   ]
  },
  {
   "cell_type": "markdown",
   "id": "74ffbeba",
   "metadata": {},
   "source": [
    "- Though, they seems outliers for the given amount of data, but they are not errors. \n",
    "- It is quite possible to have ages above 60 for passengers. \n",
    "- We won't substitute or drop them, instead we'll use models which are less sensitive to outliers."
   ]
  },
  {
   "cell_type": "code",
   "execution_count": 64,
   "id": "bbcfe1a5",
   "metadata": {},
   "outputs": [
    {
     "data": {
      "image/png": "[encoded data removed]",
      "text/plain": [
       "<Figure size 576x432 with 1 Axes>"
      ]
     },
     "metadata": {},
     "output_type": "display_data"
    }
   ],
   "source": [
    "plt.figure(figsize=(8,6))\n",
    "sns.histplot(x='Age',hue='Survived',data=train)\n",
    "plt.title('Age distribution')\n",
    "plt.show()"
   ]
  },
  {
   "cell_type": "code",
   "execution_count": 65,
   "id": "fa03d886",
   "metadata": {},
   "outputs": [
    {
     "data": {
      "text/plain": [
       "<Figure size 864x576 with 0 Axes>"
      ]
     },
     "metadata": {},
     "output_type": "display_data"
    },
    {
     "data": {
      "image/png": "[encoded data removed]",
      "text/plain": [
       "<Figure size 360x360 with 1 Axes>"
      ]
     },
     "metadata": {},
     "output_type": "display_data"
    }
   ],
   "source": [
    "plt.figure(figsize=(12,8))\n",
    "sns.catplot(x='Survived',y='Age',data=train_df,kind='violin')\n",
    "plt.title('Violin Plot of Age ', fontsize=15)\n",
    "plt.show()"
   ]
  },
  {
   "cell_type": "code",
   "execution_count": 66,
   "id": "dd139688",
   "metadata": {},
   "outputs": [
    {
     "data": {
      "text/html": [
       "<div>\n",
       "<style scoped>\n",
       "    .dataframe tbody tr th:only-of-type {\n",
       "        vertical-align: middle;\n",
       "    }\n",
       "\n",
       "    .dataframe tbody tr th {\n",
       "        vertical-align: top;\n",
       "    }\n",
       "\n",
       "    .dataframe thead th {\n",
       "        text-align: right;\n",
       "    }\n",
       "</style>\n",
       "<table border=\"1\" class=\"dataframe\">\n",
       "  <thead>\n",
       "    <tr style=\"text-align: right;\">\n",
       "      <th>Survived</th>\n",
       "      <th>0</th>\n",
       "      <th>1</th>\n",
       "    </tr>\n",
       "  </thead>\n",
       "  <tbody>\n",
       "    <tr>\n",
       "      <th>count</th>\n",
       "      <td>424.000000</td>\n",
       "      <td>290.000000</td>\n",
       "    </tr>\n",
       "    <tr>\n",
       "      <th>mean</th>\n",
       "      <td>30.626179</td>\n",
       "      <td>28.343690</td>\n",
       "    </tr>\n",
       "    <tr>\n",
       "      <th>std</th>\n",
       "      <td>14.172110</td>\n",
       "      <td>14.950952</td>\n",
       "    </tr>\n",
       "    <tr>\n",
       "      <th>min</th>\n",
       "      <td>1.000000</td>\n",
       "      <td>0.420000</td>\n",
       "    </tr>\n",
       "    <tr>\n",
       "      <th>25%</th>\n",
       "      <td>21.000000</td>\n",
       "      <td>19.000000</td>\n",
       "    </tr>\n",
       "    <tr>\n",
       "      <th>50%</th>\n",
       "      <td>28.000000</td>\n",
       "      <td>28.000000</td>\n",
       "    </tr>\n",
       "    <tr>\n",
       "      <th>75%</th>\n",
       "      <td>39.000000</td>\n",
       "      <td>36.000000</td>\n",
       "    </tr>\n",
       "    <tr>\n",
       "      <th>max</th>\n",
       "      <td>74.000000</td>\n",
       "      <td>80.000000</td>\n",
       "    </tr>\n",
       "  </tbody>\n",
       "</table>\n",
       "</div>"
      ],
      "text/plain": [
       "Survived           0           1\n",
       "count     424.000000  290.000000\n",
       "mean       30.626179   28.343690\n",
       "std        14.172110   14.950952\n",
       "min         1.000000    0.420000\n",
       "25%        21.000000   19.000000\n",
       "50%        28.000000   28.000000\n",
       "75%        39.000000   36.000000\n",
       "max        74.000000   80.000000"
      ]
     },
     "execution_count": 66,
     "metadata": {},
     "output_type": "execute_result"
    }
   ],
   "source": [
    "train.groupby('Survived')['Age'].describe().T"
   ]
  },
  {
   "cell_type": "markdown",
   "id": "e9a46b0a",
   "metadata": {},
   "source": [
    "- For extreme ages ,there is high probability of survival.\n",
    "- We can see the median of both survived and non-survived are same.\n",
    "- Age in particular doesn't indicate chances of survival."
   ]
  },
  {
   "cell_type": "markdown",
   "id": "5765c030",
   "metadata": {},
   "source": [
    "#### 5. SibSp"
   ]
  },
  {
   "cell_type": "code",
   "execution_count": 67,
   "id": "21e919ee",
   "metadata": {},
   "outputs": [
    {
     "data": {
      "text/plain": [
       "array([1, 0, 3, 4, 2, 5, 8], dtype=int64)"
      ]
     },
     "execution_count": 67,
     "metadata": {},
     "output_type": "execute_result"
    }
   ],
   "source": [
    "train_df['SibSp'].unique()"
   ]
  },
  {
   "cell_type": "markdown",
   "id": "866a5ed4",
   "metadata": {},
   "source": [
    "- This represents numbers of siblings/spouses aboard the Titanic.\n",
    "- The data type is discrete numerical."
   ]
  },
  {
   "cell_type": "code",
   "execution_count": 68,
   "id": "31f46fe9",
   "metadata": {},
   "outputs": [
    {
     "data": {
      "image/png": "[encoded data removed]",
      "text/plain": [
       "<Figure size 576x432 with 1 Axes>"
      ]
     },
     "metadata": {},
     "output_type": "display_data"
    }
   ],
   "source": [
    "plt.figure(figsize=(8,6))\n",
    "sns.countplot(x='SibSp',data=train_df)\n",
    "plt.title('Countplot for SibSp', fontsize=15)\n",
    "plt.show()"
   ]
  },
  {
   "cell_type": "code",
   "execution_count": 69,
   "id": "bd118fc5",
   "metadata": {},
   "outputs": [
    {
     "data": {
      "text/plain": [
       "0    0.682379\n",
       "1    0.234568\n",
       "2    0.031425\n",
       "4    0.020202\n",
       "3    0.017957\n",
       "8    0.007856\n",
       "5    0.005612\n",
       "Name: SibSp, dtype: float64"
      ]
     },
     "execution_count": 69,
     "metadata": {},
     "output_type": "execute_result"
    }
   ],
   "source": [
    "train_df['SibSp'].value_counts(normalize=True)"
   ]
  },
  {
   "cell_type": "markdown",
   "id": "8773fa02",
   "metadata": {},
   "source": [
    "- Majority of passenger onboard had no siblings or unmarried ones."
   ]
  },
  {
   "cell_type": "code",
   "execution_count": 70,
   "id": "2a6602a0",
   "metadata": {},
   "outputs": [
    {
     "data": {
      "image/png": "[encoded data removed]",
      "text/plain": [
       "<Figure size 576x432 with 1 Axes>"
      ]
     },
     "metadata": {},
     "output_type": "display_data"
    }
   ],
   "source": [
    "plt.figure(figsize=(8,6))\n",
    "sns.countplot(hue='Survived',x='SibSp', data=train_df)\n",
    "plt.title('Countplot of Survivived or not given SibSp', fontsize=15)\n",
    "plt.show()"
   ]
  },
  {
   "cell_type": "markdown",
   "id": "4373c9e9",
   "metadata": {},
   "source": [
    "- The passengers having no siblings/spouse onboard has high probabilty of being not survived."
   ]
  },
  {
   "cell_type": "markdown",
   "id": "b37101a4",
   "metadata": {},
   "source": [
    "#### 6. Parch"
   ]
  },
  {
   "cell_type": "code",
   "execution_count": 71,
   "id": "866ed625",
   "metadata": {},
   "outputs": [
    {
     "data": {
      "text/plain": [
       "array([0, 1, 2, 5, 3, 4, 6], dtype=int64)"
      ]
     },
     "execution_count": 71,
     "metadata": {},
     "output_type": "execute_result"
    }
   ],
   "source": [
    "train_df['Parch'].unique()"
   ]
  },
  {
   "cell_type": "markdown",
   "id": "d470c668",
   "metadata": {},
   "source": [
    "- This feature deals with number of parents / children aboard the Titanic.\n",
    "- The data type is discrete numerical."
   ]
  },
  {
   "cell_type": "code",
   "execution_count": 72,
   "id": "0abeee25",
   "metadata": {},
   "outputs": [
    {
     "data": {
      "image/png": "[encoded data removed]",
      "text/plain": [
       "<Figure size 576x432 with 1 Axes>"
      ]
     },
     "metadata": {},
     "output_type": "display_data"
    }
   ],
   "source": [
    "plt.figure(figsize=(8,6))\n",
    "sns.countplot(x='Parch',data=train_df)\n",
    "plt.title('Countplot for Parch', fontsize=15)\n",
    "plt.show()"
   ]
  },
  {
   "cell_type": "markdown",
   "id": "c23da0ba",
   "metadata": {},
   "source": [
    "- Similar to SibSp, there were high number of people travelling without parent or children."
   ]
  },
  {
   "cell_type": "code",
   "execution_count": 73,
   "id": "646d2b22",
   "metadata": {},
   "outputs": [
    {
     "data": {
      "image/png": "[encoded data removed]",
      "text/plain": [
       "<Figure size 576x432 with 1 Axes>"
      ]
     },
     "metadata": {},
     "output_type": "display_data"
    }
   ],
   "source": [
    "plt.figure(figsize=(8,6))\n",
    "sns.countplot(hue='Survived',x='Parch', data=train_df)\n",
    "plt.title('Countplot of Survivived or not given Parch', fontsize=15)\n",
    "plt.show()"
   ]
  },
  {
   "cell_type": "markdown",
   "id": "9fd2aa87",
   "metadata": {},
   "source": [
    "- Similar to SibSp, there were high probability of being not survived given Parch = 0. \n",
    "- We can have a new variable whether a person is alone or not that could help in model building.\n",
    "- Combining SibSp and Parch , we can contruct a new feature representing total number of relatives."
   ]
  },
  {
   "cell_type": "markdown",
   "id": "c4f63df4",
   "metadata": {},
   "source": [
    "#### 7. Ticket"
   ]
  },
  {
   "cell_type": "code",
   "execution_count": 74,
   "id": "7e4e9ab2",
   "metadata": {},
   "outputs": [
    {
     "data": {
      "text/plain": [
       "0           A/5 21171\n",
       "1            PC 17599\n",
       "2    STON/O2. 3101282\n",
       "3              113803\n",
       "4              373450\n",
       "Name: Ticket, dtype: object"
      ]
     },
     "execution_count": 74,
     "metadata": {},
     "output_type": "execute_result"
    }
   ],
   "source": [
    "train_df['Ticket'][:5]"
   ]
  },
  {
   "cell_type": "code",
   "execution_count": 75,
   "id": "19f31b51",
   "metadata": {},
   "outputs": [
    {
     "data": {
      "text/plain": [
       "count        891\n",
       "unique       681\n",
       "top       347082\n",
       "freq           7\n",
       "Name: Ticket, dtype: object"
      ]
     },
     "execution_count": 75,
     "metadata": {},
     "output_type": "execute_result"
    }
   ],
   "source": [
    "train_df['Ticket'].describe()"
   ]
  },
  {
   "cell_type": "markdown",
   "id": "6c463bad",
   "metadata": {},
   "source": [
    "- It is just the the ticket number .\n",
    "- It is very difficult to draw patterns from it.\n",
    "- There are 681 unique values of out of 891 and data type is categorical and level of measurement is nominal. Having these much nominal variables would be a lot tricky for a model to learn.\n",
    "- We already have pclass and fare which could potentially cover exclusion of ticket feature.\n",
    "- We'll drop Ticket from our datasets."
   ]
  },
  {
   "cell_type": "code",
   "execution_count": 76,
   "id": "282fb054",
   "metadata": {},
   "outputs": [],
   "source": [
    "train_df.drop('Ticket',axis=1,inplace=True)\n",
    "test_df.drop('Ticket',axis=1,inplace=True)"
   ]
  },
  {
   "cell_type": "markdown",
   "id": "764110a6",
   "metadata": {},
   "source": [
    "#### 8. Fare"
   ]
  },
  {
   "cell_type": "code",
   "execution_count": 77,
   "id": "a6005c2c",
   "metadata": {},
   "outputs": [
    {
     "data": {
      "text/plain": [
       "count    891.000000\n",
       "mean      32.204208\n",
       "std       49.693429\n",
       "min        0.000000\n",
       "25%        7.910400\n",
       "50%       14.454200\n",
       "75%       31.000000\n",
       "max      512.329200\n",
       "Name: Fare, dtype: float64"
      ]
     },
     "execution_count": 77,
     "metadata": {},
     "output_type": "execute_result"
    }
   ],
   "source": [
    "train_df['Fare'].describe()"
   ]
  },
  {
   "cell_type": "markdown",
   "id": "c78af667",
   "metadata": {},
   "source": [
    "- The fare is continuous variable ranging from 0 to 512 with a huge standard deviation."
   ]
  },
  {
   "cell_type": "code",
   "execution_count": 78,
   "id": "a53ba189",
   "metadata": {},
   "outputs": [
    {
     "data": {
      "image/png": "[encoded data removed]",
      "text/plain": [
       "<Figure size 720x432 with 1 Axes>"
      ]
     },
     "metadata": {},
     "output_type": "display_data"
    }
   ],
   "source": [
    "plt.figure(figsize=(10,6))\n",
    "sns.histplot(x='Fare', data=train, kde=True,bins=100)\n",
    "plt.title('Fare Distribution')\n",
    "plt.show()"
   ]
  },
  {
   "cell_type": "markdown",
   "id": "6f430be3",
   "metadata": {},
   "source": [
    "- There is huge skewness and it surely doesn't resemble a normal distribution."
   ]
  },
  {
   "cell_type": "code",
   "execution_count": 79,
   "id": "1fd3dfd0",
   "metadata": {},
   "outputs": [
    {
     "data": {
      "image/png": "[encoded data removed]",
      "text/plain": [
       "<Figure size 576x432 with 1 Axes>"
      ]
     },
     "metadata": {},
     "output_type": "display_data"
    }
   ],
   "source": [
    "plt.figure(figsize=(8,6))\n",
    "sns.histplot(x=np.log(train['Fare']),hue='Survived',data=train)\n",
    "plt.title('Age distribution')\n",
    "plt.show()"
   ]
  },
  {
   "cell_type": "markdown",
   "id": "e2377a85",
   "metadata": {},
   "source": [
    "- Taking the log transformation for easier interpretibilty , it is quite clear high fares have high chances of survival.\n",
    "- It would be more appropriate if we bin the fares for model training."
   ]
  },
  {
   "cell_type": "markdown",
   "id": "67d1d4d7",
   "metadata": {},
   "source": [
    "#### 9. Embarked"
   ]
  },
  {
   "cell_type": "code",
   "execution_count": 80,
   "id": "052e418f",
   "metadata": {},
   "outputs": [
    {
     "data": {
      "text/plain": [
       "array(['S', 'C', 'Q'], dtype=object)"
      ]
     },
     "execution_count": 80,
     "metadata": {},
     "output_type": "execute_result"
    }
   ],
   "source": [
    "train_df['Embarked'].unique()"
   ]
  },
  {
   "cell_type": "markdown",
   "id": "c4d3adde",
   "metadata": {},
   "source": [
    "- The embarked represents the port of Embarkation. \n",
    "- The data type is categorical and level of measurement is nominal."
   ]
  },
  {
   "cell_type": "code",
   "execution_count": 81,
   "id": "13fde49d",
   "metadata": {},
   "outputs": [
    {
     "data": {
      "text/plain": [
       "S    0.722783\n",
       "C    0.190797\n",
       "Q    0.086420\n",
       "Name: Embarked, dtype: float64"
      ]
     },
     "execution_count": 81,
     "metadata": {},
     "output_type": "execute_result"
    }
   ],
   "source": [
    "train_df['Embarked'].value_counts(normalize=True)"
   ]
  },
  {
   "cell_type": "code",
   "execution_count": 82,
   "id": "96fac1ae",
   "metadata": {},
   "outputs": [
    {
     "data": {
      "image/png": "[encoded data removed]",
      "text/plain": [
       "<Figure size 576x432 with 1 Axes>"
      ]
     },
     "metadata": {},
     "output_type": "display_data"
    }
   ],
   "source": [
    "plt.figure(figsize=(8,6))\n",
    "sns.countplot(x='Embarked',data=train_df)\n",
    "plt.title('Frequency distribution of Embarked', fontsize=15)\n",
    "plt.show()"
   ]
  },
  {
   "cell_type": "markdown",
   "id": "2b51dde7",
   "metadata": {},
   "source": [
    "- Most of the passengers, nearly 72% embarked from Southampton."
   ]
  },
  {
   "cell_type": "code",
   "execution_count": 83,
   "id": "fe56364b",
   "metadata": {},
   "outputs": [
    {
     "data": {
      "image/png": "[encoded data removed]",
      "text/plain": [
       "<Figure size 576x432 with 1 Axes>"
      ]
     },
     "metadata": {},
     "output_type": "display_data"
    }
   ],
   "source": [
    "plt.figure(figsize=(8,6))\n",
    "sns.countplot(x='Embarked',hue='Survived',data=train_df)\n",
    "plt.title('Frequency distribution of Embarked')\n",
    "plt.show()"
   ]
  },
  {
   "cell_type": "markdown",
   "id": "e1c3240b",
   "metadata": {},
   "source": [
    "- Southampton passengers has high probability of being not survived. \n",
    "- **But** that can't be said for certain as majority of passengers from here."
   ]
  },
  {
   "cell_type": "markdown",
   "id": "765495bc",
   "metadata": {},
   "source": [
    "#### 10. Deck"
   ]
  },
  {
   "cell_type": "code",
   "execution_count": 84,
   "id": "8059d9b4",
   "metadata": {},
   "outputs": [
    {
     "data": {
      "text/plain": [
       "array(['U', 'C', 'E', 'G', 'D', 'A', 'B', 'F', 'T'], dtype=object)"
      ]
     },
     "execution_count": 84,
     "metadata": {},
     "output_type": "execute_result"
    }
   ],
   "source": [
    "train_df['Deck'].unique()"
   ]
  },
  {
   "cell_type": "code",
   "execution_count": 85,
   "id": "76c5e551",
   "metadata": {},
   "outputs": [
    {
     "data": {
      "text/plain": [
       "array(['U', 'B', 'E', 'A', 'C', 'D', 'F', 'G'], dtype=object)"
      ]
     },
     "execution_count": 85,
     "metadata": {},
     "output_type": "execute_result"
    }
   ],
   "source": [
    "test_df['Deck'].unique()"
   ]
  },
  {
   "cell_type": "markdown",
   "id": "500d5c5a",
   "metadata": {},
   "source": [
    "- All the unique values of deck from test data is present in our train data.\n",
    "- The data type is categorical and ordinal in nature.\n"
   ]
  },
  {
   "cell_type": "code",
   "execution_count": 86,
   "id": "d9ad6581",
   "metadata": {},
   "outputs": [
    {
     "data": {
      "text/plain": [
       "U    687\n",
       "C     59\n",
       "B     47\n",
       "D     33\n",
       "E     32\n",
       "A     15\n",
       "F     13\n",
       "G      4\n",
       "T      1\n",
       "Name: Deck, dtype: int64"
      ]
     },
     "execution_count": 86,
     "metadata": {},
     "output_type": "execute_result"
    }
   ],
   "source": [
    "train_df['Deck'].value_counts()"
   ]
  },
  {
   "cell_type": "code",
   "execution_count": 87,
   "id": "762781f5",
   "metadata": {},
   "outputs": [
    {
     "data": {
      "text/plain": [
       "Survived  Deck\n",
       "0         A         8\n",
       "          B        12\n",
       "          C        24\n",
       "          D         8\n",
       "          E         8\n",
       "          F         5\n",
       "          G         2\n",
       "          T         1\n",
       "          U       481\n",
       "1         A         7\n",
       "          B        35\n",
       "          C        35\n",
       "          D        25\n",
       "          E        24\n",
       "          F         8\n",
       "          G         2\n",
       "          U       206\n",
       "Name: Survived, dtype: int64"
      ]
     },
     "execution_count": 87,
     "metadata": {},
     "output_type": "execute_result"
    }
   ],
   "source": [
    "train_df.groupby(['Survived','Deck'])['Survived'].count()"
   ]
  },
  {
   "cell_type": "markdown",
   "id": "c037c564",
   "metadata": {},
   "source": [
    "- From above, passengers having decks B,C,D and E have high chance for survival.\n",
    "- But for most of data the deck is unknown.\n",
    "- We can create a new feature indicating whether deck is known or not."
   ]
  },
  {
   "cell_type": "markdown",
   "id": "072ca040",
   "metadata": {},
   "source": [
    "#### Sex + Age + Survived"
   ]
  },
  {
   "cell_type": "code",
   "execution_count": 88,
   "id": "a7f6eb75",
   "metadata": {},
   "outputs": [
    {
     "data": {
      "image/png": "[encoded data removed]",
      "text/plain": [
       "<Figure size 720x432 with 2 Axes>"
      ]
     },
     "metadata": {},
     "output_type": "display_data"
    }
   ],
   "source": [
    "plt.figure(figsize=(10,6))\n",
    "plt.subplot(1,2,1)\n",
    "sns.histplot(x='Age',hue='Survived',data=train_df[train_df['Sex']=='female'])\n",
    "plt.title('Age Distribution of Females')\n",
    "plt.subplot(1,2,2)\n",
    "sns.histplot(x='Age',hue='Survived',data=train_df[train_df['Sex']=='male'])\n",
    "plt.title('Age Distribution of Males')\n",
    "plt.show()"
   ]
  },
  {
   "cell_type": "markdown",
   "id": "9de0b8f4",
   "metadata": {},
   "source": [
    "- The data shows females have higher chances of survival.\n",
    "- The elderly and infants had higher chances of survival irrespective of sex.\n",
    "- As for middle age group , it isn't certain.\n",
    "- This insight also suggests making categorical features from age."
   ]
  },
  {
   "cell_type": "markdown",
   "id": "fcd7265d",
   "metadata": {},
   "source": [
    "#### Fare + Sex + Survived"
   ]
  },
  {
   "cell_type": "code",
   "execution_count": 89,
   "id": "acdde6b0",
   "metadata": {},
   "outputs": [
    {
     "data": {
      "image/png": "[encoded data removed]",
      "text/plain": [
       "<Figure size 720x432 with 2 Axes>"
      ]
     },
     "metadata": {},
     "output_type": "display_data"
    }
   ],
   "source": [
    "plt.figure(figsize=(10,6))\n",
    "plt.subplot(1,2,1)\n",
    "sns.histplot(x='Fare',hue='Survived',data=train_df[train_df['Sex']=='female'])\n",
    "plt.title('Fare Distribution of Females')\n",
    "plt.subplot(1,2,2)\n",
    "sns.histplot(x='Fare',hue='Survived',data=train_df[train_df['Sex']=='male'])\n",
    "plt.title('Fare Distribution of Males')\n",
    "plt.show()"
   ]
  },
  {
   "cell_type": "markdown",
   "id": "06f021d1",
   "metadata": {},
   "source": [
    "- There seems to be not any significant insight from this analysis.\n",
    "- It only suggests females have high chance of survival for any fare."
   ]
  },
  {
   "cell_type": "markdown",
   "id": "077fc8bd",
   "metadata": {},
   "source": [
    "#### Fare + Pclass + Survived"
   ]
  },
  {
   "cell_type": "code",
   "execution_count": 90,
   "id": "2b442141",
   "metadata": {},
   "outputs": [
    {
     "data": {
      "text/plain": [
       "Survived  Pclass\n",
       "0         1         44.7500\n",
       "          2         13.0000\n",
       "          3          8.0500\n",
       "1         1         77.9583\n",
       "          2         21.0000\n",
       "          3          8.5167\n",
       "Name: Fare, dtype: float64"
      ]
     },
     "execution_count": 90,
     "metadata": {},
     "output_type": "execute_result"
    }
   ],
   "source": [
    "train_df.groupby(['Survived','Pclass'])['Fare'].median()"
   ]
  },
  {
   "cell_type": "code",
   "execution_count": 91,
   "id": "cb8340bc",
   "metadata": {},
   "outputs": [
    {
     "data": {
      "text/plain": [
       "<Figure size 720x576 with 0 Axes>"
      ]
     },
     "metadata": {},
     "output_type": "display_data"
    },
    {
     "data": {
      "image/png": "[encoded data removed]",
      "text/plain": [
       "<Figure size 703.55x216 with 3 Axes>"
      ]
     },
     "metadata": {},
     "output_type": "display_data"
    }
   ],
   "source": [
    "plt.figure(figsize=(10,8))\n",
    "g = sns.FacetGrid(train_df,col='Pclass',hue='Survived').map(sns.kdeplot,'Fare')\n",
    "g.add_legend()\n",
    "plt.show()"
   ]
  },
  {
   "cell_type": "markdown",
   "id": "8d30fda5",
   "metadata": {},
   "source": [
    "- The above analysis confirms if the ticket price was high , there were strong chances of survival."
   ]
  },
  {
   "cell_type": "markdown",
   "id": "582807ff",
   "metadata": {},
   "source": [
    "#### Parch + SibSp + Survived"
   ]
  },
  {
   "cell_type": "code",
   "execution_count": 92,
   "id": "0e3cf2e2",
   "metadata": {},
   "outputs": [
    {
     "data": {
      "image/png": "[encoded data removed]",
      "text/plain": [
       "<Figure size 720x432 with 1 Axes>"
      ]
     },
     "metadata": {},
     "output_type": "display_data"
    }
   ],
   "source": [
    "plt.figure(figsize=(10,6))\n",
    "total_relatives = train_df['Parch'] + train_df['SibSp']\n",
    "sns.lineplot(x=total_relatives,y=train_df['Survived'])\n",
    "plt.xlabel('No. of Relatives')\n",
    "plt.xticks(np.arange(0,10,1))\n",
    "plt.show()"
   ]
  },
  {
   "cell_type": "markdown",
   "id": "a74231c2",
   "metadata": {},
   "source": [
    "- Above plot shows having upto 3 members of family have high chances of survival.\n",
    "- Total relatives seems to good feature comprising both *SibSp and Parch*.\n",
    "- We can drop both columns and can have one representing both."
   ]
  },
  {
   "cell_type": "markdown",
   "id": "45ae6062",
   "metadata": {},
   "source": [
    "#### Correlation Matrix"
   ]
  },
  {
   "cell_type": "code",
   "execution_count": 93,
   "id": "6919c7d8",
   "metadata": {},
   "outputs": [
    {
     "data": {
      "text/plain": [
       "<AxesSubplot:>"
      ]
     },
     "execution_count": 93,
     "metadata": {},
     "output_type": "execute_result"
    },
    {
     "data": {
      "image/png": "[encoded data removed]",
      "text/plain": [
       "<Figure size 864x432 with 2 Axes>"
      ]
     },
     "metadata": {},
     "output_type": "display_data"
    }
   ],
   "source": [
    "plt.figure(figsize=(12,6))\n",
    "sns.heatmap(train_df.corr(),annot=True)"
   ]
  },
  {
   "cell_type": "markdown",
   "id": "b81b0b36",
   "metadata": {},
   "source": [
    "- There isn't any strong correlation .\n",
    "- Parch and Sibsp seems to be slightly correlated , another hint to have a feature union of these two."
   ]
  },
  {
   "cell_type": "markdown",
   "id": "1e65c494",
   "metadata": {},
   "source": [
    "**EDA Summary**\n",
    "- Females have high chances of survival.\n",
    "- From Name, titles can be extracted.\n",
    "- Infants and elderly people have high chance of survival.\n",
    "- It is clear for certain ages and alongwith sex variable,age could determine survival.\n",
    "- If a person is alone, he has higher chances of not surviving.\n",
    "- We may create a feature indicating whether passenger is alone or not.\n",
    "- Fares are not normally distributed and  we may need to bins the fare.\n",
    "- Sum of SibSp and Parch seems to be more apt for model training as both convey same information.\n",
    "- Ticket has been dropped, as it is very difficult to deduce any type of pattern.\n",
    "- 72% of passengers have boarded the ship on same location, commenting on location based analysis wouldn't be appropriate.\n",
    "- Deck extraction from Cabin could be a potential feature.\n",
    "- We can create a new feature indicating whether deck is known or not.\n",
    "- Tree based model would be most appropriate for given datasets."
   ]
  },
  {
   "cell_type": "markdown",
   "id": "dca325b6",
   "metadata": {},
   "source": [
    "### Feature Engineering"
   ]
  },
  {
   "cell_type": "markdown",
   "id": "c68e7cb9",
   "metadata": {},
   "source": [
    "#### 1. Creating dummy variable for Sex and Embarked."
   ]
  },
  {
   "cell_type": "code",
   "execution_count": 94,
   "id": "0dcc01f2",
   "metadata": {},
   "outputs": [
    {
     "data": {
      "text/html": [
       "<div>\n",
       "<style scoped>\n",
       "    .dataframe tbody tr th:only-of-type {\n",
       "        vertical-align: middle;\n",
       "    }\n",
       "\n",
       "    .dataframe tbody tr th {\n",
       "        vertical-align: top;\n",
       "    }\n",
       "\n",
       "    .dataframe thead th {\n",
       "        text-align: right;\n",
       "    }\n",
       "</style>\n",
       "<table border=\"1\" class=\"dataframe\">\n",
       "  <thead>\n",
       "    <tr style=\"text-align: right;\">\n",
       "      <th></th>\n",
       "      <th>Pclass</th>\n",
       "      <th>Name</th>\n",
       "      <th>Age</th>\n",
       "      <th>SibSp</th>\n",
       "      <th>Parch</th>\n",
       "      <th>Fare</th>\n",
       "      <th>Deck</th>\n",
       "      <th>male</th>\n",
       "      <th>Q</th>\n",
       "      <th>S</th>\n",
       "    </tr>\n",
       "  </thead>\n",
       "  <tbody>\n",
       "    <tr>\n",
       "      <th>0</th>\n",
       "      <td>3</td>\n",
       "      <td>Braund, Mr. Owen Harris</td>\n",
       "      <td>22.0</td>\n",
       "      <td>1</td>\n",
       "      <td>0</td>\n",
       "      <td>7.2500</td>\n",
       "      <td>U</td>\n",
       "      <td>1</td>\n",
       "      <td>0</td>\n",
       "      <td>1</td>\n",
       "    </tr>\n",
       "    <tr>\n",
       "      <th>1</th>\n",
       "      <td>1</td>\n",
       "      <td>Cumings, Mrs. John Bradley (Florence Briggs Th...</td>\n",
       "      <td>38.0</td>\n",
       "      <td>1</td>\n",
       "      <td>0</td>\n",
       "      <td>71.2833</td>\n",
       "      <td>C</td>\n",
       "      <td>0</td>\n",
       "      <td>0</td>\n",
       "      <td>0</td>\n",
       "    </tr>\n",
       "    <tr>\n",
       "      <th>2</th>\n",
       "      <td>3</td>\n",
       "      <td>Heikkinen, Miss. Laina</td>\n",
       "      <td>26.0</td>\n",
       "      <td>0</td>\n",
       "      <td>0</td>\n",
       "      <td>7.9250</td>\n",
       "      <td>U</td>\n",
       "      <td>0</td>\n",
       "      <td>0</td>\n",
       "      <td>1</td>\n",
       "    </tr>\n",
       "    <tr>\n",
       "      <th>3</th>\n",
       "      <td>1</td>\n",
       "      <td>Futrelle, Mrs. Jacques Heath (Lily May Peel)</td>\n",
       "      <td>35.0</td>\n",
       "      <td>1</td>\n",
       "      <td>0</td>\n",
       "      <td>53.1000</td>\n",
       "      <td>C</td>\n",
       "      <td>0</td>\n",
       "      <td>0</td>\n",
       "      <td>1</td>\n",
       "    </tr>\n",
       "    <tr>\n",
       "      <th>4</th>\n",
       "      <td>3</td>\n",
       "      <td>Allen, Mr. William Henry</td>\n",
       "      <td>35.0</td>\n",
       "      <td>0</td>\n",
       "      <td>0</td>\n",
       "      <td>8.0500</td>\n",
       "      <td>U</td>\n",
       "      <td>1</td>\n",
       "      <td>0</td>\n",
       "      <td>1</td>\n",
       "    </tr>\n",
       "  </tbody>\n",
       "</table>\n",
       "</div>"
      ],
      "text/plain": [
       "   Pclass                                               Name   Age  SibSp  \\\n",
       "0       3                            Braund, Mr. Owen Harris  22.0      1   \n",
       "1       1  Cumings, Mrs. John Bradley (Florence Briggs Th...  38.0      1   \n",
       "2       3                             Heikkinen, Miss. Laina  26.0      0   \n",
       "3       1       Futrelle, Mrs. Jacques Heath (Lily May Peel)  35.0      1   \n",
       "4       3                           Allen, Mr. William Henry  35.0      0   \n",
       "\n",
       "   Parch     Fare Deck  male  Q  S  \n",
       "0      0   7.2500    U     1  0  1  \n",
       "1      0  71.2833    C     0  0  0  \n",
       "2      0   7.9250    U     0  0  1  \n",
       "3      0  53.1000    C     0  0  1  \n",
       "4      0   8.0500    U     1  0  1  "
      ]
     },
     "execution_count": 94,
     "metadata": {},
     "output_type": "execute_result"
    }
   ],
   "source": [
    "sex_dummy = pd.get_dummies(train_df['Sex'],drop_first=True)\n",
    "embarked_dummy = pd.get_dummies(train_df['Embarked'],drop_first=True)\n",
    "features = pd.concat([train_df,sex_dummy,embarked_dummy],axis=1).drop(['Sex','Embarked','Survived'],axis=1)\n",
    "features.head()"
   ]
  },
  {
   "cell_type": "markdown",
   "id": "d3d7e8cc",
   "metadata": {},
   "source": [
    "#### 2. Combining SibSp and Parch."
   ]
  },
  {
   "cell_type": "code",
   "execution_count": 95,
   "id": "39048b12",
   "metadata": {},
   "outputs": [
    {
     "data": {
      "text/html": [
       "<div>\n",
       "<style scoped>\n",
       "    .dataframe tbody tr th:only-of-type {\n",
       "        vertical-align: middle;\n",
       "    }\n",
       "\n",
       "    .dataframe tbody tr th {\n",
       "        vertical-align: top;\n",
       "    }\n",
       "\n",
       "    .dataframe thead th {\n",
       "        text-align: right;\n",
       "    }\n",
       "</style>\n",
       "<table border=\"1\" class=\"dataframe\">\n",
       "  <thead>\n",
       "    <tr style=\"text-align: right;\">\n",
       "      <th></th>\n",
       "      <th>Pclass</th>\n",
       "      <th>Name</th>\n",
       "      <th>Age</th>\n",
       "      <th>Fare</th>\n",
       "      <th>Deck</th>\n",
       "      <th>male</th>\n",
       "      <th>Q</th>\n",
       "      <th>S</th>\n",
       "      <th>total_relatives</th>\n",
       "    </tr>\n",
       "  </thead>\n",
       "  <tbody>\n",
       "    <tr>\n",
       "      <th>0</th>\n",
       "      <td>3</td>\n",
       "      <td>Braund, Mr. Owen Harris</td>\n",
       "      <td>22.0</td>\n",
       "      <td>7.2500</td>\n",
       "      <td>U</td>\n",
       "      <td>1</td>\n",
       "      <td>0</td>\n",
       "      <td>1</td>\n",
       "      <td>1</td>\n",
       "    </tr>\n",
       "    <tr>\n",
       "      <th>1</th>\n",
       "      <td>1</td>\n",
       "      <td>Cumings, Mrs. John Bradley (Florence Briggs Th...</td>\n",
       "      <td>38.0</td>\n",
       "      <td>71.2833</td>\n",
       "      <td>C</td>\n",
       "      <td>0</td>\n",
       "      <td>0</td>\n",
       "      <td>0</td>\n",
       "      <td>1</td>\n",
       "    </tr>\n",
       "    <tr>\n",
       "      <th>2</th>\n",
       "      <td>3</td>\n",
       "      <td>Heikkinen, Miss. Laina</td>\n",
       "      <td>26.0</td>\n",
       "      <td>7.9250</td>\n",
       "      <td>U</td>\n",
       "      <td>0</td>\n",
       "      <td>0</td>\n",
       "      <td>1</td>\n",
       "      <td>0</td>\n",
       "    </tr>\n",
       "    <tr>\n",
       "      <th>3</th>\n",
       "      <td>1</td>\n",
       "      <td>Futrelle, Mrs. Jacques Heath (Lily May Peel)</td>\n",
       "      <td>35.0</td>\n",
       "      <td>53.1000</td>\n",
       "      <td>C</td>\n",
       "      <td>0</td>\n",
       "      <td>0</td>\n",
       "      <td>1</td>\n",
       "      <td>1</td>\n",
       "    </tr>\n",
       "    <tr>\n",
       "      <th>4</th>\n",
       "      <td>3</td>\n",
       "      <td>Allen, Mr. William Henry</td>\n",
       "      <td>35.0</td>\n",
       "      <td>8.0500</td>\n",
       "      <td>U</td>\n",
       "      <td>1</td>\n",
       "      <td>0</td>\n",
       "      <td>1</td>\n",
       "      <td>0</td>\n",
       "    </tr>\n",
       "  </tbody>\n",
       "</table>\n",
       "</div>"
      ],
      "text/plain": [
       "   Pclass                                               Name   Age     Fare  \\\n",
       "0       3                            Braund, Mr. Owen Harris  22.0   7.2500   \n",
       "1       1  Cumings, Mrs. John Bradley (Florence Briggs Th...  38.0  71.2833   \n",
       "2       3                             Heikkinen, Miss. Laina  26.0   7.9250   \n",
       "3       1       Futrelle, Mrs. Jacques Heath (Lily May Peel)  35.0  53.1000   \n",
       "4       3                           Allen, Mr. William Henry  35.0   8.0500   \n",
       "\n",
       "  Deck  male  Q  S  total_relatives  \n",
       "0    U     1  0  1                1  \n",
       "1    C     0  0  0                1  \n",
       "2    U     0  0  1                0  \n",
       "3    C     0  0  1                1  \n",
       "4    U     1  0  1                0  "
      ]
     },
     "execution_count": 95,
     "metadata": {},
     "output_type": "execute_result"
    }
   ],
   "source": [
    "features['total_relatives'] = features['SibSp'] + features['Parch']\n",
    "features.drop(['SibSp','Parch'],axis=1,inplace=True)\n",
    "features.head()"
   ]
  },
  {
   "cell_type": "markdown",
   "id": "8579e693",
   "metadata": {},
   "source": [
    "#### 3. Creating a new feature indicating whether passenger is alone or not"
   ]
  },
  {
   "cell_type": "code",
   "execution_count": 96,
   "id": "39b3155a",
   "metadata": {},
   "outputs": [
    {
     "data": {
      "text/html": [
       "<div>\n",
       "<style scoped>\n",
       "    .dataframe tbody tr th:only-of-type {\n",
       "        vertical-align: middle;\n",
       "    }\n",
       "\n",
       "    .dataframe tbody tr th {\n",
       "        vertical-align: top;\n",
       "    }\n",
       "\n",
       "    .dataframe thead th {\n",
       "        text-align: right;\n",
       "    }\n",
       "</style>\n",
       "<table border=\"1\" class=\"dataframe\">\n",
       "  <thead>\n",
       "    <tr style=\"text-align: right;\">\n",
       "      <th></th>\n",
       "      <th>Pclass</th>\n",
       "      <th>Name</th>\n",
       "      <th>Age</th>\n",
       "      <th>Fare</th>\n",
       "      <th>Deck</th>\n",
       "      <th>male</th>\n",
       "      <th>Q</th>\n",
       "      <th>S</th>\n",
       "      <th>total_relatives</th>\n",
       "      <th>not_alone</th>\n",
       "    </tr>\n",
       "  </thead>\n",
       "  <tbody>\n",
       "    <tr>\n",
       "      <th>0</th>\n",
       "      <td>3</td>\n",
       "      <td>Braund, Mr. Owen Harris</td>\n",
       "      <td>22.0</td>\n",
       "      <td>7.2500</td>\n",
       "      <td>U</td>\n",
       "      <td>1</td>\n",
       "      <td>0</td>\n",
       "      <td>1</td>\n",
       "      <td>1</td>\n",
       "      <td>1</td>\n",
       "    </tr>\n",
       "    <tr>\n",
       "      <th>1</th>\n",
       "      <td>1</td>\n",
       "      <td>Cumings, Mrs. John Bradley (Florence Briggs Th...</td>\n",
       "      <td>38.0</td>\n",
       "      <td>71.2833</td>\n",
       "      <td>C</td>\n",
       "      <td>0</td>\n",
       "      <td>0</td>\n",
       "      <td>0</td>\n",
       "      <td>1</td>\n",
       "      <td>1</td>\n",
       "    </tr>\n",
       "    <tr>\n",
       "      <th>2</th>\n",
       "      <td>3</td>\n",
       "      <td>Heikkinen, Miss. Laina</td>\n",
       "      <td>26.0</td>\n",
       "      <td>7.9250</td>\n",
       "      <td>U</td>\n",
       "      <td>0</td>\n",
       "      <td>0</td>\n",
       "      <td>1</td>\n",
       "      <td>0</td>\n",
       "      <td>0</td>\n",
       "    </tr>\n",
       "    <tr>\n",
       "      <th>3</th>\n",
       "      <td>1</td>\n",
       "      <td>Futrelle, Mrs. Jacques Heath (Lily May Peel)</td>\n",
       "      <td>35.0</td>\n",
       "      <td>53.1000</td>\n",
       "      <td>C</td>\n",
       "      <td>0</td>\n",
       "      <td>0</td>\n",
       "      <td>1</td>\n",
       "      <td>1</td>\n",
       "      <td>1</td>\n",
       "    </tr>\n",
       "    <tr>\n",
       "      <th>4</th>\n",
       "      <td>3</td>\n",
       "      <td>Allen, Mr. William Henry</td>\n",
       "      <td>35.0</td>\n",
       "      <td>8.0500</td>\n",
       "      <td>U</td>\n",
       "      <td>1</td>\n",
       "      <td>0</td>\n",
       "      <td>1</td>\n",
       "      <td>0</td>\n",
       "      <td>0</td>\n",
       "    </tr>\n",
       "  </tbody>\n",
       "</table>\n",
       "</div>"
      ],
      "text/plain": [
       "   Pclass                                               Name   Age     Fare  \\\n",
       "0       3                            Braund, Mr. Owen Harris  22.0   7.2500   \n",
       "1       1  Cumings, Mrs. John Bradley (Florence Briggs Th...  38.0  71.2833   \n",
       "2       3                             Heikkinen, Miss. Laina  26.0   7.9250   \n",
       "3       1       Futrelle, Mrs. Jacques Heath (Lily May Peel)  35.0  53.1000   \n",
       "4       3                           Allen, Mr. William Henry  35.0   8.0500   \n",
       "\n",
       "  Deck  male  Q  S  total_relatives  not_alone  \n",
       "0    U     1  0  1                1          1  \n",
       "1    C     0  0  0                1          1  \n",
       "2    U     0  0  1                0          0  \n",
       "3    C     0  0  1                1          1  \n",
       "4    U     1  0  1                0          0  "
      ]
     },
     "execution_count": 96,
     "metadata": {},
     "output_type": "execute_result"
    }
   ],
   "source": [
    "features['is_alone'] = features['total_relatives'].map(lambda x: 'not_alone' if(x>0) else 'alone')\n",
    "is_alone_dummy = pd.get_dummies(features['is_alone'],drop_first=True)\n",
    "features= pd.concat([features,is_alone_dummy],axis=1).drop('is_alone',axis=1)\n",
    "features.head()"
   ]
  },
  {
   "cell_type": "markdown",
   "id": "e0f42e8b",
   "metadata": {},
   "source": [
    "#### 4. Creating a new feature representing age category."
   ]
  },
  {
   "cell_type": "code",
   "execution_count": 97,
   "id": "85aa4e8a",
   "metadata": {},
   "outputs": [],
   "source": [
    "age_bins =[0,18,22,25,30,35,45,55,80]"
   ]
  },
  {
   "cell_type": "code",
   "execution_count": 98,
   "id": "7f013e77",
   "metadata": {},
   "outputs": [
    {
     "data": {
      "image/png": "[encoded data removed]",
      "text/plain": [
       "<Figure size 1080x432 with 2 Axes>"
      ]
     },
     "metadata": {},
     "output_type": "display_data"
    }
   ],
   "source": [
    "survived = train_df[train_df['Survived']==1]\n",
    "non_survived = train_df[train_df['Survived']==0]\n",
    "\n",
    "plt.figure(figsize=(15,6))\n",
    "plt.subplot(1,2,1)\n",
    "sns.histplot(x='Age',bins=age_bins,data=survived)\n",
    "plt.title('Age Distribution for Survived ones')\n",
    "plt.xlim(0,80)\n",
    "plt.ylim(0,200)\n",
    "plt.subplot(1,2,2)\n",
    "sns.histplot(x='Age',bins=age_bins,hue='Survived',data=non_survived)\n",
    "plt.title('Age Distribution for Non-Survived ones')\n",
    "plt.xlim(0,80)\n",
    "plt.ylim(0,200)\n",
    "plt.show()"
   ]
  },
  {
   "cell_type": "markdown",
   "id": "dd140716",
   "metadata": {},
   "source": [
    "- 8 bins seems to be reasonable choice for binning."
   ]
  },
  {
   "cell_type": "code",
   "execution_count": 99,
   "id": "6d2c0f6c",
   "metadata": {},
   "outputs": [
    {
     "data": {
      "text/plain": [
       "age_bins        Survived\n",
       "(-0.001, 18.0]  0           85\n",
       "                1           73\n",
       "(18.0, 22.0]    0           66\n",
       "                1           43\n",
       "(22.0, 25.0]    0           65\n",
       "                1           37\n",
       "(25.0, 30.0]    0           93\n",
       "                1           48\n",
       "(30.0, 35.0]    0           81\n",
       "                1           49\n",
       "(35.0, 45.0]    0           87\n",
       "                1           50\n",
       "(45.0, 55.0]    0           43\n",
       "                1           29\n",
       "(55.0, 80.0]    0           29\n",
       "                1           13\n",
       "Name: Survived, dtype: int64"
      ]
     },
     "execution_count": 99,
     "metadata": {},
     "output_type": "execute_result"
    }
   ],
   "source": [
    "train_df['age_bins'] = pd.cut(features['Age'],bins=age_bins,include_lowest=True)\n",
    "train_df.groupby(['age_bins','Survived',])['Survived'].count()"
   ]
  },
  {
   "cell_type": "code",
   "execution_count": 100,
   "id": "0d9719d5",
   "metadata": {},
   "outputs": [
    {
     "data": {
      "text/html": [
       "<div>\n",
       "<style scoped>\n",
       "    .dataframe tbody tr th:only-of-type {\n",
       "        vertical-align: middle;\n",
       "    }\n",
       "\n",
       "    .dataframe tbody tr th {\n",
       "        vertical-align: top;\n",
       "    }\n",
       "\n",
       "    .dataframe thead th {\n",
       "        text-align: right;\n",
       "    }\n",
       "</style>\n",
       "<table border=\"1\" class=\"dataframe\">\n",
       "  <thead>\n",
       "    <tr style=\"text-align: right;\">\n",
       "      <th></th>\n",
       "      <th>Pclass</th>\n",
       "      <th>Name</th>\n",
       "      <th>Age</th>\n",
       "      <th>Fare</th>\n",
       "      <th>Deck</th>\n",
       "      <th>male</th>\n",
       "      <th>Q</th>\n",
       "      <th>S</th>\n",
       "      <th>total_relatives</th>\n",
       "      <th>not_alone</th>\n",
       "      <th>age_bins</th>\n",
       "    </tr>\n",
       "  </thead>\n",
       "  <tbody>\n",
       "    <tr>\n",
       "      <th>0</th>\n",
       "      <td>3</td>\n",
       "      <td>Braund, Mr. Owen Harris</td>\n",
       "      <td>22.0</td>\n",
       "      <td>7.2500</td>\n",
       "      <td>U</td>\n",
       "      <td>1</td>\n",
       "      <td>0</td>\n",
       "      <td>1</td>\n",
       "      <td>1</td>\n",
       "      <td>1</td>\n",
       "      <td>(18.0, 22.0]</td>\n",
       "    </tr>\n",
       "    <tr>\n",
       "      <th>1</th>\n",
       "      <td>1</td>\n",
       "      <td>Cumings, Mrs. John Bradley (Florence Briggs Th...</td>\n",
       "      <td>38.0</td>\n",
       "      <td>71.2833</td>\n",
       "      <td>C</td>\n",
       "      <td>0</td>\n",
       "      <td>0</td>\n",
       "      <td>0</td>\n",
       "      <td>1</td>\n",
       "      <td>1</td>\n",
       "      <td>(35.0, 45.0]</td>\n",
       "    </tr>\n",
       "    <tr>\n",
       "      <th>2</th>\n",
       "      <td>3</td>\n",
       "      <td>Heikkinen, Miss. Laina</td>\n",
       "      <td>26.0</td>\n",
       "      <td>7.9250</td>\n",
       "      <td>U</td>\n",
       "      <td>0</td>\n",
       "      <td>0</td>\n",
       "      <td>1</td>\n",
       "      <td>0</td>\n",
       "      <td>0</td>\n",
       "      <td>(25.0, 30.0]</td>\n",
       "    </tr>\n",
       "  </tbody>\n",
       "</table>\n",
       "</div>"
      ],
      "text/plain": [
       "   Pclass                                               Name   Age     Fare  \\\n",
       "0       3                            Braund, Mr. Owen Harris  22.0   7.2500   \n",
       "1       1  Cumings, Mrs. John Bradley (Florence Briggs Th...  38.0  71.2833   \n",
       "2       3                             Heikkinen, Miss. Laina  26.0   7.9250   \n",
       "\n",
       "  Deck  male  Q  S  total_relatives  not_alone      age_bins  \n",
       "0    U     1  0  1                1          1  (18.0, 22.0]  \n",
       "1    C     0  0  0                1          1  (35.0, 45.0]  \n",
       "2    U     0  0  1                0          0  (25.0, 30.0]  "
      ]
     },
     "execution_count": 100,
     "metadata": {},
     "output_type": "execute_result"
    }
   ],
   "source": [
    "features['age_bins'] = train_df['age_bins']\n",
    "features.head(3)"
   ]
  },
  {
   "cell_type": "code",
   "execution_count": 101,
   "id": "57c0dccb",
   "metadata": {},
   "outputs": [
    {
     "data": {
      "text/plain": [
       "OrdinalEncoder(dtype=<class 'numpy.int64'>)"
      ]
     },
     "execution_count": 101,
     "metadata": {},
     "output_type": "execute_result"
    }
   ],
   "source": [
    "age_encoder = OrdinalEncoder(dtype=np.int64)\n",
    "age_encoder.fit(features[['age_bins']])"
   ]
  },
  {
   "cell_type": "code",
   "execution_count": 102,
   "id": "18d6af4d",
   "metadata": {},
   "outputs": [
    {
     "data": {
      "text/plain": [
       "[array([Interval(-0.001, 18.0, closed='right'),\n",
       "        Interval(18.0, 22.0, closed='right'),\n",
       "        Interval(22.0, 25.0, closed='right'),\n",
       "        Interval(25.0, 30.0, closed='right'),\n",
       "        Interval(30.0, 35.0, closed='right'),\n",
       "        Interval(35.0, 45.0, closed='right'),\n",
       "        Interval(45.0, 55.0, closed='right'),\n",
       "        Interval(55.0, 80.0, closed='right')], dtype=object)]"
      ]
     },
     "execution_count": 102,
     "metadata": {},
     "output_type": "execute_result"
    }
   ],
   "source": [
    "age_encoder.categories_"
   ]
  },
  {
   "cell_type": "code",
   "execution_count": 103,
   "id": "b8b2d9e8",
   "metadata": {},
   "outputs": [
    {
     "data": {
      "text/html": [
       "<div>\n",
       "<style scoped>\n",
       "    .dataframe tbody tr th:only-of-type {\n",
       "        vertical-align: middle;\n",
       "    }\n",
       "\n",
       "    .dataframe tbody tr th {\n",
       "        vertical-align: top;\n",
       "    }\n",
       "\n",
       "    .dataframe thead th {\n",
       "        text-align: right;\n",
       "    }\n",
       "</style>\n",
       "<table border=\"1\" class=\"dataframe\">\n",
       "  <thead>\n",
       "    <tr style=\"text-align: right;\">\n",
       "      <th></th>\n",
       "      <th>Pclass</th>\n",
       "      <th>Name</th>\n",
       "      <th>Age</th>\n",
       "      <th>Fare</th>\n",
       "      <th>Deck</th>\n",
       "      <th>male</th>\n",
       "      <th>Q</th>\n",
       "      <th>S</th>\n",
       "      <th>total_relatives</th>\n",
       "      <th>not_alone</th>\n",
       "      <th>age_bins</th>\n",
       "    </tr>\n",
       "  </thead>\n",
       "  <tbody>\n",
       "    <tr>\n",
       "      <th>0</th>\n",
       "      <td>3</td>\n",
       "      <td>Braund, Mr. Owen Harris</td>\n",
       "      <td>22.0</td>\n",
       "      <td>7.2500</td>\n",
       "      <td>U</td>\n",
       "      <td>1</td>\n",
       "      <td>0</td>\n",
       "      <td>1</td>\n",
       "      <td>1</td>\n",
       "      <td>1</td>\n",
       "      <td>1</td>\n",
       "    </tr>\n",
       "    <tr>\n",
       "      <th>1</th>\n",
       "      <td>1</td>\n",
       "      <td>Cumings, Mrs. John Bradley (Florence Briggs Th...</td>\n",
       "      <td>38.0</td>\n",
       "      <td>71.2833</td>\n",
       "      <td>C</td>\n",
       "      <td>0</td>\n",
       "      <td>0</td>\n",
       "      <td>0</td>\n",
       "      <td>1</td>\n",
       "      <td>1</td>\n",
       "      <td>5</td>\n",
       "    </tr>\n",
       "    <tr>\n",
       "      <th>2</th>\n",
       "      <td>3</td>\n",
       "      <td>Heikkinen, Miss. Laina</td>\n",
       "      <td>26.0</td>\n",
       "      <td>7.9250</td>\n",
       "      <td>U</td>\n",
       "      <td>0</td>\n",
       "      <td>0</td>\n",
       "      <td>1</td>\n",
       "      <td>0</td>\n",
       "      <td>0</td>\n",
       "      <td>3</td>\n",
       "    </tr>\n",
       "    <tr>\n",
       "      <th>3</th>\n",
       "      <td>1</td>\n",
       "      <td>Futrelle, Mrs. Jacques Heath (Lily May Peel)</td>\n",
       "      <td>35.0</td>\n",
       "      <td>53.1000</td>\n",
       "      <td>C</td>\n",
       "      <td>0</td>\n",
       "      <td>0</td>\n",
       "      <td>1</td>\n",
       "      <td>1</td>\n",
       "      <td>1</td>\n",
       "      <td>4</td>\n",
       "    </tr>\n",
       "    <tr>\n",
       "      <th>4</th>\n",
       "      <td>3</td>\n",
       "      <td>Allen, Mr. William Henry</td>\n",
       "      <td>35.0</td>\n",
       "      <td>8.0500</td>\n",
       "      <td>U</td>\n",
       "      <td>1</td>\n",
       "      <td>0</td>\n",
       "      <td>1</td>\n",
       "      <td>0</td>\n",
       "      <td>0</td>\n",
       "      <td>4</td>\n",
       "    </tr>\n",
       "  </tbody>\n",
       "</table>\n",
       "</div>"
      ],
      "text/plain": [
       "   Pclass                                               Name   Age     Fare  \\\n",
       "0       3                            Braund, Mr. Owen Harris  22.0   7.2500   \n",
       "1       1  Cumings, Mrs. John Bradley (Florence Briggs Th...  38.0  71.2833   \n",
       "2       3                             Heikkinen, Miss. Laina  26.0   7.9250   \n",
       "3       1       Futrelle, Mrs. Jacques Heath (Lily May Peel)  35.0  53.1000   \n",
       "4       3                           Allen, Mr. William Henry  35.0   8.0500   \n",
       "\n",
       "  Deck  male  Q  S  total_relatives  not_alone  age_bins  \n",
       "0    U     1  0  1                1          1         1  \n",
       "1    C     0  0  0                1          1         5  \n",
       "2    U     0  0  1                0          0         3  \n",
       "3    C     0  0  1                1          1         4  \n",
       "4    U     1  0  1                0          0         4  "
      ]
     },
     "execution_count": 103,
     "metadata": {},
     "output_type": "execute_result"
    }
   ],
   "source": [
    "features['age_bins'] = age_encoder.transform(features[['age_bins']])\n",
    "features.head()"
   ]
  },
  {
   "cell_type": "markdown",
   "id": "2913e840",
   "metadata": {},
   "source": [
    "#### 5. Creating  new feature from title present in Name."
   ]
  },
  {
   "cell_type": "code",
   "execution_count": 104,
   "id": "21e7d610",
   "metadata": {},
   "outputs": [],
   "source": [
    "# Extracting title from Name.\n",
    "def find_title(name):\n",
    "    # Using HumanName module.\n",
    "    dict_name = HumanName(name).as_dict()\n",
    "    return dict_name['title']"
   ]
  },
  {
   "cell_type": "code",
   "execution_count": 105,
   "id": "2ad9b3eb",
   "metadata": {},
   "outputs": [
    {
     "data": {
      "text/html": [
       "<div>\n",
       "<style scoped>\n",
       "    .dataframe tbody tr th:only-of-type {\n",
       "        vertical-align: middle;\n",
       "    }\n",
       "\n",
       "    .dataframe tbody tr th {\n",
       "        vertical-align: top;\n",
       "    }\n",
       "\n",
       "    .dataframe thead th {\n",
       "        text-align: right;\n",
       "    }\n",
       "</style>\n",
       "<table border=\"1\" class=\"dataframe\">\n",
       "  <thead>\n",
       "    <tr style=\"text-align: right;\">\n",
       "      <th></th>\n",
       "      <th>Pclass</th>\n",
       "      <th>Name</th>\n",
       "      <th>Age</th>\n",
       "      <th>Fare</th>\n",
       "      <th>Deck</th>\n",
       "      <th>male</th>\n",
       "      <th>Q</th>\n",
       "      <th>S</th>\n",
       "      <th>total_relatives</th>\n",
       "      <th>not_alone</th>\n",
       "      <th>age_bins</th>\n",
       "      <th>title</th>\n",
       "    </tr>\n",
       "  </thead>\n",
       "  <tbody>\n",
       "    <tr>\n",
       "      <th>0</th>\n",
       "      <td>3</td>\n",
       "      <td>Braund, Mr. Owen Harris</td>\n",
       "      <td>22.0</td>\n",
       "      <td>7.2500</td>\n",
       "      <td>U</td>\n",
       "      <td>1</td>\n",
       "      <td>0</td>\n",
       "      <td>1</td>\n",
       "      <td>1</td>\n",
       "      <td>1</td>\n",
       "      <td>1</td>\n",
       "      <td>Mr.</td>\n",
       "    </tr>\n",
       "    <tr>\n",
       "      <th>1</th>\n",
       "      <td>1</td>\n",
       "      <td>Cumings, Mrs. John Bradley (Florence Briggs Th...</td>\n",
       "      <td>38.0</td>\n",
       "      <td>71.2833</td>\n",
       "      <td>C</td>\n",
       "      <td>0</td>\n",
       "      <td>0</td>\n",
       "      <td>0</td>\n",
       "      <td>1</td>\n",
       "      <td>1</td>\n",
       "      <td>5</td>\n",
       "      <td>Mrs.</td>\n",
       "    </tr>\n",
       "    <tr>\n",
       "      <th>2</th>\n",
       "      <td>3</td>\n",
       "      <td>Heikkinen, Miss. Laina</td>\n",
       "      <td>26.0</td>\n",
       "      <td>7.9250</td>\n",
       "      <td>U</td>\n",
       "      <td>0</td>\n",
       "      <td>0</td>\n",
       "      <td>1</td>\n",
       "      <td>0</td>\n",
       "      <td>0</td>\n",
       "      <td>3</td>\n",
       "      <td>Miss.</td>\n",
       "    </tr>\n",
       "  </tbody>\n",
       "</table>\n",
       "</div>"
      ],
      "text/plain": [
       "   Pclass                                               Name   Age     Fare  \\\n",
       "0       3                            Braund, Mr. Owen Harris  22.0   7.2500   \n",
       "1       1  Cumings, Mrs. John Bradley (Florence Briggs Th...  38.0  71.2833   \n",
       "2       3                             Heikkinen, Miss. Laina  26.0   7.9250   \n",
       "\n",
       "  Deck  male  Q  S  total_relatives  not_alone  age_bins  title  \n",
       "0    U     1  0  1                1          1         1    Mr.  \n",
       "1    C     0  0  0                1          1         5   Mrs.  \n",
       "2    U     0  0  1                0          0         3  Miss.  "
      ]
     },
     "execution_count": 105,
     "metadata": {},
     "output_type": "execute_result"
    }
   ],
   "source": [
    "features['title'] = features['Name'].apply(find_title)\n",
    "features.head(3)"
   ]
  },
  {
   "cell_type": "code",
   "execution_count": 106,
   "id": "d6d986f5",
   "metadata": {},
   "outputs": [
    {
     "data": {
      "text/plain": [
       "array(['Mr.', 'Mrs.', 'Miss.', 'Master.', '', 'Rev.', 'Dr.', 'Mme.',\n",
       "       'Ms.', 'Lady.', 'Sir.', 'Mlle.', 'Col.', 'Capt.',\n",
       "       'the Countess. of'], dtype=object)"
      ]
     },
     "execution_count": 106,
     "metadata": {},
     "output_type": "execute_result"
    }
   ],
   "source": [
    "features['title'].unique()"
   ]
  },
  {
   "cell_type": "markdown",
   "id": "aec038f1",
   "metadata": {},
   "source": [
    "For some records, the function wasn't able to extract. Let's examine it manually -"
   ]
  },
  {
   "cell_type": "code",
   "execution_count": 107,
   "id": "f83ee413",
   "metadata": {},
   "outputs": [
    {
     "data": {
      "text/html": [
       "<div>\n",
       "<style scoped>\n",
       "    .dataframe tbody tr th:only-of-type {\n",
       "        vertical-align: middle;\n",
       "    }\n",
       "\n",
       "    .dataframe tbody tr th {\n",
       "        vertical-align: top;\n",
       "    }\n",
       "\n",
       "    .dataframe thead th {\n",
       "        text-align: right;\n",
       "    }\n",
       "</style>\n",
       "<table border=\"1\" class=\"dataframe\">\n",
       "  <thead>\n",
       "    <tr style=\"text-align: right;\">\n",
       "      <th></th>\n",
       "      <th>Pclass</th>\n",
       "      <th>Name</th>\n",
       "      <th>Age</th>\n",
       "      <th>Fare</th>\n",
       "      <th>Deck</th>\n",
       "      <th>male</th>\n",
       "      <th>Q</th>\n",
       "      <th>S</th>\n",
       "      <th>total_relatives</th>\n",
       "      <th>not_alone</th>\n",
       "      <th>age_bins</th>\n",
       "      <th>title</th>\n",
       "    </tr>\n",
       "  </thead>\n",
       "  <tbody>\n",
       "    <tr>\n",
       "      <th>30</th>\n",
       "      <td>1</td>\n",
       "      <td>Uruchurtu, Don. Manuel E</td>\n",
       "      <td>40.0</td>\n",
       "      <td>27.7208</td>\n",
       "      <td>U</td>\n",
       "      <td>1</td>\n",
       "      <td>0</td>\n",
       "      <td>0</td>\n",
       "      <td>0</td>\n",
       "      <td>0</td>\n",
       "      <td>5</td>\n",
       "      <td></td>\n",
       "    </tr>\n",
       "    <tr>\n",
       "      <th>449</th>\n",
       "      <td>1</td>\n",
       "      <td>Peuchen, Major. Arthur Godfrey</td>\n",
       "      <td>52.0</td>\n",
       "      <td>30.5000</td>\n",
       "      <td>C</td>\n",
       "      <td>1</td>\n",
       "      <td>0</td>\n",
       "      <td>1</td>\n",
       "      <td>0</td>\n",
       "      <td>0</td>\n",
       "      <td>6</td>\n",
       "      <td></td>\n",
       "    </tr>\n",
       "    <tr>\n",
       "      <th>536</th>\n",
       "      <td>1</td>\n",
       "      <td>Butt, Major. Archibald Willingham</td>\n",
       "      <td>45.0</td>\n",
       "      <td>26.5500</td>\n",
       "      <td>B</td>\n",
       "      <td>1</td>\n",
       "      <td>0</td>\n",
       "      <td>1</td>\n",
       "      <td>0</td>\n",
       "      <td>0</td>\n",
       "      <td>5</td>\n",
       "      <td></td>\n",
       "    </tr>\n",
       "    <tr>\n",
       "      <th>822</th>\n",
       "      <td>1</td>\n",
       "      <td>Reuchlin, Jonkheer. John George</td>\n",
       "      <td>38.0</td>\n",
       "      <td>0.0000</td>\n",
       "      <td>U</td>\n",
       "      <td>1</td>\n",
       "      <td>0</td>\n",
       "      <td>1</td>\n",
       "      <td>0</td>\n",
       "      <td>0</td>\n",
       "      <td>5</td>\n",
       "      <td></td>\n",
       "    </tr>\n",
       "  </tbody>\n",
       "</table>\n",
       "</div>"
      ],
      "text/plain": [
       "     Pclass                               Name   Age     Fare Deck  male  Q  \\\n",
       "30        1           Uruchurtu, Don. Manuel E  40.0  27.7208    U     1  0   \n",
       "449       1     Peuchen, Major. Arthur Godfrey  52.0  30.5000    C     1  0   \n",
       "536       1  Butt, Major. Archibald Willingham  45.0  26.5500    B     1  0   \n",
       "822       1    Reuchlin, Jonkheer. John George  38.0   0.0000    U     1  0   \n",
       "\n",
       "     S  total_relatives  not_alone  age_bins title  \n",
       "30   0                0          0         5        \n",
       "449  1                0          0         6        \n",
       "536  1                0          0         5        \n",
       "822  1                0          0         5        "
      ]
     },
     "execution_count": 107,
     "metadata": {},
     "output_type": "execute_result"
    }
   ],
   "source": [
    "features.loc[features['title'] == \"\"]"
   ]
  },
  {
   "cell_type": "markdown",
   "id": "d6ffa0d9",
   "metadata": {},
   "source": [
    "For 4 of these, we can manually update the title."
   ]
  },
  {
   "cell_type": "code",
   "execution_count": 108,
   "id": "41046b56",
   "metadata": {},
   "outputs": [],
   "source": [
    "features.iloc[30,-1] = 'Don'\n",
    "features.iloc[449,-1] = 'Major'\n",
    "features.iloc[536,-1] = 'Major'\n",
    "features.iloc[822,-1] = 'Mr.'"
   ]
  },
  {
   "cell_type": "code",
   "execution_count": 109,
   "id": "0b84f363",
   "metadata": {},
   "outputs": [
    {
     "data": {
      "text/plain": [
       "array(['Mr.', 'Mrs.', 'Miss.', 'Master.', 'Don', 'Rev.', 'Dr.', 'Mme.',\n",
       "       'Ms.', 'Major', 'Lady.', 'Sir.', 'Mlle.', 'Col.', 'Capt.',\n",
       "       'the Countess. of'], dtype=object)"
      ]
     },
     "execution_count": 109,
     "metadata": {},
     "output_type": "execute_result"
    }
   ],
   "source": [
    "features['title'].unique()"
   ]
  },
  {
   "cell_type": "markdown",
   "id": "3db648b2",
   "metadata": {},
   "source": [
    "We can encode the title based on title similarities."
   ]
  },
  {
   "cell_type": "code",
   "execution_count": 110,
   "id": "7a194359",
   "metadata": {},
   "outputs": [],
   "source": [
    "def title_encoding(title):\n",
    "    if title == 'Master.': \n",
    "        return 'boys'\n",
    "    elif title in ['Miss.', 'Ms.','Lady.' ]:\n",
    "        return 'girls'\n",
    "    elif title == 'Mr.':\n",
    "        return 'men'\n",
    "    elif title in ['Mrs.','Mme.']:\n",
    "        return 'women'\n",
    "    else:\n",
    "        return 'vip'"
   ]
  },
  {
   "cell_type": "code",
   "execution_count": 111,
   "id": "b37545f8",
   "metadata": {},
   "outputs": [
    {
     "data": {
      "text/html": [
       "<div>\n",
       "<style scoped>\n",
       "    .dataframe tbody tr th:only-of-type {\n",
       "        vertical-align: middle;\n",
       "    }\n",
       "\n",
       "    .dataframe tbody tr th {\n",
       "        vertical-align: top;\n",
       "    }\n",
       "\n",
       "    .dataframe thead th {\n",
       "        text-align: right;\n",
       "    }\n",
       "</style>\n",
       "<table border=\"1\" class=\"dataframe\">\n",
       "  <thead>\n",
       "    <tr style=\"text-align: right;\">\n",
       "      <th></th>\n",
       "      <th>Pclass</th>\n",
       "      <th>Name</th>\n",
       "      <th>Age</th>\n",
       "      <th>Fare</th>\n",
       "      <th>Deck</th>\n",
       "      <th>male</th>\n",
       "      <th>Q</th>\n",
       "      <th>S</th>\n",
       "      <th>total_relatives</th>\n",
       "      <th>not_alone</th>\n",
       "      <th>age_bins</th>\n",
       "      <th>title</th>\n",
       "    </tr>\n",
       "  </thead>\n",
       "  <tbody>\n",
       "    <tr>\n",
       "      <th>0</th>\n",
       "      <td>3</td>\n",
       "      <td>Braund, Mr. Owen Harris</td>\n",
       "      <td>22.0</td>\n",
       "      <td>7.2500</td>\n",
       "      <td>U</td>\n",
       "      <td>1</td>\n",
       "      <td>0</td>\n",
       "      <td>1</td>\n",
       "      <td>1</td>\n",
       "      <td>1</td>\n",
       "      <td>1</td>\n",
       "      <td>men</td>\n",
       "    </tr>\n",
       "    <tr>\n",
       "      <th>1</th>\n",
       "      <td>1</td>\n",
       "      <td>Cumings, Mrs. John Bradley (Florence Briggs Th...</td>\n",
       "      <td>38.0</td>\n",
       "      <td>71.2833</td>\n",
       "      <td>C</td>\n",
       "      <td>0</td>\n",
       "      <td>0</td>\n",
       "      <td>0</td>\n",
       "      <td>1</td>\n",
       "      <td>1</td>\n",
       "      <td>5</td>\n",
       "      <td>women</td>\n",
       "    </tr>\n",
       "    <tr>\n",
       "      <th>2</th>\n",
       "      <td>3</td>\n",
       "      <td>Heikkinen, Miss. Laina</td>\n",
       "      <td>26.0</td>\n",
       "      <td>7.9250</td>\n",
       "      <td>U</td>\n",
       "      <td>0</td>\n",
       "      <td>0</td>\n",
       "      <td>1</td>\n",
       "      <td>0</td>\n",
       "      <td>0</td>\n",
       "      <td>3</td>\n",
       "      <td>girls</td>\n",
       "    </tr>\n",
       "  </tbody>\n",
       "</table>\n",
       "</div>"
      ],
      "text/plain": [
       "   Pclass                                               Name   Age     Fare  \\\n",
       "0       3                            Braund, Mr. Owen Harris  22.0   7.2500   \n",
       "1       1  Cumings, Mrs. John Bradley (Florence Briggs Th...  38.0  71.2833   \n",
       "2       3                             Heikkinen, Miss. Laina  26.0   7.9250   \n",
       "\n",
       "  Deck  male  Q  S  total_relatives  not_alone  age_bins  title  \n",
       "0    U     1  0  1                1          1         1    men  \n",
       "1    C     0  0  0                1          1         5  women  \n",
       "2    U     0  0  1                0          0         3  girls  "
      ]
     },
     "execution_count": 111,
     "metadata": {},
     "output_type": "execute_result"
    }
   ],
   "source": [
    "features['title'] = features['title'].apply(title_encoding)\n",
    "features.head(3)"
   ]
  },
  {
   "cell_type": "code",
   "execution_count": 112,
   "id": "95f7cafa",
   "metadata": {},
   "outputs": [
    {
     "data": {
      "text/html": [
       "<div>\n",
       "<style scoped>\n",
       "    .dataframe tbody tr th:only-of-type {\n",
       "        vertical-align: middle;\n",
       "    }\n",
       "\n",
       "    .dataframe tbody tr th {\n",
       "        vertical-align: top;\n",
       "    }\n",
       "\n",
       "    .dataframe thead th {\n",
       "        text-align: right;\n",
       "    }\n",
       "</style>\n",
       "<table border=\"1\" class=\"dataframe\">\n",
       "  <thead>\n",
       "    <tr style=\"text-align: right;\">\n",
       "      <th></th>\n",
       "      <th>Pclass</th>\n",
       "      <th>Name</th>\n",
       "      <th>Age</th>\n",
       "      <th>Fare</th>\n",
       "      <th>Deck</th>\n",
       "      <th>male</th>\n",
       "      <th>Q</th>\n",
       "      <th>S</th>\n",
       "      <th>total_relatives</th>\n",
       "      <th>not_alone</th>\n",
       "      <th>age_bins</th>\n",
       "      <th>girls</th>\n",
       "      <th>men</th>\n",
       "      <th>vip</th>\n",
       "      <th>women</th>\n",
       "    </tr>\n",
       "  </thead>\n",
       "  <tbody>\n",
       "    <tr>\n",
       "      <th>0</th>\n",
       "      <td>3</td>\n",
       "      <td>Braund, Mr. Owen Harris</td>\n",
       "      <td>22.0</td>\n",
       "      <td>7.2500</td>\n",
       "      <td>U</td>\n",
       "      <td>1</td>\n",
       "      <td>0</td>\n",
       "      <td>1</td>\n",
       "      <td>1</td>\n",
       "      <td>1</td>\n",
       "      <td>1</td>\n",
       "      <td>0</td>\n",
       "      <td>1</td>\n",
       "      <td>0</td>\n",
       "      <td>0</td>\n",
       "    </tr>\n",
       "    <tr>\n",
       "      <th>1</th>\n",
       "      <td>1</td>\n",
       "      <td>Cumings, Mrs. John Bradley (Florence Briggs Th...</td>\n",
       "      <td>38.0</td>\n",
       "      <td>71.2833</td>\n",
       "      <td>C</td>\n",
       "      <td>0</td>\n",
       "      <td>0</td>\n",
       "      <td>0</td>\n",
       "      <td>1</td>\n",
       "      <td>1</td>\n",
       "      <td>5</td>\n",
       "      <td>0</td>\n",
       "      <td>0</td>\n",
       "      <td>0</td>\n",
       "      <td>1</td>\n",
       "    </tr>\n",
       "    <tr>\n",
       "      <th>2</th>\n",
       "      <td>3</td>\n",
       "      <td>Heikkinen, Miss. Laina</td>\n",
       "      <td>26.0</td>\n",
       "      <td>7.9250</td>\n",
       "      <td>U</td>\n",
       "      <td>0</td>\n",
       "      <td>0</td>\n",
       "      <td>1</td>\n",
       "      <td>0</td>\n",
       "      <td>0</td>\n",
       "      <td>3</td>\n",
       "      <td>1</td>\n",
       "      <td>0</td>\n",
       "      <td>0</td>\n",
       "      <td>0</td>\n",
       "    </tr>\n",
       "    <tr>\n",
       "      <th>3</th>\n",
       "      <td>1</td>\n",
       "      <td>Futrelle, Mrs. Jacques Heath (Lily May Peel)</td>\n",
       "      <td>35.0</td>\n",
       "      <td>53.1000</td>\n",
       "      <td>C</td>\n",
       "      <td>0</td>\n",
       "      <td>0</td>\n",
       "      <td>1</td>\n",
       "      <td>1</td>\n",
       "      <td>1</td>\n",
       "      <td>4</td>\n",
       "      <td>0</td>\n",
       "      <td>0</td>\n",
       "      <td>0</td>\n",
       "      <td>1</td>\n",
       "    </tr>\n",
       "    <tr>\n",
       "      <th>4</th>\n",
       "      <td>3</td>\n",
       "      <td>Allen, Mr. William Henry</td>\n",
       "      <td>35.0</td>\n",
       "      <td>8.0500</td>\n",
       "      <td>U</td>\n",
       "      <td>1</td>\n",
       "      <td>0</td>\n",
       "      <td>1</td>\n",
       "      <td>0</td>\n",
       "      <td>0</td>\n",
       "      <td>4</td>\n",
       "      <td>0</td>\n",
       "      <td>1</td>\n",
       "      <td>0</td>\n",
       "      <td>0</td>\n",
       "    </tr>\n",
       "  </tbody>\n",
       "</table>\n",
       "</div>"
      ],
      "text/plain": [
       "   Pclass                                               Name   Age     Fare  \\\n",
       "0       3                            Braund, Mr. Owen Harris  22.0   7.2500   \n",
       "1       1  Cumings, Mrs. John Bradley (Florence Briggs Th...  38.0  71.2833   \n",
       "2       3                             Heikkinen, Miss. Laina  26.0   7.9250   \n",
       "3       1       Futrelle, Mrs. Jacques Heath (Lily May Peel)  35.0  53.1000   \n",
       "4       3                           Allen, Mr. William Henry  35.0   8.0500   \n",
       "\n",
       "  Deck  male  Q  S  total_relatives  not_alone  age_bins  girls  men  vip  \\\n",
       "0    U     1  0  1                1          1         1      0    1    0   \n",
       "1    C     0  0  0                1          1         5      0    0    0   \n",
       "2    U     0  0  1                0          0         3      1    0    0   \n",
       "3    C     0  0  1                1          1         4      0    0    0   \n",
       "4    U     1  0  1                0          0         4      0    1    0   \n",
       "\n",
       "   women  \n",
       "0      0  \n",
       "1      1  \n",
       "2      0  \n",
       "3      1  \n",
       "4      0  "
      ]
     },
     "execution_count": 112,
     "metadata": {},
     "output_type": "execute_result"
    }
   ],
   "source": [
    "# Getting dummies for title variable as it is on nominal scale.\n",
    "title_dummy = pd.get_dummies(features['title'], drop_first=True)\n",
    "features = pd.concat([features,title_dummy],axis=1).drop('title',axis=1)\n",
    "features.head()"
   ]
  },
  {
   "cell_type": "markdown",
   "id": "84f34605",
   "metadata": {},
   "source": [
    "Now we can drop the name."
   ]
  },
  {
   "cell_type": "code",
   "execution_count": 113,
   "id": "a6d7c789",
   "metadata": {},
   "outputs": [],
   "source": [
    "features.drop('Name',axis=1,inplace=True)"
   ]
  },
  {
   "cell_type": "markdown",
   "id": "56a7b9ba",
   "metadata": {},
   "source": [
    "#### 8. Creating new feature fare per head."
   ]
  },
  {
   "cell_type": "code",
   "execution_count": 114,
   "id": "8d7c7daf",
   "metadata": {},
   "outputs": [
    {
     "data": {
      "text/plain": [
       "8.0500     43\n",
       "13.0000    42\n",
       "7.8958     38\n",
       "7.7500     34\n",
       "26.0000    31\n",
       "           ..\n",
       "35.0000     1\n",
       "28.5000     1\n",
       "6.2375      1\n",
       "14.0000     1\n",
       "10.5167     1\n",
       "Name: Fare, Length: 248, dtype: int64"
      ]
     },
     "execution_count": 114,
     "metadata": {},
     "output_type": "execute_result"
    }
   ],
   "source": [
    "features['Fare'].value_counts()"
   ]
  },
  {
   "cell_type": "markdown",
   "id": "11e9dce1",
   "metadata": {},
   "source": [
    "It would make quite sense to have fare per passenger. It is quite possible that family booked under one ticket."
   ]
  },
  {
   "cell_type": "code",
   "execution_count": 115,
   "id": "d4542ed6",
   "metadata": {},
   "outputs": [
    {
     "data": {
      "text/html": [
       "<div>\n",
       "<style scoped>\n",
       "    .dataframe tbody tr th:only-of-type {\n",
       "        vertical-align: middle;\n",
       "    }\n",
       "\n",
       "    .dataframe tbody tr th {\n",
       "        vertical-align: top;\n",
       "    }\n",
       "\n",
       "    .dataframe thead th {\n",
       "        text-align: right;\n",
       "    }\n",
       "</style>\n",
       "<table border=\"1\" class=\"dataframe\">\n",
       "  <thead>\n",
       "    <tr style=\"text-align: right;\">\n",
       "      <th></th>\n",
       "      <th>Pclass</th>\n",
       "      <th>Age</th>\n",
       "      <th>Fare</th>\n",
       "      <th>Deck</th>\n",
       "      <th>male</th>\n",
       "      <th>Q</th>\n",
       "      <th>S</th>\n",
       "      <th>total_relatives</th>\n",
       "      <th>not_alone</th>\n",
       "      <th>age_bins</th>\n",
       "      <th>girls</th>\n",
       "      <th>men</th>\n",
       "      <th>vip</th>\n",
       "      <th>women</th>\n",
       "      <th>fare_per_head</th>\n",
       "    </tr>\n",
       "  </thead>\n",
       "  <tbody>\n",
       "    <tr>\n",
       "      <th>0</th>\n",
       "      <td>3</td>\n",
       "      <td>22.0</td>\n",
       "      <td>7.2500</td>\n",
       "      <td>U</td>\n",
       "      <td>1</td>\n",
       "      <td>0</td>\n",
       "      <td>1</td>\n",
       "      <td>1</td>\n",
       "      <td>1</td>\n",
       "      <td>1</td>\n",
       "      <td>0</td>\n",
       "      <td>1</td>\n",
       "      <td>0</td>\n",
       "      <td>0</td>\n",
       "      <td>3.62</td>\n",
       "    </tr>\n",
       "    <tr>\n",
       "      <th>1</th>\n",
       "      <td>1</td>\n",
       "      <td>38.0</td>\n",
       "      <td>71.2833</td>\n",
       "      <td>C</td>\n",
       "      <td>0</td>\n",
       "      <td>0</td>\n",
       "      <td>0</td>\n",
       "      <td>1</td>\n",
       "      <td>1</td>\n",
       "      <td>5</td>\n",
       "      <td>0</td>\n",
       "      <td>0</td>\n",
       "      <td>0</td>\n",
       "      <td>1</td>\n",
       "      <td>35.64</td>\n",
       "    </tr>\n",
       "    <tr>\n",
       "      <th>2</th>\n",
       "      <td>3</td>\n",
       "      <td>26.0</td>\n",
       "      <td>7.9250</td>\n",
       "      <td>U</td>\n",
       "      <td>0</td>\n",
       "      <td>0</td>\n",
       "      <td>1</td>\n",
       "      <td>0</td>\n",
       "      <td>0</td>\n",
       "      <td>3</td>\n",
       "      <td>1</td>\n",
       "      <td>0</td>\n",
       "      <td>0</td>\n",
       "      <td>0</td>\n",
       "      <td>7.92</td>\n",
       "    </tr>\n",
       "    <tr>\n",
       "      <th>3</th>\n",
       "      <td>1</td>\n",
       "      <td>35.0</td>\n",
       "      <td>53.1000</td>\n",
       "      <td>C</td>\n",
       "      <td>0</td>\n",
       "      <td>0</td>\n",
       "      <td>1</td>\n",
       "      <td>1</td>\n",
       "      <td>1</td>\n",
       "      <td>4</td>\n",
       "      <td>0</td>\n",
       "      <td>0</td>\n",
       "      <td>0</td>\n",
       "      <td>1</td>\n",
       "      <td>26.55</td>\n",
       "    </tr>\n",
       "    <tr>\n",
       "      <th>4</th>\n",
       "      <td>3</td>\n",
       "      <td>35.0</td>\n",
       "      <td>8.0500</td>\n",
       "      <td>U</td>\n",
       "      <td>1</td>\n",
       "      <td>0</td>\n",
       "      <td>1</td>\n",
       "      <td>0</td>\n",
       "      <td>0</td>\n",
       "      <td>4</td>\n",
       "      <td>0</td>\n",
       "      <td>1</td>\n",
       "      <td>0</td>\n",
       "      <td>0</td>\n",
       "      <td>8.05</td>\n",
       "    </tr>\n",
       "  </tbody>\n",
       "</table>\n",
       "</div>"
      ],
      "text/plain": [
       "   Pclass   Age     Fare Deck  male  Q  S  total_relatives  not_alone  \\\n",
       "0       3  22.0   7.2500    U     1  0  1                1          1   \n",
       "1       1  38.0  71.2833    C     0  0  0                1          1   \n",
       "2       3  26.0   7.9250    U     0  0  1                0          0   \n",
       "3       1  35.0  53.1000    C     0  0  1                1          1   \n",
       "4       3  35.0   8.0500    U     1  0  1                0          0   \n",
       "\n",
       "   age_bins  girls  men  vip  women  fare_per_head  \n",
       "0         1      0    1    0      0           3.62  \n",
       "1         5      0    0    0      1          35.64  \n",
       "2         3      1    0    0      0           7.92  \n",
       "3         4      0    0    0      1          26.55  \n",
       "4         4      0    1    0      0           8.05  "
      ]
     },
     "execution_count": 115,
     "metadata": {},
     "output_type": "execute_result"
    }
   ],
   "source": [
    "features['fare_per_head'] = np.round(features['Fare'] / (features['total_relatives']+1),2)\n",
    "features.head()"
   ]
  },
  {
   "cell_type": "markdown",
   "id": "7adc66f7",
   "metadata": {},
   "source": [
    "#### 9. Creating new feature Fare_level from Fares."
   ]
  },
  {
   "cell_type": "code",
   "execution_count": 116,
   "id": "98865c21",
   "metadata": {},
   "outputs": [
    {
     "data": {
      "text/plain": [
       "(-0.513, 51.233]      732\n",
       "(51.233, 102.466]     106\n",
       "(102.466, 153.699]     31\n",
       "(204.932, 256.165]     11\n",
       "(256.165, 307.398]      6\n",
       "(461.096, 512.329]      3\n",
       "(153.699, 204.932]      2\n",
       "(307.398, 358.63]       0\n",
       "(358.63, 409.863]       0\n",
       "(409.863, 461.096]      0\n",
       "Name: Fare, dtype: int64"
      ]
     },
     "execution_count": 116,
     "metadata": {},
     "output_type": "execute_result"
    }
   ],
   "source": [
    "pd.cut(features['Fare'],bins=10,include_lowest=True).value_counts()"
   ]
  },
  {
   "cell_type": "markdown",
   "id": "e2625893",
   "metadata": {},
   "source": [
    "From above, we can see there are lot of people belonging to first interval. Let's create bins of our choice."
   ]
  },
  {
   "cell_type": "code",
   "execution_count": 117,
   "id": "787a81dc",
   "metadata": {},
   "outputs": [
    {
     "data": {
      "text/plain": [
       "(5.0, 8.0]        224\n",
       "(10.0, 20.0]      179\n",
       "(20.0, 30.0]      142\n",
       "(50.0, 100.0]     107\n",
       "(8.0, 10.0]        95\n",
       "(30.0, 50.0]       74\n",
       "(100.0, 300.0]     50\n",
       "(-0.001, 5.0]      17\n",
       "(300.0, 515.0]      3\n",
       "Name: Fare, dtype: int64"
      ]
     },
     "execution_count": 117,
     "metadata": {},
     "output_type": "execute_result"
    }
   ],
   "source": [
    "fare_bins = [0,5,8,10,20,30,50,100,300,515]\n",
    "pd.cut(features['Fare'],bins=fare_bins,include_lowest=True).value_counts()"
   ]
  },
  {
   "cell_type": "code",
   "execution_count": 118,
   "id": "71e81bc8",
   "metadata": {},
   "outputs": [
    {
     "data": {
      "text/plain": [
       "OrdinalEncoder(dtype=<class 'numpy.int64'>)"
      ]
     },
     "execution_count": 118,
     "metadata": {},
     "output_type": "execute_result"
    }
   ],
   "source": [
    "features['fare_level'] =  pd.cut(features['Fare'],bins=fare_bins,include_lowest=True)\n",
    "fare_encoder = OrdinalEncoder(dtype=np.int64)\n",
    "fare_encoder.fit(features[['fare_level']])"
   ]
  },
  {
   "cell_type": "code",
   "execution_count": 119,
   "id": "d689b8e1",
   "metadata": {},
   "outputs": [
    {
     "data": {
      "text/plain": [
       "[array([Interval(-0.001, 5.0, closed='right'),\n",
       "        Interval(5.0, 8.0, closed='right'),\n",
       "        Interval(8.0, 10.0, closed='right'),\n",
       "        Interval(10.0, 20.0, closed='right'),\n",
       "        Interval(20.0, 30.0, closed='right'),\n",
       "        Interval(30.0, 50.0, closed='right'),\n",
       "        Interval(50.0, 100.0, closed='right'),\n",
       "        Interval(100.0, 300.0, closed='right'),\n",
       "        Interval(300.0, 515.0, closed='right')], dtype=object)]"
      ]
     },
     "execution_count": 119,
     "metadata": {},
     "output_type": "execute_result"
    }
   ],
   "source": [
    "fare_encoder.categories_"
   ]
  },
  {
   "cell_type": "code",
   "execution_count": 120,
   "id": "b41de986",
   "metadata": {},
   "outputs": [
    {
     "data": {
      "text/html": [
       "<div>\n",
       "<style scoped>\n",
       "    .dataframe tbody tr th:only-of-type {\n",
       "        vertical-align: middle;\n",
       "    }\n",
       "\n",
       "    .dataframe tbody tr th {\n",
       "        vertical-align: top;\n",
       "    }\n",
       "\n",
       "    .dataframe thead th {\n",
       "        text-align: right;\n",
       "    }\n",
       "</style>\n",
       "<table border=\"1\" class=\"dataframe\">\n",
       "  <thead>\n",
       "    <tr style=\"text-align: right;\">\n",
       "      <th></th>\n",
       "      <th>Pclass</th>\n",
       "      <th>Age</th>\n",
       "      <th>Fare</th>\n",
       "      <th>Deck</th>\n",
       "      <th>male</th>\n",
       "      <th>Q</th>\n",
       "      <th>S</th>\n",
       "      <th>total_relatives</th>\n",
       "      <th>not_alone</th>\n",
       "      <th>age_bins</th>\n",
       "      <th>girls</th>\n",
       "      <th>men</th>\n",
       "      <th>vip</th>\n",
       "      <th>women</th>\n",
       "      <th>fare_per_head</th>\n",
       "      <th>fare_level</th>\n",
       "    </tr>\n",
       "  </thead>\n",
       "  <tbody>\n",
       "    <tr>\n",
       "      <th>0</th>\n",
       "      <td>3</td>\n",
       "      <td>22.0</td>\n",
       "      <td>7.2500</td>\n",
       "      <td>U</td>\n",
       "      <td>1</td>\n",
       "      <td>0</td>\n",
       "      <td>1</td>\n",
       "      <td>1</td>\n",
       "      <td>1</td>\n",
       "      <td>1</td>\n",
       "      <td>0</td>\n",
       "      <td>1</td>\n",
       "      <td>0</td>\n",
       "      <td>0</td>\n",
       "      <td>3.62</td>\n",
       "      <td>1</td>\n",
       "    </tr>\n",
       "    <tr>\n",
       "      <th>1</th>\n",
       "      <td>1</td>\n",
       "      <td>38.0</td>\n",
       "      <td>71.2833</td>\n",
       "      <td>C</td>\n",
       "      <td>0</td>\n",
       "      <td>0</td>\n",
       "      <td>0</td>\n",
       "      <td>1</td>\n",
       "      <td>1</td>\n",
       "      <td>5</td>\n",
       "      <td>0</td>\n",
       "      <td>0</td>\n",
       "      <td>0</td>\n",
       "      <td>1</td>\n",
       "      <td>35.64</td>\n",
       "      <td>6</td>\n",
       "    </tr>\n",
       "    <tr>\n",
       "      <th>2</th>\n",
       "      <td>3</td>\n",
       "      <td>26.0</td>\n",
       "      <td>7.9250</td>\n",
       "      <td>U</td>\n",
       "      <td>0</td>\n",
       "      <td>0</td>\n",
       "      <td>1</td>\n",
       "      <td>0</td>\n",
       "      <td>0</td>\n",
       "      <td>3</td>\n",
       "      <td>1</td>\n",
       "      <td>0</td>\n",
       "      <td>0</td>\n",
       "      <td>0</td>\n",
       "      <td>7.92</td>\n",
       "      <td>1</td>\n",
       "    </tr>\n",
       "  </tbody>\n",
       "</table>\n",
       "</div>"
      ],
      "text/plain": [
       "   Pclass   Age     Fare Deck  male  Q  S  total_relatives  not_alone  \\\n",
       "0       3  22.0   7.2500    U     1  0  1                1          1   \n",
       "1       1  38.0  71.2833    C     0  0  0                1          1   \n",
       "2       3  26.0   7.9250    U     0  0  1                0          0   \n",
       "\n",
       "   age_bins  girls  men  vip  women  fare_per_head  fare_level  \n",
       "0         1      0    1    0      0           3.62           1  \n",
       "1         5      0    0    0      1          35.64           6  \n",
       "2         3      1    0    0      0           7.92           1  "
      ]
     },
     "execution_count": 120,
     "metadata": {},
     "output_type": "execute_result"
    }
   ],
   "source": [
    "features['fare_level'] = fare_encoder.transform(features[['fare_level']])\n",
    "features.head(3)"
   ]
  },
  {
   "cell_type": "markdown",
   "id": "44907e23",
   "metadata": {},
   "source": [
    "#### 10. Converting Deck to ordinal measures.\n"
   ]
  },
  {
   "cell_type": "code",
   "execution_count": 121,
   "id": "b1d669e4",
   "metadata": {},
   "outputs": [
    {
     "data": {
      "text/plain": [
       "OrdinalEncoder(dtype=<class 'numpy.int64'>)"
      ]
     },
     "execution_count": 121,
     "metadata": {},
     "output_type": "execute_result"
    }
   ],
   "source": [
    "deck_encoder = OrdinalEncoder(dtype=np.int64)\n",
    "deck_encoder.fit(features[['Deck']])"
   ]
  },
  {
   "cell_type": "code",
   "execution_count": 122,
   "id": "5688b555",
   "metadata": {},
   "outputs": [
    {
     "data": {
      "text/plain": [
       "[array(['A', 'B', 'C', 'D', 'E', 'F', 'G', 'T', 'U'], dtype=object)]"
      ]
     },
     "execution_count": 122,
     "metadata": {},
     "output_type": "execute_result"
    }
   ],
   "source": [
    "deck_encoder.categories_"
   ]
  },
  {
   "cell_type": "code",
   "execution_count": 123,
   "id": "0b3fdc93",
   "metadata": {},
   "outputs": [
    {
     "data": {
      "text/html": [
       "<div>\n",
       "<style scoped>\n",
       "    .dataframe tbody tr th:only-of-type {\n",
       "        vertical-align: middle;\n",
       "    }\n",
       "\n",
       "    .dataframe tbody tr th {\n",
       "        vertical-align: top;\n",
       "    }\n",
       "\n",
       "    .dataframe thead th {\n",
       "        text-align: right;\n",
       "    }\n",
       "</style>\n",
       "<table border=\"1\" class=\"dataframe\">\n",
       "  <thead>\n",
       "    <tr style=\"text-align: right;\">\n",
       "      <th></th>\n",
       "      <th>Pclass</th>\n",
       "      <th>Age</th>\n",
       "      <th>Fare</th>\n",
       "      <th>Deck</th>\n",
       "      <th>male</th>\n",
       "      <th>Q</th>\n",
       "      <th>S</th>\n",
       "      <th>total_relatives</th>\n",
       "      <th>not_alone</th>\n",
       "      <th>age_bins</th>\n",
       "      <th>girls</th>\n",
       "      <th>men</th>\n",
       "      <th>vip</th>\n",
       "      <th>women</th>\n",
       "      <th>fare_per_head</th>\n",
       "      <th>fare_level</th>\n",
       "    </tr>\n",
       "  </thead>\n",
       "  <tbody>\n",
       "    <tr>\n",
       "      <th>0</th>\n",
       "      <td>3</td>\n",
       "      <td>22.0</td>\n",
       "      <td>7.2500</td>\n",
       "      <td>8</td>\n",
       "      <td>1</td>\n",
       "      <td>0</td>\n",
       "      <td>1</td>\n",
       "      <td>1</td>\n",
       "      <td>1</td>\n",
       "      <td>1</td>\n",
       "      <td>0</td>\n",
       "      <td>1</td>\n",
       "      <td>0</td>\n",
       "      <td>0</td>\n",
       "      <td>3.62</td>\n",
       "      <td>1</td>\n",
       "    </tr>\n",
       "    <tr>\n",
       "      <th>1</th>\n",
       "      <td>1</td>\n",
       "      <td>38.0</td>\n",
       "      <td>71.2833</td>\n",
       "      <td>2</td>\n",
       "      <td>0</td>\n",
       "      <td>0</td>\n",
       "      <td>0</td>\n",
       "      <td>1</td>\n",
       "      <td>1</td>\n",
       "      <td>5</td>\n",
       "      <td>0</td>\n",
       "      <td>0</td>\n",
       "      <td>0</td>\n",
       "      <td>1</td>\n",
       "      <td>35.64</td>\n",
       "      <td>6</td>\n",
       "    </tr>\n",
       "    <tr>\n",
       "      <th>2</th>\n",
       "      <td>3</td>\n",
       "      <td>26.0</td>\n",
       "      <td>7.9250</td>\n",
       "      <td>8</td>\n",
       "      <td>0</td>\n",
       "      <td>0</td>\n",
       "      <td>1</td>\n",
       "      <td>0</td>\n",
       "      <td>0</td>\n",
       "      <td>3</td>\n",
       "      <td>1</td>\n",
       "      <td>0</td>\n",
       "      <td>0</td>\n",
       "      <td>0</td>\n",
       "      <td>7.92</td>\n",
       "      <td>1</td>\n",
       "    </tr>\n",
       "  </tbody>\n",
       "</table>\n",
       "</div>"
      ],
      "text/plain": [
       "   Pclass   Age     Fare  Deck  male  Q  S  total_relatives  not_alone  \\\n",
       "0       3  22.0   7.2500     8     1  0  1                1          1   \n",
       "1       1  38.0  71.2833     2     0  0  0                1          1   \n",
       "2       3  26.0   7.9250     8     0  0  1                0          0   \n",
       "\n",
       "   age_bins  girls  men  vip  women  fare_per_head  fare_level  \n",
       "0         1      0    1    0      0           3.62           1  \n",
       "1         5      0    0    0      1          35.64           6  \n",
       "2         3      1    0    0      0           7.92           1  "
      ]
     },
     "execution_count": 123,
     "metadata": {},
     "output_type": "execute_result"
    }
   ],
   "source": [
    "features['Deck'] = deck_encoder.transform(features[['Deck']])\n",
    "features.head(3)"
   ]
  },
  {
   "cell_type": "markdown",
   "id": "4c6a5c00",
   "metadata": {},
   "source": [
    "### Feature Importance Analysis"
   ]
  },
  {
   "cell_type": "markdown",
   "id": "70ef8c47",
   "metadata": {},
   "source": [
    "Let's have feature importance analysis on the basis of Gini Importance using Random Forest Model."
   ]
  },
  {
   "cell_type": "code",
   "execution_count": 124,
   "id": "3963f772",
   "metadata": {},
   "outputs": [
    {
     "data": {
      "text/plain": [
       "RandomForestClassifier(n_estimators=300)"
      ]
     },
     "execution_count": 124,
     "metadata": {},
     "output_type": "execute_result"
    }
   ],
   "source": [
    "target = train_df['Survived']\n",
    "rf_classifier = RandomForestClassifier(n_estimators=300)\n",
    "rf_classifier.fit(features,target)"
   ]
  },
  {
   "cell_type": "code",
   "execution_count": 125,
   "id": "5e298c19",
   "metadata": {},
   "outputs": [
    {
     "data": {
      "text/plain": [
       "array([0.04764712, 0.15618968, 0.12693518, 0.04667851, 0.1176748 ,\n",
       "       0.00736219, 0.01728385, 0.04918463, 0.00811212, 0.06043966,\n",
       "       0.03046342, 0.1254542 , 0.00805915, 0.03024102, 0.1281928 ,\n",
       "       0.04008167])"
      ]
     },
     "execution_count": 125,
     "metadata": {},
     "output_type": "execute_result"
    }
   ],
   "source": [
    "rf_classifier.feature_importances_"
   ]
  },
  {
   "cell_type": "code",
   "execution_count": 126,
   "id": "d5cfe14f",
   "metadata": {},
   "outputs": [
    {
     "data": {
      "text/html": [
       "<div>\n",
       "<style scoped>\n",
       "    .dataframe tbody tr th:only-of-type {\n",
       "        vertical-align: middle;\n",
       "    }\n",
       "\n",
       "    .dataframe tbody tr th {\n",
       "        vertical-align: top;\n",
       "    }\n",
       "\n",
       "    .dataframe thead th {\n",
       "        text-align: right;\n",
       "    }\n",
       "</style>\n",
       "<table border=\"1\" class=\"dataframe\">\n",
       "  <thead>\n",
       "    <tr style=\"text-align: right;\">\n",
       "      <th></th>\n",
       "      <th>Features</th>\n",
       "      <th>Gini Importance</th>\n",
       "    </tr>\n",
       "  </thead>\n",
       "  <tbody>\n",
       "    <tr>\n",
       "      <th>1</th>\n",
       "      <td>Age</td>\n",
       "      <td>0.156190</td>\n",
       "    </tr>\n",
       "    <tr>\n",
       "      <th>14</th>\n",
       "      <td>fare_per_head</td>\n",
       "      <td>0.128193</td>\n",
       "    </tr>\n",
       "    <tr>\n",
       "      <th>2</th>\n",
       "      <td>Fare</td>\n",
       "      <td>0.126935</td>\n",
       "    </tr>\n",
       "    <tr>\n",
       "      <th>11</th>\n",
       "      <td>men</td>\n",
       "      <td>0.125454</td>\n",
       "    </tr>\n",
       "    <tr>\n",
       "      <th>4</th>\n",
       "      <td>male</td>\n",
       "      <td>0.117675</td>\n",
       "    </tr>\n",
       "    <tr>\n",
       "      <th>9</th>\n",
       "      <td>age_bins</td>\n",
       "      <td>0.060440</td>\n",
       "    </tr>\n",
       "    <tr>\n",
       "      <th>7</th>\n",
       "      <td>total_relatives</td>\n",
       "      <td>0.049185</td>\n",
       "    </tr>\n",
       "    <tr>\n",
       "      <th>0</th>\n",
       "      <td>Pclass</td>\n",
       "      <td>0.047647</td>\n",
       "    </tr>\n",
       "    <tr>\n",
       "      <th>3</th>\n",
       "      <td>Deck</td>\n",
       "      <td>0.046679</td>\n",
       "    </tr>\n",
       "    <tr>\n",
       "      <th>15</th>\n",
       "      <td>fare_level</td>\n",
       "      <td>0.040082</td>\n",
       "    </tr>\n",
       "    <tr>\n",
       "      <th>10</th>\n",
       "      <td>girls</td>\n",
       "      <td>0.030463</td>\n",
       "    </tr>\n",
       "    <tr>\n",
       "      <th>13</th>\n",
       "      <td>women</td>\n",
       "      <td>0.030241</td>\n",
       "    </tr>\n",
       "    <tr>\n",
       "      <th>6</th>\n",
       "      <td>S</td>\n",
       "      <td>0.017284</td>\n",
       "    </tr>\n",
       "    <tr>\n",
       "      <th>8</th>\n",
       "      <td>not_alone</td>\n",
       "      <td>0.008112</td>\n",
       "    </tr>\n",
       "    <tr>\n",
       "      <th>12</th>\n",
       "      <td>vip</td>\n",
       "      <td>0.008059</td>\n",
       "    </tr>\n",
       "    <tr>\n",
       "      <th>5</th>\n",
       "      <td>Q</td>\n",
       "      <td>0.007362</td>\n",
       "    </tr>\n",
       "  </tbody>\n",
       "</table>\n",
       "</div>"
      ],
      "text/plain": [
       "           Features  Gini Importance\n",
       "1               Age         0.156190\n",
       "14    fare_per_head         0.128193\n",
       "2              Fare         0.126935\n",
       "11              men         0.125454\n",
       "4              male         0.117675\n",
       "9          age_bins         0.060440\n",
       "7   total_relatives         0.049185\n",
       "0            Pclass         0.047647\n",
       "3              Deck         0.046679\n",
       "15       fare_level         0.040082\n",
       "10            girls         0.030463\n",
       "13            women         0.030241\n",
       "6                 S         0.017284\n",
       "8         not_alone         0.008112\n",
       "12              vip         0.008059\n",
       "5                 Q         0.007362"
      ]
     },
     "execution_count": 126,
     "metadata": {},
     "output_type": "execute_result"
    }
   ],
   "source": [
    "feature_imp = pd.DataFrame({'Features':features.columns,'Gini Importance':rf_classifier.feature_importances_})\n",
    "feature_imp = feature_imp.sort_values('Gini Importance',ascending=False)\n",
    "feature_imp"
   ]
  },
  {
   "cell_type": "code",
   "execution_count": 127,
   "id": "8caaadce",
   "metadata": {},
   "outputs": [
    {
     "data": {
      "image/png": "[encoded data removed]",
      "text/plain": [
       "<Figure size 864x576 with 1 Axes>"
      ]
     },
     "metadata": {},
     "output_type": "display_data"
    }
   ],
   "source": [
    "plt.figure(figsize=(12,8))\n",
    "sns.barplot(y='Features',x='Gini Importance',data=feature_imp)\n",
    "plt.title('Feature Importance Analysis',fontsize=15)\n",
    "plt.show()"
   ]
  },
  {
   "cell_type": "markdown",
   "id": "e3df60d7",
   "metadata": {},
   "source": [
    "From above analysis, we can drop last 4 features namely 'S','vip','not_alone' and 'Q' as they are of lowest importance. "
   ]
  },
  {
   "cell_type": "markdown",
   "id": "76fab9bb",
   "metadata": {},
   "source": [
    "## Model Building"
   ]
  },
  {
   "cell_type": "code",
   "execution_count": 128,
   "id": "3e4d83fb",
   "metadata": {},
   "outputs": [
    {
     "data": {
      "text/plain": [
       "Index(['Pclass', 'Age', 'Fare', 'Deck', 'male', 'total_relatives', 'age_bins',\n",
       "       'girls', 'men', 'women', 'fare_per_head', 'fare_level'],\n",
       "      dtype='object')"
      ]
     },
     "execution_count": 128,
     "metadata": {},
     "output_type": "execute_result"
    }
   ],
   "source": [
    "top_features = features.drop([ 'S','vip','not_alone','Q'],axis=1)\n",
    "top_features.columns"
   ]
  },
  {
   "cell_type": "code",
   "execution_count": 129,
   "id": "a1fba6cc",
   "metadata": {},
   "outputs": [
    {
     "name": "stdout",
     "output_type": "stream",
     "text": [
      "Features shape =  (891, 12)\n",
      "Target shape =  (891, 1)\n"
     ]
    }
   ],
   "source": [
    "X = top_features.to_numpy()\n",
    "y = train_df[['Survived']].to_numpy()\n",
    "print('Features shape = ',X.shape)\n",
    "print('Target shape = ',y.shape)"
   ]
  },
  {
   "cell_type": "markdown",
   "id": "717a7658",
   "metadata": {},
   "source": [
    " Taking a stratified sampling so the model could be tested on data having same proportions as observed in dataset."
   ]
  },
  {
   "cell_type": "code",
   "execution_count": 130,
   "id": "2290c00f",
   "metadata": {},
   "outputs": [
    {
     "data": {
      "text/plain": [
       "((712, 12), (712, 1), (179, 12), (179, 1))"
      ]
     },
     "execution_count": 130,
     "metadata": {},
     "output_type": "execute_result"
    }
   ],
   "source": [
    "X_train, X_test, y_train, y_test = train_test_split(X,y,stratify=y,random_state=1,test_size=0.2)\n",
    "X_train.shape,y_train.shape,X_test.shape,y_test.shape"
   ]
  },
  {
   "cell_type": "code",
   "execution_count": 131,
   "id": "961c644f",
   "metadata": {},
   "outputs": [
    {
     "data": {
      "text/plain": [
       "(array([0, 1], dtype=int64), array([439, 273], dtype=int64))"
      ]
     },
     "execution_count": 131,
     "metadata": {},
     "output_type": "execute_result"
    }
   ],
   "source": [
    "np.unique(y_train,return_counts=True)"
   ]
  },
  {
   "cell_type": "markdown",
   "id": "a52ade88",
   "metadata": {},
   "source": [
    "### 1. Random Forest Classifier"
   ]
  },
  {
   "cell_type": "code",
   "execution_count": 132,
   "id": "2678a55c",
   "metadata": {},
   "outputs": [
    {
     "data": {
      "text/plain": [
       "GridSearchCV(cv=10, estimator=RandomForestClassifier(), n_jobs=-1,\n",
       "             param_grid={'max_depth': [5, 6, 7, 9],\n",
       "                         'min_samples_split': [8, 10, 12, 15, 20],\n",
       "                         'n_estimators': [300, 400, 500]},\n",
       "             scoring='f1')"
      ]
     },
     "execution_count": 132,
     "metadata": {},
     "output_type": "execute_result"
    }
   ],
   "source": [
    "rf_classifier = RandomForestClassifier()\n",
    "param_dic = {'n_estimators':[300,400,500],\n",
    "            'max_depth':[5,6,7,9],\n",
    "            'min_samples_split':[8,10,12,15,20]}\n",
    "grid_search = GridSearchCV(estimator=rf_classifier,param_grid=param_dic,cv=10,n_jobs=-1,scoring='f1')\n",
    "grid_search.fit(X_train,y_train)"
   ]
  },
  {
   "cell_type": "code",
   "execution_count": 133,
   "id": "0a238e3c",
   "metadata": {},
   "outputs": [
    {
     "data": {
      "text/plain": [
       "{'max_depth': 6, 'min_samples_split': 15, 'n_estimators': 500}"
      ]
     },
     "execution_count": 133,
     "metadata": {},
     "output_type": "execute_result"
    }
   ],
   "source": [
    "grid_search.best_params_"
   ]
  },
  {
   "cell_type": "code",
   "execution_count": 134,
   "id": "a81729c9",
   "metadata": {},
   "outputs": [
    {
     "data": {
      "text/plain": [
       "RandomForestClassifier(max_depth=5, min_samples_split=15, n_estimators=500)"
      ]
     },
     "execution_count": 134,
     "metadata": {},
     "output_type": "execute_result"
    }
   ],
   "source": [
    "rf_classifier = RandomForestClassifier(n_estimators=500,max_depth=5,min_samples_split=15)\n",
    "rf_classifier.fit(X_train,y_train)"
   ]
  },
  {
   "cell_type": "code",
   "execution_count": 135,
   "id": "1c588369",
   "metadata": {},
   "outputs": [],
   "source": [
    "rf_preds = rf_classifier.predict(X_test)"
   ]
  },
  {
   "cell_type": "code",
   "execution_count": 136,
   "id": "dced5f76",
   "metadata": {},
   "outputs": [
    {
     "data": {
      "text/plain": [
       "<sklearn.metrics._plot.confusion_matrix.ConfusionMatrixDisplay at 0x142984baa90>"
      ]
     },
     "execution_count": 136,
     "metadata": {},
     "output_type": "execute_result"
    },
    {
     "data": {
      "image/png": "[encoded data removed]",
      "text/plain": [
       "<Figure size 432x288 with 2 Axes>"
      ]
     },
     "metadata": {
      "needs_background": "light"
     },
     "output_type": "display_data"
    }
   ],
   "source": [
    "sns.reset_orig()\n",
    "ConfusionMatrixDisplay.from_predictions(y_test,rf_preds,cmap='magma')"
   ]
  },
  {
   "cell_type": "code",
   "execution_count": 137,
   "id": "f5851e3d",
   "metadata": {},
   "outputs": [
    {
     "name": "stdout",
     "output_type": "stream",
     "text": [
      "              precision    recall  f1-score   support\n",
      "\n",
      "           0       0.85      0.88      0.87       110\n",
      "           1       0.80      0.75      0.78        69\n",
      "\n",
      "    accuracy                           0.83       179\n",
      "   macro avg       0.83      0.82      0.82       179\n",
      "weighted avg       0.83      0.83      0.83       179\n",
      "\n"
     ]
    }
   ],
   "source": [
    "print(classification_report(y_test,rf_preds))"
   ]
  },
  {
   "cell_type": "markdown",
   "id": "4e00af5c",
   "metadata": {},
   "source": [
    "### 2. Naive Bayes"
   ]
  },
  {
   "cell_type": "code",
   "execution_count": 138,
   "id": "bfcbbbe8",
   "metadata": {},
   "outputs": [
    {
     "data": {
      "text/plain": [
       "ComplementNB()"
      ]
     },
     "execution_count": 138,
     "metadata": {},
     "output_type": "execute_result"
    }
   ],
   "source": [
    "nb_classifier = ComplementNB()\n",
    "nb_classifier.fit(X_train,y_train)"
   ]
  },
  {
   "cell_type": "code",
   "execution_count": 139,
   "id": "4e8daaf6",
   "metadata": {},
   "outputs": [],
   "source": [
    "nb_preds = nb_classifier.predict(X_test)"
   ]
  },
  {
   "cell_type": "code",
   "execution_count": 140,
   "id": "77e37108",
   "metadata": {},
   "outputs": [
    {
     "data": {
      "text/plain": [
       "<sklearn.metrics._plot.confusion_matrix.ConfusionMatrixDisplay at 0x1429861fe50>"
      ]
     },
     "execution_count": 140,
     "metadata": {},
     "output_type": "execute_result"
    },
    {
     "data": {
      "image/png": "[encoded data removed]",
      "text/plain": [
       "<Figure size 432x288 with 2 Axes>"
      ]
     },
     "metadata": {
      "needs_background": "light"
     },
     "output_type": "display_data"
    }
   ],
   "source": [
    "ConfusionMatrixDisplay.from_predictions(y_test,nb_preds,cmap='magma')"
   ]
  },
  {
   "cell_type": "code",
   "execution_count": 141,
   "id": "0e4b8948",
   "metadata": {},
   "outputs": [
    {
     "name": "stdout",
     "output_type": "stream",
     "text": [
      "              precision    recall  f1-score   support\n",
      "\n",
      "           0       0.70      0.85      0.77       110\n",
      "           1       0.64      0.42      0.51        69\n",
      "\n",
      "    accuracy                           0.69       179\n",
      "   macro avg       0.67      0.64      0.64       179\n",
      "weighted avg       0.68      0.69      0.67       179\n",
      "\n"
     ]
    }
   ],
   "source": [
    "print(classification_report(y_test,nb_preds))"
   ]
  },
  {
   "cell_type": "markdown",
   "id": "6f32dc51",
   "metadata": {},
   "source": [
    "### 3. SVM classifier"
   ]
  },
  {
   "cell_type": "code",
   "execution_count": 142,
   "id": "2a4e7e58",
   "metadata": {},
   "outputs": [
    {
     "data": {
      "text/plain": [
       "SVC()"
      ]
     },
     "execution_count": 142,
     "metadata": {},
     "output_type": "execute_result"
    }
   ],
   "source": [
    "svm_classifier = SVC()\n",
    "svm_classifier.fit(X_train,y_train)"
   ]
  },
  {
   "cell_type": "code",
   "execution_count": 143,
   "id": "c05d5842",
   "metadata": {},
   "outputs": [],
   "source": [
    "svm_preds = svm_classifier.predict(X_test)"
   ]
  },
  {
   "cell_type": "code",
   "execution_count": 144,
   "id": "b83754ed",
   "metadata": {},
   "outputs": [
    {
     "data": {
      "text/plain": [
       "<sklearn.metrics._plot.confusion_matrix.ConfusionMatrixDisplay at 0x142988d0be0>"
      ]
     },
     "execution_count": 144,
     "metadata": {},
     "output_type": "execute_result"
    },
    {
     "data": {
      "image/png": "[encoded data removed]",
      "text/plain": [
       "<Figure size 432x288 with 2 Axes>"
      ]
     },
     "metadata": {
      "needs_background": "light"
     },
     "output_type": "display_data"
    }
   ],
   "source": [
    "sns.reset_orig()\n",
    "ConfusionMatrixDisplay.from_predictions(y_test,svm_preds,cmap='magma')"
   ]
  },
  {
   "cell_type": "code",
   "execution_count": 145,
   "id": "0f3cb080",
   "metadata": {},
   "outputs": [
    {
     "name": "stdout",
     "output_type": "stream",
     "text": [
      "              precision    recall  f1-score   support\n",
      "\n",
      "           0       0.66      0.92      0.77       110\n",
      "           1       0.65      0.25      0.36        69\n",
      "\n",
      "    accuracy                           0.66       179\n",
      "   macro avg       0.66      0.58      0.56       179\n",
      "weighted avg       0.66      0.66      0.61       179\n",
      "\n"
     ]
    }
   ],
   "source": [
    "print(classification_report(y_test,svm_preds))"
   ]
  },
  {
   "cell_type": "markdown",
   "id": "500332f5",
   "metadata": {},
   "source": [
    "### 4. Decison Tree Classifier"
   ]
  },
  {
   "cell_type": "code",
   "execution_count": 146,
   "id": "6bf9f209",
   "metadata": {},
   "outputs": [
    {
     "data": {
      "text/plain": [
       "DecisionTreeClassifier(max_depth=5, min_samples_split=15)"
      ]
     },
     "execution_count": 146,
     "metadata": {},
     "output_type": "execute_result"
    }
   ],
   "source": [
    "dt_classifier = DecisionTreeClassifier(max_depth=5, min_samples_split=15)\n",
    "dt_classifier.fit(X_train,y_train)"
   ]
  },
  {
   "cell_type": "code",
   "execution_count": 147,
   "id": "3ed6ce2f",
   "metadata": {},
   "outputs": [],
   "source": [
    "dt_preds = dt_classifier.predict(X_test)"
   ]
  },
  {
   "cell_type": "code",
   "execution_count": 148,
   "id": "62480862",
   "metadata": {},
   "outputs": [
    {
     "data": {
      "text/plain": [
       "<sklearn.metrics._plot.confusion_matrix.ConfusionMatrixDisplay at 0x14298cc2700>"
      ]
     },
     "execution_count": 148,
     "metadata": {},
     "output_type": "execute_result"
    },
    {
     "data": {
      "image/png": "[encoded data removed]",
      "text/plain": [
       "<Figure size 432x288 with 2 Axes>"
      ]
     },
     "metadata": {
      "needs_background": "light"
     },
     "output_type": "display_data"
    }
   ],
   "source": [
    "sns.reset_orig()\n",
    "ConfusionMatrixDisplay.from_predictions(y_test,dt_preds,cmap='magma')"
   ]
  },
  {
   "cell_type": "code",
   "execution_count": 149,
   "id": "f4247ee9",
   "metadata": {},
   "outputs": [
    {
     "name": "stdout",
     "output_type": "stream",
     "text": [
      "              precision    recall  f1-score   support\n",
      "\n",
      "           0       0.66      0.92      0.77       110\n",
      "           1       0.65      0.25      0.36        69\n",
      "\n",
      "    accuracy                           0.66       179\n",
      "   macro avg       0.66      0.58      0.56       179\n",
      "weighted avg       0.66      0.66      0.61       179\n",
      "\n"
     ]
    }
   ],
   "source": [
    "print(classification_report(y_test,svm_preds))"
   ]
  },
  {
   "cell_type": "markdown",
   "id": "38794b76",
   "metadata": {},
   "source": [
    "### 5. XGB Classifier"
   ]
  },
  {
   "cell_type": "code",
   "execution_count": 150,
   "id": "436df753",
   "metadata": {},
   "outputs": [],
   "source": [
    "xgb_classifier = XGBClassifier(booster='gbtree',n_estimators=500,\n",
    "                          max_depth=5,min_child_weight=15,\n",
    "                         reg_alpha=1e-05,learning_rate=0.01)"
   ]
  },
  {
   "cell_type": "code",
   "execution_count": 151,
   "id": "12f669d1",
   "metadata": {},
   "outputs": [
    {
     "name": "stdout",
     "output_type": "stream",
     "text": [
      "[08:14:11] WARNING: C:/Users/Administrator/workspace/xgboost-win64_release_1.5.1/src/learner.cc:1115: Starting in XGBoost 1.3.0, the default evaluation metric used with the objective 'binary:logistic' was changed from 'error' to 'logloss'. Explicitly set eval_metric if you'd like to restore the old behavior.\n"
     ]
    },
    {
     "data": {
      "text/plain": [
       "XGBClassifier(base_score=0.5, booster='gbtree', colsample_bylevel=1,\n",
       "              colsample_bynode=1, colsample_bytree=1, enable_categorical=False,\n",
       "              gamma=0, gpu_id=-1, importance_type=None,\n",
       "              interaction_constraints='', learning_rate=0.01, max_delta_step=0,\n",
       "              max_depth=5, min_child_weight=15, missing=nan,\n",
       "              monotone_constraints='()', n_estimators=500, n_jobs=4,\n",
       "              num_parallel_tree=1, predictor='auto', random_state=0,\n",
       "              reg_alpha=1e-05, reg_lambda=1, scale_pos_weight=1, subsample=1,\n",
       "              tree_method='exact', validate_parameters=1, verbosity=None)"
      ]
     },
     "execution_count": 151,
     "metadata": {},
     "output_type": "execute_result"
    }
   ],
   "source": [
    "xgb_classifier.fit(X_train,y_train)"
   ]
  },
  {
   "cell_type": "code",
   "execution_count": 152,
   "id": "a79d4dfc",
   "metadata": {},
   "outputs": [],
   "source": [
    "xgb_preds = xgb_classifier.predict(X_test)"
   ]
  },
  {
   "cell_type": "code",
   "execution_count": 153,
   "id": "22dae29d",
   "metadata": {},
   "outputs": [
    {
     "data": {
      "text/plain": [
       "<sklearn.metrics._plot.confusion_matrix.ConfusionMatrixDisplay at 0x14298e1ca60>"
      ]
     },
     "execution_count": 153,
     "metadata": {},
     "output_type": "execute_result"
    },
    {
     "data": {
      "image/png": "[encoded data removed]",
      "text/plain": [
       "<Figure size 432x288 with 2 Axes>"
      ]
     },
     "metadata": {
      "needs_background": "light"
     },
     "output_type": "display_data"
    }
   ],
   "source": [
    "sns.reset_orig()\n",
    "ConfusionMatrixDisplay.from_predictions(y_test,xgb_preds,cmap='magma')"
   ]
  },
  {
   "cell_type": "code",
   "execution_count": 154,
   "id": "8f473460",
   "metadata": {},
   "outputs": [
    {
     "name": "stdout",
     "output_type": "stream",
     "text": [
      "              precision    recall  f1-score   support\n",
      "\n",
      "           0       0.84      0.89      0.86       110\n",
      "           1       0.81      0.72      0.76        69\n",
      "\n",
      "    accuracy                           0.83       179\n",
      "   macro avg       0.82      0.81      0.81       179\n",
      "weighted avg       0.83      0.83      0.82       179\n",
      "\n"
     ]
    }
   ],
   "source": [
    "print(classification_report(y_test,xgb_preds))"
   ]
  },
  {
   "cell_type": "markdown",
   "id": "fffdbae1",
   "metadata": {},
   "source": [
    "**Conclusion** : Out of all classifier Random Forest Classifier has better f1-score. "
   ]
  },
  {
   "cell_type": "markdown",
   "id": "0f2fbcdc",
   "metadata": {},
   "source": [
    "### ROC curve for Random Forest Model"
   ]
  },
  {
   "cell_type": "code",
   "execution_count": 155,
   "id": "435cc93f",
   "metadata": {},
   "outputs": [
    {
     "data": {
      "image/png": "[encoded data removed]",
      "text/plain": [
       "<Figure size 720x432 with 1 Axes>"
      ]
     },
     "metadata": {
      "needs_background": "light"
     },
     "output_type": "display_data"
    }
   ],
   "source": [
    "rf_probs = rf_classifier.predict_proba(X_test)\n",
    "fpr, tpr, thresholds = roc_curve(y_test,rf_probs[:,1])\n",
    "plt.figure(figsize=(10,6))\n",
    "plt.plot(fpr,tpr,linestyle='-', color='red')\n",
    "plt.plot([0,1],'--')\n",
    "plt.xlabel('False Positive Rate')\n",
    "plt.ylabel('True positive Rate')\n",
    "plt.title('ROC curve of Random Forest Model',fontsize=15)\n",
    "plt.show()"
   ]
  },
  {
   "cell_type": "markdown",
   "id": "8c8216bc",
   "metadata": {},
   "source": [
    "#### AUC score of Random Forest Model"
   ]
  },
  {
   "cell_type": "code",
   "execution_count": 156,
   "id": "a88a6cb9",
   "metadata": {},
   "outputs": [
    {
     "name": "stdout",
     "output_type": "stream",
     "text": [
      "AUC score of the model =  0.8572463768115941\n"
     ]
    }
   ],
   "source": [
    "print('AUC score of the model = ',roc_auc_score(y_test,rf_probs[:,1]))"
   ]
  },
  {
   "cell_type": "markdown",
   "id": "ab655715",
   "metadata": {},
   "source": [
    "### Reshaping test data for predictions"
   ]
  },
  {
   "cell_type": "code",
   "execution_count": 157,
   "id": "8ae970cb",
   "metadata": {},
   "outputs": [
    {
     "data": {
      "text/html": [
       "<div>\n",
       "<style scoped>\n",
       "    .dataframe tbody tr th:only-of-type {\n",
       "        vertical-align: middle;\n",
       "    }\n",
       "\n",
       "    .dataframe tbody tr th {\n",
       "        vertical-align: top;\n",
       "    }\n",
       "\n",
       "    .dataframe thead th {\n",
       "        text-align: right;\n",
       "    }\n",
       "</style>\n",
       "<table border=\"1\" class=\"dataframe\">\n",
       "  <thead>\n",
       "    <tr style=\"text-align: right;\">\n",
       "      <th></th>\n",
       "      <th>Pclass</th>\n",
       "      <th>Name</th>\n",
       "      <th>Sex</th>\n",
       "      <th>Age</th>\n",
       "      <th>SibSp</th>\n",
       "      <th>Parch</th>\n",
       "      <th>Fare</th>\n",
       "      <th>Embarked</th>\n",
       "      <th>Deck</th>\n",
       "    </tr>\n",
       "  </thead>\n",
       "  <tbody>\n",
       "    <tr>\n",
       "      <th>0</th>\n",
       "      <td>3</td>\n",
       "      <td>Kelly, Mr. James</td>\n",
       "      <td>male</td>\n",
       "      <td>34.5</td>\n",
       "      <td>0</td>\n",
       "      <td>0</td>\n",
       "      <td>7.8292</td>\n",
       "      <td>Q</td>\n",
       "      <td>U</td>\n",
       "    </tr>\n",
       "    <tr>\n",
       "      <th>1</th>\n",
       "      <td>3</td>\n",
       "      <td>Wilkes, Mrs. James (Ellen Needs)</td>\n",
       "      <td>female</td>\n",
       "      <td>47.0</td>\n",
       "      <td>1</td>\n",
       "      <td>0</td>\n",
       "      <td>7.0000</td>\n",
       "      <td>S</td>\n",
       "      <td>U</td>\n",
       "    </tr>\n",
       "    <tr>\n",
       "      <th>2</th>\n",
       "      <td>2</td>\n",
       "      <td>Myles, Mr. Thomas Francis</td>\n",
       "      <td>male</td>\n",
       "      <td>62.0</td>\n",
       "      <td>0</td>\n",
       "      <td>0</td>\n",
       "      <td>9.6875</td>\n",
       "      <td>Q</td>\n",
       "      <td>U</td>\n",
       "    </tr>\n",
       "  </tbody>\n",
       "</table>\n",
       "</div>"
      ],
      "text/plain": [
       "   Pclass                              Name     Sex   Age  SibSp  Parch  \\\n",
       "0       3                  Kelly, Mr. James    male  34.5      0      0   \n",
       "1       3  Wilkes, Mrs. James (Ellen Needs)  female  47.0      1      0   \n",
       "2       2         Myles, Mr. Thomas Francis    male  62.0      0      0   \n",
       "\n",
       "     Fare Embarked Deck  \n",
       "0  7.8292        Q    U  \n",
       "1  7.0000        S    U  \n",
       "2  9.6875        Q    U  "
      ]
     },
     "execution_count": 157,
     "metadata": {},
     "output_type": "execute_result"
    }
   ],
   "source": [
    "test_df.head(3)"
   ]
  },
  {
   "cell_type": "code",
   "execution_count": 158,
   "id": "83645af8",
   "metadata": {},
   "outputs": [
    {
     "data": {
      "text/plain": [
       "Index(['Pclass', 'Age', 'Fare', 'Deck', 'male', 'total_relatives', 'age_bins',\n",
       "       'girls', 'men', 'women', 'fare_per_head', 'fare_level'],\n",
       "      dtype='object')"
      ]
     },
     "execution_count": 158,
     "metadata": {},
     "output_type": "execute_result"
    }
   ],
   "source": [
    "# Features used in model training.\n",
    "top_features.columns"
   ]
  },
  {
   "cell_type": "code",
   "execution_count": null,
   "id": "72f7fbba",
   "metadata": {},
   "outputs": [],
   "source": [
    "sex_dummy_test = pd.get_dummies(test_df['Sex'],drop_first=True)\n",
    "test_df = pd.concat([test_df,sex_dummy_test],axis=1).drop('Sex',axis=1)\n",
    "test_df['total_relatives'] = test_df['SibSp'] + test_df['Parch']\n",
    "test_df.drop(['SibSp','Parch'],axis=1,inplace=True)\n",
    "test_df['age_bins'] = pd.cut(test_df['Age'],bins=age_bins,include_lowest=True)\n",
    "test_df['age_bins'] = age_encoder.transform(test_df[['age_bins']])\n",
    "test_df.head()"
   ]
  },
  {
   "cell_type": "code",
   "execution_count": null,
   "id": "b0a27a27",
   "metadata": {},
   "outputs": [],
   "source": [
    "test_df['title'] = test_df['Name'].apply(find_title)\n",
    "test_df['title'].unique()"
   ]
  },
  {
   "cell_type": "code",
   "execution_count": null,
   "id": "b0f09e1b",
   "metadata": {},
   "outputs": [],
   "source": [
    "test_df.query('title == \"\"')"
   ]
  },
  {
   "cell_type": "code",
   "execution_count": null,
   "id": "97e98128",
   "metadata": {},
   "outputs": [],
   "source": [
    "test_df.iloc[414,-1] = 'Mrs.'"
   ]
  },
  {
   "cell_type": "code",
   "execution_count": null,
   "id": "8a230328",
   "metadata": {},
   "outputs": [],
   "source": [
    "test_df.drop('Name',axis=1,inplace=True)"
   ]
  },
  {
   "cell_type": "code",
   "execution_count": null,
   "id": "62d5acf5",
   "metadata": {},
   "outputs": [],
   "source": [
    "test_df['title'] = test_df['title'].apply(title_encoding)\n",
    "title_dummy = pd.get_dummies(test_df['title'],drop_first=True)\n",
    "test_df = pd.concat([test_df,title_dummy],axis=1).drop('title',axis=1)\n",
    "test_df['fare_per_head'] = np.round(test_df['Fare'] / (test_df['total_relatives']+1),2)\n",
    "test_df['fare_level'] = pd.cut(test_df['Fare'],bins=fare_bins,include_lowest=True)\n",
    "test_df['fare_level'] = fare_encoder.transform(test_df[['fare_level']])\n",
    "test_df['Deck'] = deck_encoder.transform(test_df[['Deck']])\n",
    "test_df.head(3)"
   ]
  },
  {
   "cell_type": "code",
   "execution_count": null,
   "id": "a125b1ae",
   "metadata": {},
   "outputs": [],
   "source": [
    "test_df.drop(['vip','Embarked'],axis=1,inplace=True)"
   ]
  },
  {
   "cell_type": "code",
   "execution_count": null,
   "id": "08e32570",
   "metadata": {},
   "outputs": [],
   "source": [
    "test_df.head()"
   ]
  },
  {
   "cell_type": "code",
   "execution_count": null,
   "id": "3c4f1524",
   "metadata": {},
   "outputs": [],
   "source": [
    "top_features.columns == test_df.columns"
   ]
  },
  {
   "cell_type": "markdown",
   "id": "597464d7",
   "metadata": {},
   "source": [
    "Now, the data is in the same format as top_features on which model was trained."
   ]
  },
  {
   "cell_type": "markdown",
   "id": "3b1172c0",
   "metadata": {},
   "source": [
    "### Prediction on test data."
   ]
  },
  {
   "cell_type": "code",
   "execution_count": null,
   "id": "82dd05eb",
   "metadata": {},
   "outputs": [],
   "source": [
    "model_inputs = test_df.to_numpy()\n",
    "model_inputs.shape"
   ]
  },
  {
   "cell_type": "code",
   "execution_count": null,
   "id": "20907b8d",
   "metadata": {},
   "outputs": [],
   "source": [
    "test_pred= rf_classifier.predict(model_inputs)"
   ]
  },
  {
   "cell_type": "code",
   "execution_count": null,
   "id": "9007dec5",
   "metadata": {},
   "outputs": [],
   "source": [
    "pd.Series(test_pred).value_counts()"
   ]
  },
  {
   "cell_type": "code",
   "execution_count": null,
   "id": "ee85606d",
   "metadata": {},
   "outputs": [],
   "source": [
    "test_with_pred.drop('Survived',axis=1,inplace=True)"
   ]
  },
  {
   "cell_type": "code",
   "execution_count": null,
   "id": "2b014a21",
   "metadata": {},
   "outputs": [],
   "source": [
    "test_with_pred = pd.concat([test,pd.Series(test_pred,name='Survived')],axis=1)\n",
    "test_with_pred.head()"
   ]
  },
  {
   "cell_type": "code",
   "execution_count": null,
   "id": "b6e597df",
   "metadata": {},
   "outputs": [],
   "source": [
    "test_with_pred.groupby(['Survived','Sex'])['Survived'].count()"
   ]
  },
  {
   "cell_type": "code",
   "execution_count": null,
   "id": "47bacb00",
   "metadata": {},
   "outputs": [],
   "source": [
    "train.groupby(['Survived','Sex'])['Survived'].count()"
   ]
  },
  {
   "cell_type": "markdown",
   "id": "c32c9e18",
   "metadata": {},
   "source": [
    "The predicted survival seems to be fair as compared to train data."
   ]
  },
  {
   "cell_type": "code",
   "execution_count": null,
   "id": "181703fa",
   "metadata": {},
   "outputs": [],
   "source": [
    "# Exporting csv for submission.\n",
    "df = test_with_pred[['PassengerId','Survived']]\n",
    "df.to_csv('Submisssion.csv',index=False)"
   ]
  },
  {
   "cell_type": "code",
   "execution_count": null,
   "id": "3fde524e",
   "metadata": {},
   "outputs": [],
   "source": []
  }
 ],
 "metadata": {
  "kernelspec": {
   "display_name": "Python 3 (ipykernel)",
   "language": "python",
   "name": "python3"
  },
  "language_info": {
   "codemirror_mode": {
    "name": "ipython",
    "version": 3
   },
   "file_extension": ".py",
   "mimetype": "text/x-python",
   "name": "python",
   "nbconvert_exporter": "python",
   "pygments_lexer": "ipython3",
   "version": "3.9.7"
  }
 },
 "nbformat": 4,
 "nbformat_minor": 5
}
